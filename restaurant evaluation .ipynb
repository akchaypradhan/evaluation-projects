{
 "cells": [
  {
   "cell_type": "markdown",
   "metadata": {},
   "source": [
    "# loading the datasets"
   ]
  },
  {
   "cell_type": "code",
   "execution_count": 1,
   "metadata": {},
   "outputs": [],
   "source": [
    "import pandas as pd\n",
    "import numpy as np\n",
    "import matplotlib.pyplot as plt\n",
    "import seaborn as sns\n",
    "import warnings\n",
    "warnings.filterwarnings('ignore')"
   ]
  },
  {
   "cell_type": "markdown",
   "metadata": {},
   "source": [
    "# loading the datasets"
   ]
  },
  {
   "cell_type": "code",
   "execution_count": 2,
   "metadata": {},
   "outputs": [
    {
     "data": {
      "text/html": [
       "<div>\n",
       "<style scoped>\n",
       "    .dataframe tbody tr th:only-of-type {\n",
       "        vertical-align: middle;\n",
       "    }\n",
       "\n",
       "    .dataframe tbody tr th {\n",
       "        vertical-align: top;\n",
       "    }\n",
       "\n",
       "    .dataframe thead th {\n",
       "        text-align: right;\n",
       "    }\n",
       "</style>\n",
       "<table border=\"1\" class=\"dataframe\">\n",
       "  <thead>\n",
       "    <tr style=\"text-align: right;\">\n",
       "      <th></th>\n",
       "      <th>TITLE</th>\n",
       "      <th>RESTAURANT_ID</th>\n",
       "      <th>CUISINES</th>\n",
       "      <th>TIME</th>\n",
       "      <th>CITY</th>\n",
       "      <th>LOCALITY</th>\n",
       "      <th>RATING</th>\n",
       "      <th>VOTES</th>\n",
       "      <th>COST</th>\n",
       "    </tr>\n",
       "  </thead>\n",
       "  <tbody>\n",
       "    <tr>\n",
       "      <th>0</th>\n",
       "      <td>CASUAL DINING</td>\n",
       "      <td>9438</td>\n",
       "      <td>Malwani, Goan, North Indian</td>\n",
       "      <td>11am – 4pm, 7:30pm – 11:30pm (Mon-Sun)</td>\n",
       "      <td>Thane</td>\n",
       "      <td>Dombivali East</td>\n",
       "      <td>3.6</td>\n",
       "      <td>49 votes</td>\n",
       "      <td>1200</td>\n",
       "    </tr>\n",
       "    <tr>\n",
       "      <th>1</th>\n",
       "      <td>CASUAL DINING,BAR</td>\n",
       "      <td>13198</td>\n",
       "      <td>Asian, Modern Indian, Japanese</td>\n",
       "      <td>6pm – 11pm (Mon-Sun)</td>\n",
       "      <td>Chennai</td>\n",
       "      <td>Ramapuram</td>\n",
       "      <td>4.2</td>\n",
       "      <td>30 votes</td>\n",
       "      <td>1500</td>\n",
       "    </tr>\n",
       "    <tr>\n",
       "      <th>2</th>\n",
       "      <td>CASUAL DINING</td>\n",
       "      <td>10915</td>\n",
       "      <td>North Indian, Chinese, Biryani, Hyderabadi</td>\n",
       "      <td>11am – 3:30pm, 7pm – 11pm (Mon-Sun)</td>\n",
       "      <td>Chennai</td>\n",
       "      <td>Saligramam</td>\n",
       "      <td>3.8</td>\n",
       "      <td>221 votes</td>\n",
       "      <td>800</td>\n",
       "    </tr>\n",
       "    <tr>\n",
       "      <th>3</th>\n",
       "      <td>QUICK BITES</td>\n",
       "      <td>6346</td>\n",
       "      <td>Tibetan, Chinese</td>\n",
       "      <td>11:30am – 1am (Mon-Sun)</td>\n",
       "      <td>Mumbai</td>\n",
       "      <td>Bandra West</td>\n",
       "      <td>4.1</td>\n",
       "      <td>24 votes</td>\n",
       "      <td>800</td>\n",
       "    </tr>\n",
       "    <tr>\n",
       "      <th>4</th>\n",
       "      <td>DESSERT PARLOR</td>\n",
       "      <td>15387</td>\n",
       "      <td>Desserts</td>\n",
       "      <td>11am – 1am (Mon-Sun)</td>\n",
       "      <td>Mumbai</td>\n",
       "      <td>Lower Parel</td>\n",
       "      <td>3.8</td>\n",
       "      <td>165 votes</td>\n",
       "      <td>300</td>\n",
       "    </tr>\n",
       "  </tbody>\n",
       "</table>\n",
       "</div>"
      ],
      "text/plain": [
       "               TITLE  RESTAURANT_ID  \\\n",
       "0      CASUAL DINING           9438   \n",
       "1  CASUAL DINING,BAR          13198   \n",
       "2      CASUAL DINING          10915   \n",
       "3        QUICK BITES           6346   \n",
       "4     DESSERT PARLOR          15387   \n",
       "\n",
       "                                     CUISINES  \\\n",
       "0                 Malwani, Goan, North Indian   \n",
       "1              Asian, Modern Indian, Japanese   \n",
       "2  North Indian, Chinese, Biryani, Hyderabadi   \n",
       "3                            Tibetan, Chinese   \n",
       "4                                    Desserts   \n",
       "\n",
       "                                     TIME     CITY        LOCALITY RATING  \\\n",
       "0  11am – 4pm, 7:30pm – 11:30pm (Mon-Sun)    Thane  Dombivali East    3.6   \n",
       "1                    6pm – 11pm (Mon-Sun)  Chennai       Ramapuram    4.2   \n",
       "2     11am – 3:30pm, 7pm – 11pm (Mon-Sun)  Chennai      Saligramam    3.8   \n",
       "3                 11:30am – 1am (Mon-Sun)   Mumbai     Bandra West    4.1   \n",
       "4                    11am – 1am (Mon-Sun)   Mumbai     Lower Parel    3.8   \n",
       "\n",
       "       VOTES  COST  \n",
       "0   49 votes  1200  \n",
       "1   30 votes  1500  \n",
       "2  221 votes   800  \n",
       "3   24 votes   800  \n",
       "4  165 votes   300  "
      ]
     },
     "execution_count": 2,
     "metadata": {},
     "output_type": "execute_result"
    }
   ],
   "source": [
    "#loading the train dataset\n",
    "df=pd.read_excel('Data_Train.xlsx')\n",
    "df.head(5)\n"
   ]
  },
  {
   "cell_type": "code",
   "execution_count": 3,
   "metadata": {},
   "outputs": [
    {
     "data": {
      "text/html": [
       "<div>\n",
       "<style scoped>\n",
       "    .dataframe tbody tr th:only-of-type {\n",
       "        vertical-align: middle;\n",
       "    }\n",
       "\n",
       "    .dataframe tbody tr th {\n",
       "        vertical-align: top;\n",
       "    }\n",
       "\n",
       "    .dataframe thead th {\n",
       "        text-align: right;\n",
       "    }\n",
       "</style>\n",
       "<table border=\"1\" class=\"dataframe\">\n",
       "  <thead>\n",
       "    <tr style=\"text-align: right;\">\n",
       "      <th></th>\n",
       "      <th>TITLE</th>\n",
       "      <th>RESTAURANT_ID</th>\n",
       "      <th>CUISINES</th>\n",
       "      <th>TIME</th>\n",
       "      <th>CITY</th>\n",
       "      <th>LOCALITY</th>\n",
       "      <th>RATING</th>\n",
       "      <th>VOTES</th>\n",
       "    </tr>\n",
       "  </thead>\n",
       "  <tbody>\n",
       "    <tr>\n",
       "      <th>0</th>\n",
       "      <td>CASUAL DINING</td>\n",
       "      <td>4085</td>\n",
       "      <td>North Indian, Chinese, Mughlai, Kebab</td>\n",
       "      <td>12noon – 12midnight (Mon-Sun)</td>\n",
       "      <td>Noida</td>\n",
       "      <td>Sector 18</td>\n",
       "      <td>4.3</td>\n",
       "      <td>564 votes</td>\n",
       "    </tr>\n",
       "    <tr>\n",
       "      <th>1</th>\n",
       "      <td>QUICK BITES</td>\n",
       "      <td>12680</td>\n",
       "      <td>South Indian, Fast Food, Pizza, North Indian</td>\n",
       "      <td>7am – 12:30AM (Mon-Sun)</td>\n",
       "      <td>Mumbai</td>\n",
       "      <td>Grant Road</td>\n",
       "      <td>4.2</td>\n",
       "      <td>61 votes</td>\n",
       "    </tr>\n",
       "    <tr>\n",
       "      <th>2</th>\n",
       "      <td>CASUAL DINING</td>\n",
       "      <td>1411</td>\n",
       "      <td>North Indian, Seafood, Biryani, Chinese</td>\n",
       "      <td>11am – 11:30pm (Mon-Sun)</td>\n",
       "      <td>Mumbai</td>\n",
       "      <td>Marine Lines</td>\n",
       "      <td>3.8</td>\n",
       "      <td>350 votes</td>\n",
       "    </tr>\n",
       "    <tr>\n",
       "      <th>3</th>\n",
       "      <td>None</td>\n",
       "      <td>204</td>\n",
       "      <td>Biryani</td>\n",
       "      <td>9am – 10pm (Mon, Wed, Thu, Fri, Sat, Sun), 10:...</td>\n",
       "      <td>Faridabad</td>\n",
       "      <td>NIT</td>\n",
       "      <td>3.8</td>\n",
       "      <td>1445 votes</td>\n",
       "    </tr>\n",
       "    <tr>\n",
       "      <th>4</th>\n",
       "      <td>QUICK BITES</td>\n",
       "      <td>13453</td>\n",
       "      <td>South Indian, Kerala</td>\n",
       "      <td>11am – 10pm (Mon-Sun)</td>\n",
       "      <td>Kochi</td>\n",
       "      <td>Kaloor</td>\n",
       "      <td>3.6</td>\n",
       "      <td>23 votes</td>\n",
       "    </tr>\n",
       "  </tbody>\n",
       "</table>\n",
       "</div>"
      ],
      "text/plain": [
       "           TITLE  RESTAURANT_ID                                      CUISINES  \\\n",
       "0  CASUAL DINING           4085         North Indian, Chinese, Mughlai, Kebab   \n",
       "1    QUICK BITES          12680  South Indian, Fast Food, Pizza, North Indian   \n",
       "2  CASUAL DINING           1411       North Indian, Seafood, Biryani, Chinese   \n",
       "3           None            204                                       Biryani   \n",
       "4    QUICK BITES          13453                          South Indian, Kerala   \n",
       "\n",
       "                                                TIME       CITY      LOCALITY  \\\n",
       "0                      12noon – 12midnight (Mon-Sun)      Noida     Sector 18   \n",
       "1                            7am – 12:30AM (Mon-Sun)     Mumbai    Grant Road   \n",
       "2                           11am – 11:30pm (Mon-Sun)     Mumbai  Marine Lines   \n",
       "3  9am – 10pm (Mon, Wed, Thu, Fri, Sat, Sun), 10:...  Faridabad           NIT   \n",
       "4                              11am – 10pm (Mon-Sun)      Kochi        Kaloor   \n",
       "\n",
       "  RATING       VOTES  \n",
       "0    4.3   564 votes  \n",
       "1    4.2    61 votes  \n",
       "2    3.8   350 votes  \n",
       "3    3.8  1445 votes  \n",
       "4    3.6    23 votes  "
      ]
     },
     "execution_count": 3,
     "metadata": {},
     "output_type": "execute_result"
    }
   ],
   "source": [
    "#loading the test dataset\n",
    "dft=pd.read_excel('Data_Test.xlsx')\n",
    "dft.head(5)"
   ]
  },
  {
   "cell_type": "markdown",
   "metadata": {},
   "source": [
    "# Features of the data"
   ]
  },
  {
   "cell_type": "markdown",
   "metadata": {},
   "source": [
    "RESTAURANT_ID: A unique ID for each restaurant.\n",
    "\n",
    "CUISINES: The variety of cuisines that the restaurant offers.\n",
    "\n",
    "TIME: The open hours of the restaurant.\n",
    "\n",
    "CITY: The city in which the restaurant is located.\n",
    "\n",
    "LOCALITY: The locality of the restaurant.\n",
    "\n",
    "RATING: The average rating of the restaurant by customers.\n",
    "\n",
    "VOTES: The overall votes received by the restaurant.\n",
    "\n",
    "COST: The average cost of a two-person meal."
   ]
  },
  {
   "cell_type": "markdown",
   "metadata": {},
   "source": [
    "# preprocessing"
   ]
  },
  {
   "cell_type": "code",
   "execution_count": 4,
   "metadata": {},
   "outputs": [
    {
     "name": "stdout",
     "output_type": "stream",
     "text": [
      "df: (12690, 9)\n",
      "\n",
      "\n",
      "dft: (4231, 8)\n"
     ]
    }
   ],
   "source": [
    "#checking the shape of train and test data\n",
    "\n",
    "print('df:',df.shape)\n",
    "print('\\n')\n",
    "print('dft:',dft.shape)"
   ]
  },
  {
   "cell_type": "markdown",
   "metadata": {},
   "source": [
    "# train data"
   ]
  },
  {
   "cell_type": "code",
   "execution_count": 5,
   "metadata": {},
   "outputs": [
    {
     "data": {
      "text/plain": [
       "TITLE            object\n",
       "RESTAURANT_ID     int64\n",
       "CUISINES         object\n",
       "TIME             object\n",
       "CITY             object\n",
       "LOCALITY         object\n",
       "RATING           object\n",
       "VOTES            object\n",
       "COST              int64\n",
       "dtype: object"
      ]
     },
     "execution_count": 5,
     "metadata": {},
     "output_type": "execute_result"
    }
   ],
   "source": [
    "#checking the types of data\n",
    "df.dtypes"
   ]
  },
  {
   "cell_type": "code",
   "execution_count": 6,
   "metadata": {},
   "outputs": [
    {
     "data": {
      "text/plain": [
       "Index(['TITLE', 'RESTAURANT_ID', 'CUISINES', 'TIME', 'CITY', 'LOCALITY',\n",
       "       'RATING', 'VOTES', 'COST'],\n",
       "      dtype='object')"
      ]
     },
     "execution_count": 6,
     "metadata": {},
     "output_type": "execute_result"
    }
   ],
   "source": [
    "#cheking the columns about the data\n",
    "df.columns"
   ]
  },
  {
   "cell_type": "code",
   "execution_count": 7,
   "metadata": {},
   "outputs": [
    {
     "name": "stdout",
     "output_type": "stream",
     "text": [
      "<class 'pandas.core.frame.DataFrame'>\n",
      "RangeIndex: 12690 entries, 0 to 12689\n",
      "Data columns (total 9 columns):\n",
      " #   Column         Non-Null Count  Dtype \n",
      "---  ------         --------------  ----- \n",
      " 0   TITLE          12690 non-null  object\n",
      " 1   RESTAURANT_ID  12690 non-null  int64 \n",
      " 2   CUISINES       12690 non-null  object\n",
      " 3   TIME           12690 non-null  object\n",
      " 4   CITY           12578 non-null  object\n",
      " 5   LOCALITY       12592 non-null  object\n",
      " 6   RATING         12688 non-null  object\n",
      " 7   VOTES          11486 non-null  object\n",
      " 8   COST           12690 non-null  int64 \n",
      "dtypes: int64(2), object(7)\n",
      "memory usage: 892.4+ KB\n"
     ]
    }
   ],
   "source": [
    "#checking the info about the data\n",
    "df.info()"
   ]
  },
  {
   "cell_type": "code",
   "execution_count": 8,
   "metadata": {},
   "outputs": [
    {
     "data": {
      "text/plain": [
       "TITLE               0\n",
       "RESTAURANT_ID       0\n",
       "CUISINES            0\n",
       "TIME                0\n",
       "CITY              112\n",
       "LOCALITY           98\n",
       "RATING              2\n",
       "VOTES            1204\n",
       "COST                0\n",
       "dtype: int64"
      ]
     },
     "execution_count": 8,
     "metadata": {},
     "output_type": "execute_result"
    }
   ],
   "source": [
    "#checking the null values in the data\n",
    "df.isnull().sum()"
   ]
  },
  {
   "cell_type": "code",
   "execution_count": 9,
   "metadata": {},
   "outputs": [
    {
     "data": {
      "text/plain": [
       "<matplotlib.axes._subplots.AxesSubplot at 0x261cdcb9220>"
      ]
     },
     "execution_count": 9,
     "metadata": {},
     "output_type": "execute_result"
    },
    {
     "data": {
      "image/png": "[encoded data removed]",
      "text/plain": [
       "<Figure size 432x288 with 2 Axes>"
      ]
     },
     "metadata": {
      "needs_background": "light"
     },
     "output_type": "display_data"
    }
   ],
   "source": [
    "#using heatmap for better representation of the null values\n",
    "sns.heatmap(df.isnull())"
   ]
  },
  {
   "cell_type": "code",
   "execution_count": 10,
   "metadata": {},
   "outputs": [],
   "source": [
    "#dropping the columns\n",
    "df.drop(columns=['RESTAURANT_ID'],axis=1, inplace=True)"
   ]
  },
  {
   "cell_type": "code",
   "execution_count": 11,
   "metadata": {},
   "outputs": [],
   "source": [
    "#filling the null values \n",
    "df.fillna(method='ffill', inplace=True)"
   ]
  },
  {
   "cell_type": "code",
   "execution_count": 12,
   "metadata": {},
   "outputs": [
    {
     "data": {
      "text/plain": [
       "TITLE       0\n",
       "CUISINES    0\n",
       "TIME        0\n",
       "CITY        0\n",
       "LOCALITY    0\n",
       "RATING      0\n",
       "VOTES       0\n",
       "COST        0\n",
       "dtype: int64"
      ]
     },
     "execution_count": 12,
     "metadata": {},
     "output_type": "execute_result"
    }
   ],
   "source": [
    "df.isnull().sum()"
   ]
  },
  {
   "cell_type": "code",
   "execution_count": 13,
   "metadata": {},
   "outputs": [
    {
     "data": {
      "text/html": [
       "<div>\n",
       "<style scoped>\n",
       "    .dataframe tbody tr th:only-of-type {\n",
       "        vertical-align: middle;\n",
       "    }\n",
       "\n",
       "    .dataframe tbody tr th {\n",
       "        vertical-align: top;\n",
       "    }\n",
       "\n",
       "    .dataframe thead th {\n",
       "        text-align: right;\n",
       "    }\n",
       "</style>\n",
       "<table border=\"1\" class=\"dataframe\">\n",
       "  <thead>\n",
       "    <tr style=\"text-align: right;\">\n",
       "      <th></th>\n",
       "      <th>COST</th>\n",
       "    </tr>\n",
       "  </thead>\n",
       "  <tbody>\n",
       "    <tr>\n",
       "      <th>count</th>\n",
       "      <td>12690.000000</td>\n",
       "    </tr>\n",
       "    <tr>\n",
       "      <th>mean</th>\n",
       "      <td>655.252246</td>\n",
       "    </tr>\n",
       "    <tr>\n",
       "      <th>std</th>\n",
       "      <td>627.003540</td>\n",
       "    </tr>\n",
       "    <tr>\n",
       "      <th>min</th>\n",
       "      <td>20.000000</td>\n",
       "    </tr>\n",
       "    <tr>\n",
       "      <th>25%</th>\n",
       "      <td>300.000000</td>\n",
       "    </tr>\n",
       "    <tr>\n",
       "      <th>50%</th>\n",
       "      <td>500.000000</td>\n",
       "    </tr>\n",
       "    <tr>\n",
       "      <th>75%</th>\n",
       "      <td>800.000000</td>\n",
       "    </tr>\n",
       "    <tr>\n",
       "      <th>max</th>\n",
       "      <td>14000.000000</td>\n",
       "    </tr>\n",
       "  </tbody>\n",
       "</table>\n",
       "</div>"
      ],
      "text/plain": [
       "               COST\n",
       "count  12690.000000\n",
       "mean     655.252246\n",
       "std      627.003540\n",
       "min       20.000000\n",
       "25%      300.000000\n",
       "50%      500.000000\n",
       "75%      800.000000\n",
       "max    14000.000000"
      ]
     },
     "execution_count": 13,
     "metadata": {},
     "output_type": "execute_result"
    }
   ],
   "source": [
    "#describing the dataset\n",
    "df.describe()"
   ]
  },
  {
   "cell_type": "raw",
   "metadata": {},
   "source": [
    "observation:\n",
    "    highest cost is 14000 and the min si 20\n",
    "    "
   ]
  },
  {
   "cell_type": "code",
   "execution_count": 14,
   "metadata": {},
   "outputs": [],
   "source": [
    "#trasnforming the non numerical data into numerical\n",
    "from sklearn.preprocessing import LabelEncoder\n",
    "le=LabelEncoder()\n",
    "\n",
    "list1=['TITLE','CUISINES','TIME','CITY','LOCALITY','RATING','VOTES']\n",
    "for val in list1:\n",
    "    df[val]=le.fit_transform(df[val])"
   ]
  },
  {
   "cell_type": "code",
   "execution_count": 15,
   "metadata": {},
   "outputs": [
    {
     "data": {
      "text/plain": [
       "TITLE       int32\n",
       "CUISINES    int32\n",
       "TIME        int32\n",
       "CITY        int32\n",
       "LOCALITY    int32\n",
       "RATING      int32\n",
       "VOTES       int32\n",
       "COST        int64\n",
       "dtype: object"
      ]
     },
     "execution_count": 15,
     "metadata": {},
     "output_type": "execute_result"
    }
   ],
   "source": [
    "df.dtypes"
   ]
  },
  {
   "cell_type": "code",
   "execution_count": 16,
   "metadata": {},
   "outputs": [
    {
     "data": {
      "text/html": [
       "<div>\n",
       "<style scoped>\n",
       "    .dataframe tbody tr th:only-of-type {\n",
       "        vertical-align: middle;\n",
       "    }\n",
       "\n",
       "    .dataframe tbody tr th {\n",
       "        vertical-align: top;\n",
       "    }\n",
       "\n",
       "    .dataframe thead th {\n",
       "        text-align: right;\n",
       "    }\n",
       "</style>\n",
       "<table border=\"1\" class=\"dataframe\">\n",
       "  <thead>\n",
       "    <tr style=\"text-align: right;\">\n",
       "      <th></th>\n",
       "      <th>TITLE</th>\n",
       "      <th>CUISINES</th>\n",
       "      <th>TIME</th>\n",
       "      <th>CITY</th>\n",
       "      <th>LOCALITY</th>\n",
       "      <th>RATING</th>\n",
       "      <th>VOTES</th>\n",
       "      <th>COST</th>\n",
       "    </tr>\n",
       "  </thead>\n",
       "  <tbody>\n",
       "    <tr>\n",
       "      <th>count</th>\n",
       "      <td>12690.000000</td>\n",
       "      <td>12690.000000</td>\n",
       "      <td>12690.000000</td>\n",
       "      <td>12690.000000</td>\n",
       "      <td>12690.000000</td>\n",
       "      <td>12690.000000</td>\n",
       "      <td>12690.000000</td>\n",
       "      <td>12690.000000</td>\n",
       "    </tr>\n",
       "    <tr>\n",
       "      <th>mean</th>\n",
       "      <td>59.465721</td>\n",
       "      <td>2235.193932</td>\n",
       "      <td>1180.084003</td>\n",
       "      <td>143.022853</td>\n",
       "      <td>655.468006</td>\n",
       "      <td>18.796612</td>\n",
       "      <td>970.233727</td>\n",
       "      <td>655.252246</td>\n",
       "    </tr>\n",
       "    <tr>\n",
       "      <th>std</th>\n",
       "      <td>32.762427</td>\n",
       "      <td>1204.091664</td>\n",
       "      <td>754.459944</td>\n",
       "      <td>84.060389</td>\n",
       "      <td>399.636348</td>\n",
       "      <td>6.182287</td>\n",
       "      <td>502.495369</td>\n",
       "      <td>627.003540</td>\n",
       "    </tr>\n",
       "    <tr>\n",
       "      <th>min</th>\n",
       "      <td>0.000000</td>\n",
       "      <td>0.000000</td>\n",
       "      <td>0.000000</td>\n",
       "      <td>0.000000</td>\n",
       "      <td>0.000000</td>\n",
       "      <td>0.000000</td>\n",
       "      <td>0.000000</td>\n",
       "      <td>20.000000</td>\n",
       "    </tr>\n",
       "    <tr>\n",
       "      <th>25%</th>\n",
       "      <td>31.000000</td>\n",
       "      <td>1185.250000</td>\n",
       "      <td>555.000000</td>\n",
       "      <td>67.000000</td>\n",
       "      <td>337.000000</td>\n",
       "      <td>16.000000</td>\n",
       "      <td>569.000000</td>\n",
       "      <td>300.000000</td>\n",
       "    </tr>\n",
       "    <tr>\n",
       "      <th>50%</th>\n",
       "      <td>59.000000</td>\n",
       "      <td>2416.500000</td>\n",
       "      <td>1123.000000</td>\n",
       "      <td>131.000000</td>\n",
       "      <td>588.000000</td>\n",
       "      <td>19.000000</td>\n",
       "      <td>1021.000000</td>\n",
       "      <td>500.000000</td>\n",
       "    </tr>\n",
       "    <tr>\n",
       "      <th>75%</th>\n",
       "      <td>95.000000</td>\n",
       "      <td>3222.750000</td>\n",
       "      <td>1847.000000</td>\n",
       "      <td>222.000000</td>\n",
       "      <td>1010.000000</td>\n",
       "      <td>22.000000</td>\n",
       "      <td>1381.000000</td>\n",
       "      <td>800.000000</td>\n",
       "    </tr>\n",
       "    <tr>\n",
       "      <th>max</th>\n",
       "      <td>112.000000</td>\n",
       "      <td>4154.000000</td>\n",
       "      <td>2688.000000</td>\n",
       "      <td>358.000000</td>\n",
       "      <td>1415.000000</td>\n",
       "      <td>31.000000</td>\n",
       "      <td>1846.000000</td>\n",
       "      <td>14000.000000</td>\n",
       "    </tr>\n",
       "  </tbody>\n",
       "</table>\n",
       "</div>"
      ],
      "text/plain": [
       "              TITLE      CUISINES          TIME          CITY      LOCALITY  \\\n",
       "count  12690.000000  12690.000000  12690.000000  12690.000000  12690.000000   \n",
       "mean      59.465721   2235.193932   1180.084003    143.022853    655.468006   \n",
       "std       32.762427   1204.091664    754.459944     84.060389    399.636348   \n",
       "min        0.000000      0.000000      0.000000      0.000000      0.000000   \n",
       "25%       31.000000   1185.250000    555.000000     67.000000    337.000000   \n",
       "50%       59.000000   2416.500000   1123.000000    131.000000    588.000000   \n",
       "75%       95.000000   3222.750000   1847.000000    222.000000   1010.000000   \n",
       "max      112.000000   4154.000000   2688.000000    358.000000   1415.000000   \n",
       "\n",
       "             RATING         VOTES          COST  \n",
       "count  12690.000000  12690.000000  12690.000000  \n",
       "mean      18.796612    970.233727    655.252246  \n",
       "std        6.182287    502.495369    627.003540  \n",
       "min        0.000000      0.000000     20.000000  \n",
       "25%       16.000000    569.000000    300.000000  \n",
       "50%       19.000000   1021.000000    500.000000  \n",
       "75%       22.000000   1381.000000    800.000000  \n",
       "max       31.000000   1846.000000  14000.000000  "
      ]
     },
     "execution_count": 16,
     "metadata": {},
     "output_type": "execute_result"
    }
   ],
   "source": [
    "df.describe()"
   ]
  },
  {
   "cell_type": "raw",
   "metadata": {},
   "source": [
    "# key observation:\n",
    "    mean is highest in TIME\n",
    "    min cost resturant is 20 and highest cost resturant is 140000\n",
    "    there is huge difference in 50% and max in cost\n",
    "    cuisines has the highest mean\n",
    "    std is highes in cusines\n",
    "    "
   ]
  },
  {
   "cell_type": "code",
   "execution_count": 17,
   "metadata": {},
   "outputs": [
    {
     "data": {
      "text/html": [
       "<div>\n",
       "<style scoped>\n",
       "    .dataframe tbody tr th:only-of-type {\n",
       "        vertical-align: middle;\n",
       "    }\n",
       "\n",
       "    .dataframe tbody tr th {\n",
       "        vertical-align: top;\n",
       "    }\n",
       "\n",
       "    .dataframe thead th {\n",
       "        text-align: right;\n",
       "    }\n",
       "</style>\n",
       "<table border=\"1\" class=\"dataframe\">\n",
       "  <thead>\n",
       "    <tr style=\"text-align: right;\">\n",
       "      <th></th>\n",
       "      <th>TITLE</th>\n",
       "      <th>CUISINES</th>\n",
       "      <th>TIME</th>\n",
       "      <th>CITY</th>\n",
       "      <th>LOCALITY</th>\n",
       "      <th>RATING</th>\n",
       "      <th>VOTES</th>\n",
       "      <th>COST</th>\n",
       "    </tr>\n",
       "  </thead>\n",
       "  <tbody>\n",
       "    <tr>\n",
       "      <th>TITLE</th>\n",
       "      <td>1.000000</td>\n",
       "      <td>0.244866</td>\n",
       "      <td>0.053914</td>\n",
       "      <td>-0.011426</td>\n",
       "      <td>0.030874</td>\n",
       "      <td>-0.039856</td>\n",
       "      <td>0.005183</td>\n",
       "      <td>-0.263581</td>\n",
       "    </tr>\n",
       "    <tr>\n",
       "      <th>CUISINES</th>\n",
       "      <td>0.244866</td>\n",
       "      <td>1.000000</td>\n",
       "      <td>0.104741</td>\n",
       "      <td>0.024583</td>\n",
       "      <td>0.016005</td>\n",
       "      <td>-0.038273</td>\n",
       "      <td>-0.000036</td>\n",
       "      <td>-0.014078</td>\n",
       "    </tr>\n",
       "    <tr>\n",
       "      <th>TIME</th>\n",
       "      <td>0.053914</td>\n",
       "      <td>0.104741</td>\n",
       "      <td>1.000000</td>\n",
       "      <td>-0.009768</td>\n",
       "      <td>-0.005762</td>\n",
       "      <td>-0.035102</td>\n",
       "      <td>0.007554</td>\n",
       "      <td>0.018248</td>\n",
       "    </tr>\n",
       "    <tr>\n",
       "      <th>CITY</th>\n",
       "      <td>-0.011426</td>\n",
       "      <td>0.024583</td>\n",
       "      <td>-0.009768</td>\n",
       "      <td>1.000000</td>\n",
       "      <td>0.038665</td>\n",
       "      <td>0.027753</td>\n",
       "      <td>0.002365</td>\n",
       "      <td>0.042248</td>\n",
       "    </tr>\n",
       "    <tr>\n",
       "      <th>LOCALITY</th>\n",
       "      <td>0.030874</td>\n",
       "      <td>0.016005</td>\n",
       "      <td>-0.005762</td>\n",
       "      <td>0.038665</td>\n",
       "      <td>1.000000</td>\n",
       "      <td>-0.021672</td>\n",
       "      <td>0.002196</td>\n",
       "      <td>-0.016347</td>\n",
       "    </tr>\n",
       "    <tr>\n",
       "      <th>RATING</th>\n",
       "      <td>-0.039856</td>\n",
       "      <td>-0.038273</td>\n",
       "      <td>-0.035102</td>\n",
       "      <td>0.027753</td>\n",
       "      <td>-0.021672</td>\n",
       "      <td>1.000000</td>\n",
       "      <td>0.005581</td>\n",
       "      <td>0.236855</td>\n",
       "    </tr>\n",
       "    <tr>\n",
       "      <th>VOTES</th>\n",
       "      <td>0.005183</td>\n",
       "      <td>-0.000036</td>\n",
       "      <td>0.007554</td>\n",
       "      <td>0.002365</td>\n",
       "      <td>0.002196</td>\n",
       "      <td>0.005581</td>\n",
       "      <td>1.000000</td>\n",
       "      <td>0.003484</td>\n",
       "    </tr>\n",
       "    <tr>\n",
       "      <th>COST</th>\n",
       "      <td>-0.263581</td>\n",
       "      <td>-0.014078</td>\n",
       "      <td>0.018248</td>\n",
       "      <td>0.042248</td>\n",
       "      <td>-0.016347</td>\n",
       "      <td>0.236855</td>\n",
       "      <td>0.003484</td>\n",
       "      <td>1.000000</td>\n",
       "    </tr>\n",
       "  </tbody>\n",
       "</table>\n",
       "</div>"
      ],
      "text/plain": [
       "             TITLE  CUISINES      TIME      CITY  LOCALITY    RATING  \\\n",
       "TITLE     1.000000  0.244866  0.053914 -0.011426  0.030874 -0.039856   \n",
       "CUISINES  0.244866  1.000000  0.104741  0.024583  0.016005 -0.038273   \n",
       "TIME      0.053914  0.104741  1.000000 -0.009768 -0.005762 -0.035102   \n",
       "CITY     -0.011426  0.024583 -0.009768  1.000000  0.038665  0.027753   \n",
       "LOCALITY  0.030874  0.016005 -0.005762  0.038665  1.000000 -0.021672   \n",
       "RATING   -0.039856 -0.038273 -0.035102  0.027753 -0.021672  1.000000   \n",
       "VOTES     0.005183 -0.000036  0.007554  0.002365  0.002196  0.005581   \n",
       "COST     -0.263581 -0.014078  0.018248  0.042248 -0.016347  0.236855   \n",
       "\n",
       "             VOTES      COST  \n",
       "TITLE     0.005183 -0.263581  \n",
       "CUISINES -0.000036 -0.014078  \n",
       "TIME      0.007554  0.018248  \n",
       "CITY      0.002365  0.042248  \n",
       "LOCALITY  0.002196 -0.016347  \n",
       "RATING    0.005581  0.236855  \n",
       "VOTES     1.000000  0.003484  \n",
       "COST      0.003484  1.000000  "
      ]
     },
     "execution_count": 17,
     "metadata": {},
     "output_type": "execute_result"
    }
   ],
   "source": [
    "#checking the correlations\n",
    "#checking the correlation between columns\n",
    "dfcor=df.corr()\n",
    "dfcor"
   ]
  },
  {
   "cell_type": "code",
   "execution_count": 18,
   "metadata": {},
   "outputs": [
    {
     "data": {
      "text/plain": [
       "<matplotlib.axes._subplots.AxesSubplot at 0x261cda59e50>"
      ]
     },
     "execution_count": 18,
     "metadata": {},
     "output_type": "execute_result"
    },
    {
     "data": {
      "image/png": "[encoded data removed]",
      "text/plain": [
       "<Figure size 1080x432 with 2 Axes>"
      ]
     },
     "metadata": {
      "needs_background": "light"
     },
     "output_type": "display_data"
    }
   ],
   "source": [
    "#plotting the heatmap for better underatanding of correlations\n",
    "plt.figure(figsize=(15,6))\n",
    "sns.heatmap(dfcor,cmap='Blues',annot=True)"
   ]
  },
  {
   "cell_type": "raw",
   "metadata": {},
   "source": [
    "key observations:\n",
    "    darker color represents higher correltions and lighter colore represnts lower correlation\n",
    "    cost and rating has higher correaltion\n",
    "    cost and title has the negative correalation\n",
    "    cuisines and titles have higher correaltions"
   ]
  },
  {
   "cell_type": "markdown",
   "metadata": {},
   "source": [
    "# visualizations:\n",
    "    "
   ]
  },
  {
   "cell_type": "code",
   "execution_count": 19,
   "metadata": {},
   "outputs": [
    {
     "data": {
      "text/plain": [
       "Index(['TITLE', 'CUISINES', 'TIME', 'CITY', 'LOCALITY', 'RATING', 'VOTES',\n",
       "       'COST'],\n",
       "      dtype='object')"
      ]
     },
     "execution_count": 19,
     "metadata": {},
     "output_type": "execute_result"
    }
   ],
   "source": [
    "df.columns"
   ]
  },
  {
   "cell_type": "code",
   "execution_count": 81,
   "metadata": {},
   "outputs": [
    {
     "data": {
      "image/png": "[encoded data removed]",
      "text/plain": [
       "<Figure size 432x288 with 1 Axes>"
      ]
     },
     "metadata": {
      "needs_background": "light"
     },
     "output_type": "display_data"
    },
    {
     "name": "stdout",
     "output_type": "stream",
     "text": [
      "17.320508     1595\n",
      "20.000000     1357\n",
      "22.360680     1300\n",
      "14.142136     1031\n",
      "24.494897      806\n",
      "              ... \n",
      "118.321596       1\n",
      "64.031242        1\n",
      "8.366600         1\n",
      "72.111026        1\n",
      "44.158804        1\n",
      "Name: COST, Length: 86, dtype: int64\n"
     ]
    }
   ],
   "source": [
    "#checking the mean cost\n",
    "\n",
    "COST=df['COST'].hist(bins=40)\n",
    "mean_val =np.mean(df['COST'])\n",
    "plt.axvline(mean_val, linewidth=4,color='red', label='mean cost')\n",
    "plt.xlabel('COST')\n",
    "plt.ylabel('count')\n",
    "plt.legend()\n",
    "plt.show()\n",
    "\n",
    "print(df['COST'].value_counts())\n"
   ]
  },
  {
   "cell_type": "code",
   "execution_count": 78,
   "metadata": {},
   "outputs": [
    {
     "data": {
      "image/png": "[encoded data removed]",
      "text/plain": [
       "<Figure size 432x288 with 1 Axes>"
      ]
     },
     "metadata": {
      "needs_background": "light"
     },
     "output_type": "display_data"
    },
    {
     "name": "stdout",
     "output_type": "stream",
     "text": [
      "342    166\n",
      "430    138\n",
      "484    124\n",
      "309    123\n",
      "397    122\n",
      "      ... \n",
      "396      1\n",
      "388      1\n",
      "380      1\n",
      "332      1\n",
      "0        1\n",
      "Name: LOCALITY, Length: 1416, dtype: int64\n"
     ]
    }
   ],
   "source": [
    "#checking the mean locality\n",
    "\n",
    "\n",
    "COST=df['LOCALITY'].hist(bins=40)\n",
    "mean_val =np.mean(df['LOCALITY'])\n",
    "plt.axvline(mean_val, linewidth=4,color='red', label='mean LOCALITY')\n",
    "plt.xlabel('LOCALITY')\n",
    "plt.ylabel('count')\n",
    "plt.legend()\n",
    "plt.show()\n",
    "\n",
    "print(df['LOCALITY'].value_counts())"
   ]
  },
  {
   "cell_type": "code",
   "execution_count": 79,
   "metadata": {},
   "outputs": [
    {
     "data": {
      "image/png": "[encoded data removed]",
      "text/plain": [
       "<Figure size 432x288 with 1 Axes>"
      ]
     },
     "metadata": {
      "needs_background": "light"
     },
     "output_type": "display_data"
    },
    {
     "name": "stdout",
     "output_type": "stream",
     "text": [
      "555     1415\n",
      "1156     469\n",
      "1123     407\n",
      "596      310\n",
      "99       221\n",
      "        ... \n",
      "5          1\n",
      "2060       1\n",
      "2068       1\n",
      "21         1\n",
      "0          1\n",
      "Name: TIME, Length: 2689, dtype: int64\n"
     ]
    }
   ],
   "source": [
    "#checking the mean time\n",
    "\n",
    "\n",
    "COST=df['TIME'].hist(bins=40)\n",
    "mean_val =np.mean(df['TIME'])\n",
    "plt.axvline(mean_val, linewidth=4,color='red', label='mean TIME')\n",
    "plt.xlabel('TIME')\n",
    "plt.ylabel('count')\n",
    "plt.legend()\n",
    "plt.show()\n",
    "\n",
    "print(df['TIME'].value_counts())"
   ]
  },
  {
   "cell_type": "code",
   "execution_count": 80,
   "metadata": {},
   "outputs": [
    {
     "data": {
      "image/png": "[encoded data removed]",
      "text/plain": [
       "<Figure size 432x288 with 1 Axes>"
      ]
     },
     "metadata": {
      "needs_background": "light"
     },
     "output_type": "display_data"
    },
    {
     "name": "stdout",
     "output_type": "stream",
     "text": [
      "897     78\n",
      "1202    76\n",
      "706     72\n",
      "1059    72\n",
      "1110    71\n",
      "        ..\n",
      "348      1\n",
      "340      1\n",
      "332      1\n",
      "324      1\n",
      "1843     1\n",
      "Name: VOTES, Length: 1847, dtype: int64\n"
     ]
    }
   ],
   "source": [
    "#checking the mean time\n",
    "\n",
    "\n",
    "COST=df['VOTES'].hist(bins=40)\n",
    "mean_val =np.mean(df['VOTES'])\n",
    "plt.axvline(mean_val, linewidth=4,color='red', label='mean VOTES')\n",
    "plt.xlabel('VOTES')\n",
    "plt.ylabel('count')\n",
    "plt.legend()\n",
    "plt.show()\n",
    "\n",
    "print(df['VOTES'].value_counts())"
   ]
  },
  {
   "cell_type": "code",
   "execution_count": 26,
   "metadata": {},
   "outputs": [
    {
     "data": {
      "image/png": "[encoded data removed]",
      "text/plain": [
       "<Figure size 1800x1080 with 1 Axes>"
      ]
     },
     "metadata": {
      "needs_background": "light"
     },
     "output_type": "display_data"
    }
   ],
   "source": [
    "#bivariate analyis\n",
    "plt.figure(figsize=(25,15))\n",
    "mean_COST=np.mean(df['COST'])\n",
    "sns.boxplot(y='COST',x='TITLE',data=df,palette='rainbow')\n",
    "plt.axhline(mean_COST,color='r',linestyle='dashed',linewidth=2)\n",
    "plt.title('TITLE vs COST', fontsize=30)\n",
    "plt.xticks(rotation='vertical')\n",
    "plt.show()"
   ]
  },
  {
   "cell_type": "code",
   "execution_count": 28,
   "metadata": {},
   "outputs": [
    {
     "data": {
      "image/png": "[encoded data removed]",
      "text/plain": [
       "<Figure size 2160x1080 with 1 Axes>"
      ]
     },
     "metadata": {
      "needs_background": "light"
     },
     "output_type": "display_data"
    },
    {
     "name": "stdout",
     "output_type": "stream",
     "text": [
      "95    4218\n",
      "31    3652\n",
      "87    1003\n",
      "22     607\n",
      "50     382\n",
      "      ... \n",
      "18       1\n",
      "14       1\n",
      "37       1\n",
      "49       1\n",
      "85       1\n",
      "Name: TITLE, Length: 113, dtype: int64\n"
     ]
    }
   ],
   "source": [
    "plt.figure(figsize=(30,15))\n",
    "sns.barplot(x='TITLE',y='COST',data=df,palette='rainbow')\n",
    "plt.xticks(rotation='vertical')\n",
    "plt.show()\n",
    "\n",
    "print(df['TITLE'].value_counts())"
   ]
  },
  {
   "cell_type": "raw",
   "metadata": {},
   "source": [
    "observation:\n",
    "    cocktail bar casual dining has the highest cost"
   ]
  },
  {
   "cell_type": "code",
   "execution_count": 29,
   "metadata": {},
   "outputs": [
    {
     "data": {
      "text/plain": [
       "Index(['TITLE', 'CUISINES', 'TIME', 'CITY', 'LOCALITY', 'RATING', 'VOTES',\n",
       "       'COST'],\n",
       "      dtype='object')"
      ]
     },
     "execution_count": 29,
     "metadata": {},
     "output_type": "execute_result"
    }
   ],
   "source": [
    "df.columns"
   ]
  },
  {
   "cell_type": "code",
   "execution_count": 76,
   "metadata": {},
   "outputs": [
    {
     "data": {
      "image/png": "[encoded data removed]",
      "text/plain": [
       "<Figure size 2160x1080 with 1 Axes>"
      ]
     },
     "metadata": {
      "needs_background": "light"
     },
     "output_type": "display_data"
    },
    {
     "name": "stdout",
     "output_type": "stream",
     "text": [
      "2.714418    1238\n",
      "2.668402    1190\n",
      "2.758924    1099\n",
      "2.620741    1087\n",
      "2.571282     951\n",
      "2.802039     936\n",
      "2.519842     771\n",
      "2.843867     723\n",
      "3.141381     708\n",
      "2.466212     575\n",
      "2.884499     556\n",
      "0.000000     495\n",
      "2.410142     365\n",
      "2.924018     362\n",
      "2.351335     266\n",
      "2.962496     199\n",
      "2.154435     186\n",
      "2.289428     186\n",
      "2.223980     170\n",
      "2.080084     146\n",
      "3.000000     141\n",
      "2.000000      89\n",
      "3.036589      69\n",
      "1.912931      61\n",
      "1.817121      35\n",
      "3.072317      32\n",
      "3.107233      22\n",
      "1.709976      15\n",
      "1.587401      10\n",
      "1.259921       3\n",
      "1.000000       2\n",
      "1.442250       2\n",
      "Name: RATING, dtype: int64\n"
     ]
    }
   ],
   "source": [
    "plt.figure(figsize=(30,15))\n",
    "sns.barplot(x='RATING',y='COST',data=df,palette='rainbow')\n",
    "plt.xticks(rotation='vertical')\n",
    "plt.show()\n",
    "\n",
    "print(df['RATING'].value_counts())"
   ]
  },
  {
   "cell_type": "raw",
   "metadata": {},
   "source": [
    "3.0 has the highest ratings"
   ]
  },
  {
   "cell_type": "code",
   "execution_count": 31,
   "metadata": {},
   "outputs": [
    {
     "data": {
      "text/plain": [
       "Index(['TITLE', 'CUISINES', 'TIME', 'CITY', 'LOCALITY', 'RATING', 'VOTES',\n",
       "       'COST'],\n",
       "      dtype='object')"
      ]
     },
     "execution_count": 31,
     "metadata": {},
     "output_type": "execute_result"
    }
   ],
   "source": [
    "df.columns"
   ]
  },
  {
   "cell_type": "code",
   "execution_count": 32,
   "metadata": {},
   "outputs": [
    {
     "data": {
      "text/plain": [
       "<matplotlib.axes._subplots.AxesSubplot at 0x261d2a0e370>"
      ]
     },
     "execution_count": 32,
     "metadata": {},
     "output_type": "execute_result"
    },
    {
     "data": {
      "image/png": "[encoded data removed]",
      "text/plain": [
       "<Figure size 432x288 with 1 Axes>"
      ]
     },
     "metadata": {
      "needs_background": "light"
     },
     "output_type": "display_data"
    }
   ],
   "source": [
    "#checking for outliers using boxplot\n",
    "sns.boxplot(df['TITLE'])"
   ]
  },
  {
   "cell_type": "code",
   "execution_count": 33,
   "metadata": {},
   "outputs": [
    {
     "data": {
      "text/plain": [
       "<matplotlib.axes._subplots.AxesSubplot at 0x261d2bac1f0>"
      ]
     },
     "execution_count": 33,
     "metadata": {},
     "output_type": "execute_result"
    },
    {
     "data": {
      "image/png": "[encoded data removed]",
      "text/plain": [
       "<Figure size 432x288 with 1 Axes>"
      ]
     },
     "metadata": {
      "needs_background": "light"
     },
     "output_type": "display_data"
    }
   ],
   "source": [
    "#checking for outliers using boxplot\n",
    "sns.boxplot(df['CUISINES'])"
   ]
  },
  {
   "cell_type": "code",
   "execution_count": 34,
   "metadata": {},
   "outputs": [
    {
     "data": {
      "text/plain": [
       "<matplotlib.axes._subplots.AxesSubplot at 0x261d2c3cfd0>"
      ]
     },
     "execution_count": 34,
     "metadata": {},
     "output_type": "execute_result"
    },
    {
     "data": {
      "image/png": "[encoded data removed]",
      "text/plain": [
       "<Figure size 432x288 with 1 Axes>"
      ]
     },
     "metadata": {
      "needs_background": "light"
     },
     "output_type": "display_data"
    }
   ],
   "source": [
    "#checking for outliers using boxplot\n",
    "sns.boxplot(df['TIME'])"
   ]
  },
  {
   "cell_type": "code",
   "execution_count": 35,
   "metadata": {},
   "outputs": [
    {
     "data": {
      "text/plain": [
       "<matplotlib.axes._subplots.AxesSubplot at 0x261d2ce7760>"
      ]
     },
     "execution_count": 35,
     "metadata": {},
     "output_type": "execute_result"
    },
    {
     "data": {
      "image/png": "[encoded data removed]",
      "text/plain": [
       "<Figure size 432x288 with 1 Axes>"
      ]
     },
     "metadata": {
      "needs_background": "light"
     },
     "output_type": "display_data"
    }
   ],
   "source": [
    "#checking for outliers using boxplot\n",
    "sns.boxplot(df['CITY'])"
   ]
  },
  {
   "cell_type": "code",
   "execution_count": 36,
   "metadata": {},
   "outputs": [
    {
     "data": {
      "text/plain": [
       "<matplotlib.axes._subplots.AxesSubplot at 0x261cf159be0>"
      ]
     },
     "execution_count": 36,
     "metadata": {},
     "output_type": "execute_result"
    },
    {
     "data": {
      "image/png": "[encoded data removed]",
      "text/plain": [
       "<Figure size 432x288 with 1 Axes>"
      ]
     },
     "metadata": {
      "needs_background": "light"
     },
     "output_type": "display_data"
    }
   ],
   "source": [
    "#checking for outliers using boxplot\n",
    "sns.boxplot(df['LOCALITY'])"
   ]
  },
  {
   "cell_type": "code",
   "execution_count": 37,
   "metadata": {},
   "outputs": [
    {
     "data": {
      "text/plain": [
       "<matplotlib.axes._subplots.AxesSubplot at 0x261d08dca00>"
      ]
     },
     "execution_count": 37,
     "metadata": {},
     "output_type": "execute_result"
    },
    {
     "data": {
      "image/png": "[encoded data removed]",
      "text/plain": [
       "<Figure size 432x288 with 1 Axes>"
      ]
     },
     "metadata": {
      "needs_background": "light"
     },
     "output_type": "display_data"
    }
   ],
   "source": [
    "#checking for outliers using boxplot\n",
    "sns.boxplot(df['RATING'])"
   ]
  },
  {
   "cell_type": "code",
   "execution_count": 38,
   "metadata": {},
   "outputs": [
    {
     "data": {
      "text/plain": [
       "<matplotlib.axes._subplots.AxesSubplot at 0x261dafe7f70>"
      ]
     },
     "execution_count": 38,
     "metadata": {},
     "output_type": "execute_result"
    },
    {
     "data": {
      "image/png": "[encoded data removed]",
      "text/plain": [
       "<Figure size 432x288 with 1 Axes>"
      ]
     },
     "metadata": {
      "needs_background": "light"
     },
     "output_type": "display_data"
    }
   ],
   "source": [
    "#checking for outliers using boxplot\n",
    "sns.boxplot(df['VOTES'])"
   ]
  },
  {
   "cell_type": "code",
   "execution_count": 39,
   "metadata": {},
   "outputs": [
    {
     "data": {
      "text/plain": [
       "TITLE      -0.069803\n",
       "CUISINES   -0.218782\n",
       "TIME        0.306186\n",
       "CITY        0.249769\n",
       "LOCALITY    0.336859\n",
       "RATING     -0.802765\n",
       "VOTES      -0.184958\n",
       "COST        3.978801\n",
       "dtype: float64"
      ]
     },
     "execution_count": 39,
     "metadata": {},
     "output_type": "execute_result"
    }
   ],
   "source": [
    "#checking for skewness\n",
    "df.skew()"
   ]
  },
  {
   "cell_type": "code",
   "execution_count": 40,
   "metadata": {},
   "outputs": [
    {
     "name": "stdout",
     "output_type": "stream",
     "text": [
      "TITLE\n",
      "-0.06979452483055656\n"
     ]
    },
    {
     "data": {
      "image/png": "[encoded data removed]",
      "text/plain": [
       "<Figure size 432x288 with 1 Axes>"
      ]
     },
     "metadata": {
      "needs_background": "light"
     },
     "output_type": "display_data"
    },
    {
     "name": "stdout",
     "output_type": "stream",
     "text": [
      "CUISINES\n",
      "-0.21875595694422817\n"
     ]
    },
    {
     "data": {
      "image/png": "[encoded data removed]",
      "text/plain": [
       "<Figure size 432x288 with 1 Axes>"
      ]
     },
     "metadata": {
      "needs_background": "light"
     },
     "output_type": "display_data"
    },
    {
     "name": "stdout",
     "output_type": "stream",
     "text": [
      "TIME\n",
      "0.30614971456247203\n"
     ]
    },
    {
     "data": {
      "image/png": "[encoded data removed]",
      "text/plain": [
       "<Figure size 432x288 with 1 Axes>"
      ]
     },
     "metadata": {
      "needs_background": "light"
     },
     "output_type": "display_data"
    },
    {
     "name": "stdout",
     "output_type": "stream",
     "text": [
      "CITY\n",
      "0.24973947048512835\n"
     ]
    },
    {
     "data": {
      "image/png": "[encoded data removed]",
      "text/plain": [
       "<Figure size 432x288 with 1 Axes>"
      ]
     },
     "metadata": {
      "needs_background": "light"
     },
     "output_type": "display_data"
    },
    {
     "name": "stdout",
     "output_type": "stream",
     "text": [
      "LOCALITY\n",
      "0.336819306275732\n"
     ]
    },
    {
     "data": {
      "image/png": "[encoded data removed]",
      "text/plain": [
       "<Figure size 432x288 with 1 Axes>"
      ]
     },
     "metadata": {
      "needs_background": "light"
     },
     "output_type": "display_data"
    },
    {
     "name": "stdout",
     "output_type": "stream",
     "text": [
      "RATING\n",
      "-0.8026699467581224\n"
     ]
    },
    {
     "data": {
      "image/png": "[encoded data removed]",
      "text/plain": [
       "<Figure size 432x288 with 1 Axes>"
      ]
     },
     "metadata": {
      "needs_background": "light"
     },
     "output_type": "display_data"
    },
    {
     "name": "stdout",
     "output_type": "stream",
     "text": [
      "VOTES\n",
      "-0.1849363833986237\n"
     ]
    },
    {
     "data": {
      "image/png": "[encoded data removed]",
      "text/plain": [
       "<Figure size 432x288 with 1 Axes>"
      ]
     },
     "metadata": {
      "needs_background": "light"
     },
     "output_type": "display_data"
    },
    {
     "name": "stdout",
     "output_type": "stream",
     "text": [
      "COST\n",
      "3.97833043496353\n"
     ]
    },
    {
     "data": {
      "image/png": "[encoded data removed]",
      "text/plain": [
       "<Figure size 432x288 with 1 Axes>"
      ]
     },
     "metadata": {
      "needs_background": "light"
     },
     "output_type": "display_data"
    }
   ],
   "source": [
    "from scipy.stats import skew\n",
    "for col in df:\n",
    "    print(col)\n",
    "    print(skew(df[col]))\n",
    "    \n",
    "    plt.figure()\n",
    "    sns.distplot(df[col])\n",
    "    plt.show()"
   ]
  },
  {
   "cell_type": "code",
   "execution_count": 41,
   "metadata": {},
   "outputs": [],
   "source": [
    "#treating skewness via Square root method and cube root method\n",
    "df.skew()\n",
    "for col in df.skew().index:\n",
    "    if col in df.describe().columns:\n",
    "        if df[col].skew()>0.65:\n",
    "            df[col]=np.sqrt(df[col])\n",
    "        if df[col].skew()<-0.65:\n",
    "            df[col]=np.cbrt(df[col])"
   ]
  },
  {
   "cell_type": "markdown",
   "metadata": {},
   "source": [
    "# treating outliers"
   ]
  },
  {
   "cell_type": "code",
   "execution_count": 42,
   "metadata": {},
   "outputs": [],
   "source": [
    "#using z-score method to remove outliers\n",
    "from scipy.stats import zscore\n",
    "z=np.abs(zscore(df))\n",
    "threshold=3\n",
    "df_new=df[(z<3).all(axis=1)]"
   ]
  },
  {
   "cell_type": "code",
   "execution_count": 43,
   "metadata": {},
   "outputs": [
    {
     "name": "stdout",
     "output_type": "stream",
     "text": [
      "(array([   13,    84,    85,   156,   178,   208,   235,   253,   308,\n",
      "         329,   337,   369,   374,   379,   392,   396,   422,   428,\n",
      "         438,   452,   453,   455,   469,   473,   480,   502,   508,\n",
      "         563,   577,   604,   615,   625,   644,   690,   731,   749,\n",
      "         751,   772,   787,   831,   838,   839,   874,   911,   919,\n",
      "         949,   966,   967,   973,   981,   993,   994,  1009,  1054,\n",
      "        1126,  1133,  1193,  1196,  1205,  1227,  1287,  1297,  1345,\n",
      "        1365,  1366,  1395,  1468,  1470,  1472,  1475,  1502,  1543,\n",
      "        1555,  1581,  1594,  1596,  1597,  1632,  1635,  1657,  1696,\n",
      "        1701,  1711,  1748,  1759,  1764,  1792,  1806,  1828,  1839,\n",
      "        1855,  1878,  1884,  1884,  1903,  1916,  1930,  1931,  1983,\n",
      "        2025,  2039,  2053,  2082,  2092,  2096,  2100,  2109,  2111,\n",
      "        2115,  2124,  2207,  2251,  2254,  2313,  2327,  2333,  2339,\n",
      "        2349,  2369,  2407,  2434,  2439,  2459,  2479,  2488,  2495,\n",
      "        2500,  2531,  2546,  2572,  2589,  2595,  2602,  2604,  2610,\n",
      "        2613,  2622,  2633,  2656,  2683,  2689,  2695,  2704,  2737,\n",
      "        2740,  2746,  2765,  2892,  2908,  2910,  2930,  2940,  2950,\n",
      "        2960,  2967,  2973,  2979,  2998,  3002,  3023,  3036,  3049,\n",
      "        3063,  3093,  3110,  3111,  3142,  3150,  3197,  3211,  3232,\n",
      "        3246,  3275,  3281,  3309,  3338,  3391,  3396,  3417,  3418,\n",
      "        3428,  3437,  3453,  3457,  3477,  3492,  3501,  3526,  3532,\n",
      "        3550,  3554,  3580,  3603,  3619,  3648,  3666,  3688,  3690,\n",
      "        3692,  3704,  3715,  3720,  3730,  3732,  3748,  3749,  3773,\n",
      "        3777,  3781,  3809,  3830,  3834,  3844,  3845,  3847,  3879,\n",
      "        3891,  3896,  3905,  3925,  3942,  3953,  3962,  3985,  4020,\n",
      "        4021,  4034,  4061,  4066,  4147,  4152,  4158,  4199,  4224,\n",
      "        4273,  4279,  4285,  4291,  4298,  4323,  4334,  4344,  4371,\n",
      "        4400,  4435,  4446,  4459,  4494,  4524,  4554,  4558,  4568,\n",
      "        4584,  4604,  4621,  4656,  4659,  4693,  4697,  4708,  4717,\n",
      "        4728,  4741,  4763,  4800,  4804,  4807,  4822,  4824,  4828,\n",
      "        4854,  4869,  4888,  4904,  4906,  4910,  4931,  4939,  4946,\n",
      "        4970,  4976,  5008,  5040,  5064,  5068,  5070,  5098,  5102,\n",
      "        5106,  5108,  5133,  5136,  5162,  5163,  5173,  5195,  5199,\n",
      "        5202,  5219,  5247,  5264,  5285,  5312,  5353,  5379,  5389,\n",
      "        5406,  5428,  5453,  5459,  5483,  5486,  5490,  5583,  5585,\n",
      "        5588,  5686,  5718,  5744,  5765,  5818,  5837,  5838,  5841,\n",
      "        5843,  5874,  5934,  5944,  5946,  5954,  5975,  5976,  5979,\n",
      "        6017,  6024,  6027,  6033,  6046,  6136,  6154,  6236,  6249,\n",
      "        6252,  6273,  6306,  6323,  6336,  6342,  6343,  6377,  6383,\n",
      "        6385,  6401,  6414,  6423,  6433,  6457,  6469,  6475,  6478,\n",
      "        6491,  6502,  6505,  6517,  6543,  6565,  6609,  6640,  6644,\n",
      "        6692,  6707,  6713,  6758,  6777,  6790,  6792,  6797,  6802,\n",
      "        6804,  6835,  6837,  6838,  6858,  6874,  6880,  6910,  6943,\n",
      "        6949,  6976,  6997,  7023,  7041,  7070,  7073,  7078,  7120,\n",
      "        7160,  7162,  7165,  7179,  7197,  7200,  7203,  7228,  7275,\n",
      "        7294,  7316,  7362,  7364,  7368,  7369,  7376,  7398,  7442,\n",
      "        7448,  7534,  7538,  7572,  7589,  7599,  7600,  7606,  7627,\n",
      "        7630,  7640,  7672,  7695,  7697,  7721,  7775,  7777,  7784,\n",
      "        7785,  7808,  7811,  7822,  7823,  7825,  7861,  7864,  7868,\n",
      "        7874,  7876,  7883,  7901,  7936,  7948,  7956,  7957,  7974,\n",
      "        7992,  8030,  8062,  8065,  8078,  8081,  8106,  8132,  8136,\n",
      "        8143,  8158,  8164,  8171,  8184,  8210,  8234,  8306,  8311,\n",
      "        8415,  8423,  8433,  8449,  8529,  8577,  8585,  8598,  8606,\n",
      "        8634,  8653,  8657,  8659,  8680,  8687,  8697,  8709,  8714,\n",
      "        8727,  8756,  8779,  8799,  8809,  8825,  8827,  8837,  8839,\n",
      "        8847,  8907,  8913,  8930,  8946,  8965,  8973,  9022,  9027,\n",
      "        9058,  9067,  9068,  9069,  9085,  9088,  9100,  9122,  9132,\n",
      "        9194,  9202,  9214,  9226,  9285,  9288,  9308,  9375,  9393,\n",
      "        9467,  9477,  9480,  9487,  9507,  9519,  9557,  9560,  9579,\n",
      "        9580,  9586,  9609,  9612,  9614,  9617,  9653,  9664,  9690,\n",
      "        9692,  9724,  9728,  9748,  9753,  9770,  9775,  9830,  9847,\n",
      "        9884,  9894,  9903,  9905,  9913,  9926,  9951,  9988, 10036,\n",
      "       10043, 10053, 10065, 10086, 10124, 10135, 10143, 10160, 10172,\n",
      "       10182, 10227, 10252, 10255, 10257, 10275, 10278, 10280, 10285,\n",
      "       10289, 10320, 10345, 10355, 10364, 10391, 10429, 10467, 10506,\n",
      "       10515, 10519, 10546, 10560, 10594, 10604, 10627, 10636, 10664,\n",
      "       10673, 10677, 10765, 10767, 10790, 10813, 10873, 10894, 10906,\n",
      "       10907, 10928, 10936, 10948, 10950, 10994, 11017, 11083, 11105,\n",
      "       11120, 11129, 11130, 11131, 11136, 11146, 11147, 11158, 11167,\n",
      "       11175, 11183, 11195, 11229, 11232, 11238, 11251, 11254, 11269,\n",
      "       11272, 11326, 11327, 11374, 11377, 11430, 11438, 11457, 11475,\n",
      "       11495, 11521, 11566, 11568, 11569, 11586, 11587, 11652, 11672,\n",
      "       11704, 11714, 11716, 11717, 11723, 11761, 11765, 11785, 11798,\n",
      "       11801, 11804, 11824, 11832, 11838, 11839, 11842, 11846, 11847,\n",
      "       11856, 11902, 11903, 11905, 11908, 11929, 11936, 11941, 11943,\n",
      "       11952, 11963, 11966, 11972, 11982, 11984, 12111, 12159, 12248,\n",
      "       12251, 12271, 12276, 12282, 12318, 12320, 12346, 12352, 12395,\n",
      "       12413, 12422, 12426, 12477, 12551, 12562, 12568, 12584, 12585,\n",
      "       12591, 12641, 12646], dtype=int64), array([5, 7, 5, 5, 5, 7, 5, 5, 7, 5, 7, 5, 5, 7, 5, 5, 7, 5, 5, 5, 5, 5,\n",
      "       7, 5, 5, 7, 5, 7, 5, 5, 5, 5, 5, 5, 7, 5, 5, 5, 5, 5, 5, 7, 5, 5,\n",
      "       5, 5, 7, 7, 7, 5, 5, 5, 5, 5, 5, 7, 7, 5, 5, 5, 5, 5, 7, 5, 5, 7,\n",
      "       5, 7, 5, 7, 5, 5, 5, 5, 7, 5, 5, 7, 5, 7, 5, 5, 5, 5, 7, 5, 5, 5,\n",
      "       7, 5, 5, 7, 5, 7, 5, 7, 7, 7, 5, 5, 5, 5, 5, 5, 5, 7, 5, 7, 5, 5,\n",
      "       7, 5, 5, 5, 5, 7, 7, 7, 7, 5, 5, 5, 7, 5, 7, 5, 5, 7, 5, 5, 5, 5,\n",
      "       5, 7, 7, 5, 7, 5, 5, 7, 7, 7, 5, 5, 7, 5, 5, 5, 5, 5, 5, 7, 5, 5,\n",
      "       5, 7, 5, 5, 7, 5, 7, 7, 5, 5, 5, 5, 5, 5, 7, 7, 5, 5, 5, 5, 7, 7,\n",
      "       5, 7, 5, 5, 5, 5, 5, 5, 5, 7, 5, 7, 7, 5, 7, 5, 7, 5, 5, 5, 7, 5,\n",
      "       7, 7, 7, 5, 7, 5, 5, 5, 7, 5, 5, 5, 5, 5, 5, 5, 7, 5, 7, 7, 7, 5,\n",
      "       7, 7, 7, 5, 5, 5, 5, 5, 5, 7, 7, 5, 5, 7, 7, 7, 7, 5, 7, 7, 5, 5,\n",
      "       5, 5, 5, 5, 5, 7, 7, 7, 7, 5, 5, 5, 5, 5, 7, 7, 5, 7, 5, 7, 5, 5,\n",
      "       5, 5, 5, 5, 5, 5, 5, 5, 5, 7, 5, 5, 7, 5, 5, 5, 5, 5, 5, 5, 5, 5,\n",
      "       7, 5, 5, 7, 7, 5, 5, 5, 7, 5, 5, 7, 5, 5, 7, 5, 5, 5, 5, 5, 5, 5,\n",
      "       5, 5, 5, 5, 5, 5, 5, 7, 5, 5, 5, 5, 5, 5, 5, 7, 7, 7, 7, 7, 5, 5,\n",
      "       7, 5, 5, 5, 7, 5, 5, 5, 7, 5, 5, 5, 5, 5, 5, 5, 5, 5, 7, 5, 5, 5,\n",
      "       5, 5, 5, 5, 5, 5, 7, 5, 5, 5, 7, 5, 5, 5, 5, 7, 7, 5, 5, 5, 5, 5,\n",
      "       5, 5, 5, 5, 7, 5, 5, 5, 5, 5, 5, 5, 5, 7, 5, 7, 5, 5, 5, 7, 7, 5,\n",
      "       5, 5, 5, 5, 5, 5, 5, 5, 7, 5, 7, 7, 5, 5, 7, 5, 5, 7, 5, 5, 5, 7,\n",
      "       5, 5, 5, 5, 5, 7, 5, 5, 5, 5, 5, 5, 5, 7, 5, 7, 5, 7, 5, 5, 5, 5,\n",
      "       5, 5, 5, 7, 7, 5, 5, 5, 5, 5, 5, 5, 5, 7, 7, 5, 7, 5, 5, 7, 5, 7,\n",
      "       5, 7, 5, 7, 5, 7, 5, 5, 5, 5, 5, 7, 5, 7, 7, 5, 5, 5, 7, 7, 5, 5,\n",
      "       7, 5, 5, 5, 5, 5, 5, 5, 5, 7, 7, 5, 7, 5, 5, 5, 7, 5, 7, 5, 5, 7,\n",
      "       5, 7, 5, 7, 7, 5, 7, 5, 5, 5, 5, 5, 7, 5, 5, 5, 5, 5, 5, 5, 5, 5,\n",
      "       5, 5, 5, 7, 7, 7, 5, 5, 7, 5, 5, 5, 5, 5, 5, 5, 5, 7, 7, 7, 5, 7,\n",
      "       7, 7, 5, 5, 5, 5, 5, 5, 7, 5, 7, 5, 5, 5, 7, 5, 5, 5, 5, 5, 5, 7,\n",
      "       7, 7, 7, 5, 5, 7, 7, 5, 7, 5, 5, 7, 5, 5, 5, 7, 5, 5, 5, 5, 7, 5,\n",
      "       5, 7, 5, 5, 5, 5, 5, 5, 5, 7, 5, 5, 7, 7, 5, 5, 5, 5, 5, 7, 7, 5,\n",
      "       5, 7, 7, 7, 5, 5, 5, 5, 5, 7, 5, 5, 5, 7, 5, 5, 5, 5, 7, 5, 5, 7,\n",
      "       7, 5, 7, 5, 7, 5, 5, 5, 5, 5, 7, 7, 5, 5, 5, 5, 5, 7, 7, 5, 7, 5,\n",
      "       5, 5, 5, 5, 5, 7, 5, 5, 5, 5, 5, 5, 7, 5, 7, 5, 5, 5, 7, 5, 5, 5,\n",
      "       5, 5, 5, 7, 5, 5, 7, 5, 5, 7, 5, 7, 7, 7, 5, 5, 7, 5, 5, 5, 5, 5,\n",
      "       5], dtype=int64))\n"
     ]
    }
   ],
   "source": [
    "threshold=3\n",
    "print(np.where(z>3))"
   ]
  },
  {
   "cell_type": "markdown",
   "metadata": {},
   "source": [
    "# Test data"
   ]
  },
  {
   "cell_type": "code",
   "execution_count": 44,
   "metadata": {},
   "outputs": [
    {
     "data": {
      "text/plain": [
       "TITLE            object\n",
       "RESTAURANT_ID     int64\n",
       "CUISINES         object\n",
       "TIME             object\n",
       "CITY             object\n",
       "LOCALITY         object\n",
       "RATING           object\n",
       "VOTES            object\n",
       "dtype: object"
      ]
     },
     "execution_count": 44,
     "metadata": {},
     "output_type": "execute_result"
    }
   ],
   "source": [
    "#checking the types of data\n",
    "dft.dtypes"
   ]
  },
  {
   "cell_type": "code",
   "execution_count": 45,
   "metadata": {},
   "outputs": [
    {
     "data": {
      "text/plain": [
       "Index(['TITLE', 'RESTAURANT_ID', 'CUISINES', 'TIME', 'CITY', 'LOCALITY',\n",
       "       'RATING', 'VOTES'],\n",
       "      dtype='object')"
      ]
     },
     "execution_count": 45,
     "metadata": {},
     "output_type": "execute_result"
    }
   ],
   "source": [
    "#cheking the columns about the data\n",
    "dft.columns"
   ]
  },
  {
   "cell_type": "code",
   "execution_count": 46,
   "metadata": {},
   "outputs": [
    {
     "name": "stdout",
     "output_type": "stream",
     "text": [
      "<class 'pandas.core.frame.DataFrame'>\n",
      "RangeIndex: 4231 entries, 0 to 4230\n",
      "Data columns (total 8 columns):\n",
      " #   Column         Non-Null Count  Dtype \n",
      "---  ------         --------------  ----- \n",
      " 0   TITLE          4231 non-null   object\n",
      " 1   RESTAURANT_ID  4231 non-null   int64 \n",
      " 2   CUISINES       4231 non-null   object\n",
      " 3   TIME           4231 non-null   object\n",
      " 4   CITY           4196 non-null   object\n",
      " 5   LOCALITY       4201 non-null   object\n",
      " 6   RATING         4229 non-null   object\n",
      " 7   VOTES          3829 non-null   object\n",
      "dtypes: int64(1), object(7)\n",
      "memory usage: 264.6+ KB\n"
     ]
    }
   ],
   "source": [
    "#checking the info about the data\n",
    "dft.info()"
   ]
  },
  {
   "cell_type": "code",
   "execution_count": 47,
   "metadata": {},
   "outputs": [
    {
     "data": {
      "text/plain": [
       "TITLE              0\n",
       "RESTAURANT_ID      0\n",
       "CUISINES           0\n",
       "TIME               0\n",
       "CITY              35\n",
       "LOCALITY          30\n",
       "RATING             2\n",
       "VOTES            402\n",
       "dtype: int64"
      ]
     },
     "execution_count": 47,
     "metadata": {},
     "output_type": "execute_result"
    }
   ],
   "source": [
    "#checking the null values in the data\n",
    "dft.isnull().sum()"
   ]
  },
  {
   "cell_type": "code",
   "execution_count": 48,
   "metadata": {},
   "outputs": [
    {
     "data": {
      "text/plain": [
       "<matplotlib.axes._subplots.AxesSubplot at 0x261cf5d17f0>"
      ]
     },
     "execution_count": 48,
     "metadata": {},
     "output_type": "execute_result"
    },
    {
     "data": {
      "image/png": "[encoded data removed]",
      "text/plain": [
       "<Figure size 432x288 with 2 Axes>"
      ]
     },
     "metadata": {
      "needs_background": "light"
     },
     "output_type": "display_data"
    }
   ],
   "source": [
    "#using heatmap for better representation of the null values\n",
    "sns.heatmap(dft.isnull())"
   ]
  },
  {
   "cell_type": "code",
   "execution_count": 49,
   "metadata": {},
   "outputs": [],
   "source": [
    "#dropping the columns\n",
    "dft.drop(columns=['RESTAURANT_ID'],axis=1, inplace=True)"
   ]
  },
  {
   "cell_type": "code",
   "execution_count": 50,
   "metadata": {},
   "outputs": [],
   "source": [
    "#filling the null values \n",
    "dft.fillna(method='ffill', inplace=True)"
   ]
  },
  {
   "cell_type": "code",
   "execution_count": 51,
   "metadata": {},
   "outputs": [
    {
     "data": {
      "text/html": [
       "<div>\n",
       "<style scoped>\n",
       "    .dataframe tbody tr th:only-of-type {\n",
       "        vertical-align: middle;\n",
       "    }\n",
       "\n",
       "    .dataframe tbody tr th {\n",
       "        vertical-align: top;\n",
       "    }\n",
       "\n",
       "    .dataframe thead th {\n",
       "        text-align: right;\n",
       "    }\n",
       "</style>\n",
       "<table border=\"1\" class=\"dataframe\">\n",
       "  <thead>\n",
       "    <tr style=\"text-align: right;\">\n",
       "      <th></th>\n",
       "      <th>TITLE</th>\n",
       "      <th>CUISINES</th>\n",
       "      <th>TIME</th>\n",
       "      <th>CITY</th>\n",
       "      <th>LOCALITY</th>\n",
       "      <th>RATING</th>\n",
       "      <th>VOTES</th>\n",
       "    </tr>\n",
       "  </thead>\n",
       "  <tbody>\n",
       "    <tr>\n",
       "      <th>count</th>\n",
       "      <td>4231</td>\n",
       "      <td>4231</td>\n",
       "      <td>4231</td>\n",
       "      <td>4231</td>\n",
       "      <td>4231</td>\n",
       "      <td>4231</td>\n",
       "      <td>4231</td>\n",
       "    </tr>\n",
       "    <tr>\n",
       "      <th>unique</th>\n",
       "      <td>86</td>\n",
       "      <td>1727</td>\n",
       "      <td>1183</td>\n",
       "      <td>151</td>\n",
       "      <td>834</td>\n",
       "      <td>31</td>\n",
       "      <td>1136</td>\n",
       "    </tr>\n",
       "    <tr>\n",
       "      <th>top</th>\n",
       "      <td>QUICK BITES</td>\n",
       "      <td>North Indian, Chinese</td>\n",
       "      <td>11am – 11pm (Mon-Sun)</td>\n",
       "      <td>Bangalore</td>\n",
       "      <td>Kukatpally</td>\n",
       "      <td>3.8</td>\n",
       "      <td>6 votes</td>\n",
       "    </tr>\n",
       "    <tr>\n",
       "      <th>freq</th>\n",
       "      <td>1416</td>\n",
       "      <td>213</td>\n",
       "      <td>447</td>\n",
       "      <td>689</td>\n",
       "      <td>54</td>\n",
       "      <td>414</td>\n",
       "      <td>35</td>\n",
       "    </tr>\n",
       "  </tbody>\n",
       "</table>\n",
       "</div>"
      ],
      "text/plain": [
       "              TITLE               CUISINES                   TIME       CITY  \\\n",
       "count          4231                   4231                   4231       4231   \n",
       "unique           86                   1727                   1183        151   \n",
       "top     QUICK BITES  North Indian, Chinese  11am – 11pm (Mon-Sun)  Bangalore   \n",
       "freq           1416                    213                    447        689   \n",
       "\n",
       "          LOCALITY RATING    VOTES  \n",
       "count         4231   4231     4231  \n",
       "unique         834     31     1136  \n",
       "top     Kukatpally    3.8  6 votes  \n",
       "freq            54    414       35  "
      ]
     },
     "execution_count": 51,
     "metadata": {},
     "output_type": "execute_result"
    }
   ],
   "source": [
    "#describing the dataset\n",
    "dft.describe()"
   ]
  },
  {
   "cell_type": "markdown",
   "metadata": {},
   "source": [
    "# splitting the data"
   ]
  },
  {
   "cell_type": "code",
   "execution_count": 52,
   "metadata": {},
   "outputs": [
    {
     "data": {
      "text/html": [
       "<div>\n",
       "<style scoped>\n",
       "    .dataframe tbody tr th:only-of-type {\n",
       "        vertical-align: middle;\n",
       "    }\n",
       "\n",
       "    .dataframe tbody tr th {\n",
       "        vertical-align: top;\n",
       "    }\n",
       "\n",
       "    .dataframe thead th {\n",
       "        text-align: right;\n",
       "    }\n",
       "</style>\n",
       "<table border=\"1\" class=\"dataframe\">\n",
       "  <thead>\n",
       "    <tr style=\"text-align: right;\">\n",
       "      <th></th>\n",
       "      <th>TITLE</th>\n",
       "      <th>CUISINES</th>\n",
       "      <th>TIME</th>\n",
       "      <th>CITY</th>\n",
       "      <th>LOCALITY</th>\n",
       "      <th>RATING</th>\n",
       "      <th>VOTES</th>\n",
       "      <th>COST</th>\n",
       "    </tr>\n",
       "  </thead>\n",
       "  <tbody>\n",
       "    <tr>\n",
       "      <th>0</th>\n",
       "      <td>31</td>\n",
       "      <td>2627</td>\n",
       "      <td>739</td>\n",
       "      <td>320</td>\n",
       "      <td>285</td>\n",
       "      <td>2.571282</td>\n",
       "      <td>1278</td>\n",
       "      <td>34.641016</td>\n",
       "    </tr>\n",
       "    <tr>\n",
       "      <th>1</th>\n",
       "      <td>33</td>\n",
       "      <td>289</td>\n",
       "      <td>1885</td>\n",
       "      <td>67</td>\n",
       "      <td>1046</td>\n",
       "      <td>2.843867</td>\n",
       "      <td>950</td>\n",
       "      <td>38.729833</td>\n",
       "    </tr>\n",
       "    <tr>\n",
       "      <th>2</th>\n",
       "      <td>31</td>\n",
       "      <td>2976</td>\n",
       "      <td>661</td>\n",
       "      <td>67</td>\n",
       "      <td>1101</td>\n",
       "      <td>2.668402</td>\n",
       "      <td>712</td>\n",
       "      <td>28.284271</td>\n",
       "    </tr>\n",
       "    <tr>\n",
       "      <th>3</th>\n",
       "      <td>95</td>\n",
       "      <td>4130</td>\n",
       "      <td>275</td>\n",
       "      <td>222</td>\n",
       "      <td>136</td>\n",
       "      <td>2.802039</td>\n",
       "      <td>787</td>\n",
       "      <td>28.284271</td>\n",
       "    </tr>\n",
       "    <tr>\n",
       "      <th>4</th>\n",
       "      <td>50</td>\n",
       "      <td>1766</td>\n",
       "      <td>615</td>\n",
       "      <td>222</td>\n",
       "      <td>620</td>\n",
       "      <td>2.668402</td>\n",
       "      <td>470</td>\n",
       "      <td>17.320508</td>\n",
       "    </tr>\n",
       "    <tr>\n",
       "      <th>5</th>\n",
       "      <td>31</td>\n",
       "      <td>3113</td>\n",
       "      <td>1137</td>\n",
       "      <td>222</td>\n",
       "      <td>1360</td>\n",
       "      <td>2.758924</td>\n",
       "      <td>1356</td>\n",
       "      <td>28.284271</td>\n",
       "    </tr>\n",
       "    <tr>\n",
       "      <th>6</th>\n",
       "      <td>22</td>\n",
       "      <td>792</td>\n",
       "      <td>1073</td>\n",
       "      <td>37</td>\n",
       "      <td>575</td>\n",
       "      <td>2.802039</td>\n",
       "      <td>1301</td>\n",
       "      <td>24.494897</td>\n",
       "    </tr>\n",
       "    <tr>\n",
       "      <th>7</th>\n",
       "      <td>82</td>\n",
       "      <td>416</td>\n",
       "      <td>1528</td>\n",
       "      <td>119</td>\n",
       "      <td>1153</td>\n",
       "      <td>2.884499</td>\n",
       "      <td>451</td>\n",
       "      <td>40.000000</td>\n",
       "    </tr>\n",
       "    <tr>\n",
       "      <th>8</th>\n",
       "      <td>95</td>\n",
       "      <td>3924</td>\n",
       "      <td>2020</td>\n",
       "      <td>37</td>\n",
       "      <td>142</td>\n",
       "      <td>2.714418</td>\n",
       "      <td>10</td>\n",
       "      <td>17.320508</td>\n",
       "    </tr>\n",
       "    <tr>\n",
       "      <th>9</th>\n",
       "      <td>95</td>\n",
       "      <td>2850</td>\n",
       "      <td>627</td>\n",
       "      <td>131</td>\n",
       "      <td>282</td>\n",
       "      <td>2.410142</td>\n",
       "      <td>702</td>\n",
       "      <td>14.142136</td>\n",
       "    </tr>\n",
       "  </tbody>\n",
       "</table>\n",
       "</div>"
      ],
      "text/plain": [
       "   TITLE  CUISINES  TIME  CITY  LOCALITY    RATING  VOTES       COST\n",
       "0     31      2627   739   320       285  2.571282   1278  34.641016\n",
       "1     33       289  1885    67      1046  2.843867    950  38.729833\n",
       "2     31      2976   661    67      1101  2.668402    712  28.284271\n",
       "3     95      4130   275   222       136  2.802039    787  28.284271\n",
       "4     50      1766   615   222       620  2.668402    470  17.320508\n",
       "5     31      3113  1137   222      1360  2.758924   1356  28.284271\n",
       "6     22       792  1073    37       575  2.802039   1301  24.494897\n",
       "7     82       416  1528   119      1153  2.884499    451  40.000000\n",
       "8     95      3924  2020    37       142  2.714418     10  17.320508\n",
       "9     95      2850   627   131       282  2.410142    702  14.142136"
      ]
     },
     "execution_count": 52,
     "metadata": {},
     "output_type": "execute_result"
    }
   ],
   "source": [
    "df.head(10)"
   ]
  },
  {
   "cell_type": "code",
   "execution_count": 53,
   "metadata": {},
   "outputs": [],
   "source": [
    "x=df.drop('COST', axis=1)\n",
    "y=df['COST'] #target variable"
   ]
  },
  {
   "cell_type": "code",
   "execution_count": 54,
   "metadata": {},
   "outputs": [
    {
     "data": {
      "text/html": [
       "<div>\n",
       "<style scoped>\n",
       "    .dataframe tbody tr th:only-of-type {\n",
       "        vertical-align: middle;\n",
       "    }\n",
       "\n",
       "    .dataframe tbody tr th {\n",
       "        vertical-align: top;\n",
       "    }\n",
       "\n",
       "    .dataframe thead th {\n",
       "        text-align: right;\n",
       "    }\n",
       "</style>\n",
       "<table border=\"1\" class=\"dataframe\">\n",
       "  <thead>\n",
       "    <tr style=\"text-align: right;\">\n",
       "      <th></th>\n",
       "      <th>TITLE</th>\n",
       "      <th>CUISINES</th>\n",
       "      <th>TIME</th>\n",
       "      <th>CITY</th>\n",
       "      <th>LOCALITY</th>\n",
       "      <th>RATING</th>\n",
       "      <th>VOTES</th>\n",
       "    </tr>\n",
       "  </thead>\n",
       "  <tbody>\n",
       "    <tr>\n",
       "      <th>0</th>\n",
       "      <td>31</td>\n",
       "      <td>2627</td>\n",
       "      <td>739</td>\n",
       "      <td>320</td>\n",
       "      <td>285</td>\n",
       "      <td>2.571282</td>\n",
       "      <td>1278</td>\n",
       "    </tr>\n",
       "    <tr>\n",
       "      <th>1</th>\n",
       "      <td>33</td>\n",
       "      <td>289</td>\n",
       "      <td>1885</td>\n",
       "      <td>67</td>\n",
       "      <td>1046</td>\n",
       "      <td>2.843867</td>\n",
       "      <td>950</td>\n",
       "    </tr>\n",
       "    <tr>\n",
       "      <th>2</th>\n",
       "      <td>31</td>\n",
       "      <td>2976</td>\n",
       "      <td>661</td>\n",
       "      <td>67</td>\n",
       "      <td>1101</td>\n",
       "      <td>2.668402</td>\n",
       "      <td>712</td>\n",
       "    </tr>\n",
       "    <tr>\n",
       "      <th>3</th>\n",
       "      <td>95</td>\n",
       "      <td>4130</td>\n",
       "      <td>275</td>\n",
       "      <td>222</td>\n",
       "      <td>136</td>\n",
       "      <td>2.802039</td>\n",
       "      <td>787</td>\n",
       "    </tr>\n",
       "    <tr>\n",
       "      <th>4</th>\n",
       "      <td>50</td>\n",
       "      <td>1766</td>\n",
       "      <td>615</td>\n",
       "      <td>222</td>\n",
       "      <td>620</td>\n",
       "      <td>2.668402</td>\n",
       "      <td>470</td>\n",
       "    </tr>\n",
       "    <tr>\n",
       "      <th>...</th>\n",
       "      <td>...</td>\n",
       "      <td>...</td>\n",
       "      <td>...</td>\n",
       "      <td>...</td>\n",
       "      <td>...</td>\n",
       "      <td>...</td>\n",
       "      <td>...</td>\n",
       "    </tr>\n",
       "    <tr>\n",
       "      <th>12685</th>\n",
       "      <td>95</td>\n",
       "      <td>2934</td>\n",
       "      <td>1144</td>\n",
       "      <td>131</td>\n",
       "      <td>342</td>\n",
       "      <td>2.668402</td>\n",
       "      <td>1349</td>\n",
       "    </tr>\n",
       "    <tr>\n",
       "      <th>12686</th>\n",
       "      <td>33</td>\n",
       "      <td>2143</td>\n",
       "      <td>1177</td>\n",
       "      <td>222</td>\n",
       "      <td>133</td>\n",
       "      <td>2.884499</td>\n",
       "      <td>191</td>\n",
       "    </tr>\n",
       "    <tr>\n",
       "      <th>12687</th>\n",
       "      <td>71</td>\n",
       "      <td>2088</td>\n",
       "      <td>1137</td>\n",
       "      <td>239</td>\n",
       "      <td>1342</td>\n",
       "      <td>2.758924</td>\n",
       "      <td>1428</td>\n",
       "    </tr>\n",
       "    <tr>\n",
       "      <th>12688</th>\n",
       "      <td>31</td>\n",
       "      <td>3506</td>\n",
       "      <td>1837</td>\n",
       "      <td>67</td>\n",
       "      <td>631</td>\n",
       "      <td>2.519842</td>\n",
       "      <td>996</td>\n",
       "    </tr>\n",
       "    <tr>\n",
       "      <th>12689</th>\n",
       "      <td>31</td>\n",
       "      <td>2946</td>\n",
       "      <td>835</td>\n",
       "      <td>131</td>\n",
       "      <td>1333</td>\n",
       "      <td>2.466212</td>\n",
       "      <td>1505</td>\n",
       "    </tr>\n",
       "  </tbody>\n",
       "</table>\n",
       "<p>12690 rows × 7 columns</p>\n",
       "</div>"
      ],
      "text/plain": [
       "       TITLE  CUISINES  TIME  CITY  LOCALITY    RATING  VOTES\n",
       "0         31      2627   739   320       285  2.571282   1278\n",
       "1         33       289  1885    67      1046  2.843867    950\n",
       "2         31      2976   661    67      1101  2.668402    712\n",
       "3         95      4130   275   222       136  2.802039    787\n",
       "4         50      1766   615   222       620  2.668402    470\n",
       "...      ...       ...   ...   ...       ...       ...    ...\n",
       "12685     95      2934  1144   131       342  2.668402   1349\n",
       "12686     33      2143  1177   222       133  2.884499    191\n",
       "12687     71      2088  1137   239      1342  2.758924   1428\n",
       "12688     31      3506  1837    67       631  2.519842    996\n",
       "12689     31      2946   835   131      1333  2.466212   1505\n",
       "\n",
       "[12690 rows x 7 columns]"
      ]
     },
     "execution_count": 54,
     "metadata": {},
     "output_type": "execute_result"
    }
   ],
   "source": [
    "x"
   ]
  },
  {
   "cell_type": "code",
   "execution_count": 55,
   "metadata": {},
   "outputs": [
    {
     "data": {
      "text/plain": [
       "0        34.641016\n",
       "1        38.729833\n",
       "2        28.284271\n",
       "3        28.284271\n",
       "4        17.320508\n",
       "           ...    \n",
       "12685    22.360680\n",
       "12686    42.426407\n",
       "12687    36.055513\n",
       "12688    20.000000\n",
       "12689    24.494897\n",
       "Name: COST, Length: 12690, dtype: float64"
      ]
     },
     "execution_count": 55,
     "metadata": {},
     "output_type": "execute_result"
    }
   ],
   "source": [
    "y"
   ]
  },
  {
   "cell_type": "code",
   "execution_count": 56,
   "metadata": {},
   "outputs": [
    {
     "data": {
      "text/plain": [
       "(12690, 7)"
      ]
     },
     "execution_count": 56,
     "metadata": {},
     "output_type": "execute_result"
    }
   ],
   "source": [
    "#checking the shape of independent and target varaible\n",
    "x.shape"
   ]
  },
  {
   "cell_type": "code",
   "execution_count": 57,
   "metadata": {},
   "outputs": [
    {
     "data": {
      "text/plain": [
       "(12690,)"
      ]
     },
     "execution_count": 57,
     "metadata": {},
     "output_type": "execute_result"
    }
   ],
   "source": [
    "y.shape"
   ]
  },
  {
   "cell_type": "markdown",
   "metadata": {},
   "source": [
    "# Model building"
   ]
  },
  {
   "cell_type": "code",
   "execution_count": 58,
   "metadata": {},
   "outputs": [],
   "source": [
    "from sklearn.preprocessing import StandardScaler\n",
    "sc= StandardScaler()\n",
    "scaled=sc.fit_transform(x)"
   ]
  },
  {
   "cell_type": "code",
   "execution_count": 59,
   "metadata": {},
   "outputs": [],
   "source": [
    "#importing the model library\n",
    "from sklearn.model_selection import train_test_split\n",
    "from sklearn.linear_model import LinearRegression,Lasso,Ridge,ElasticNet\n",
    "from sklearn.svm import SVR\n",
    "from sklearn.tree import DecisionTreeRegressor\n",
    "from sklearn.neighbors import KNeighborsRegressor\n",
    "\n",
    "#importing boosting models\n",
    "from sklearn.ensemble import RandomForestRegressor\n",
    "from sklearn.ensemble import AdaBoostRegressor\n",
    "from sklearn.ensemble import GradientBoostingRegressor\n",
    "\n",
    "#importing error  etrics\n",
    "\n",
    "from sklearn.model_selection import cross_val_score\n",
    "from sklearn.metrics import r2_score\n",
    "from sklearn.metrics import mean_absolute_error, mean_squared_error"
   ]
  },
  {
   "cell_type": "code",
   "execution_count": 60,
   "metadata": {},
   "outputs": [],
   "source": [
    "#splitting the data into training and testing data\n",
    "\n",
    "from sklearn.model_selection import train_test_split\n",
    "x_train,x_test,y_train,y_test = train_test_split(x,y,test_size=0.25,random_state=42)"
   ]
  },
  {
   "cell_type": "code",
   "execution_count": 61,
   "metadata": {},
   "outputs": [
    {
     "data": {
      "text/plain": [
       "(9517, 7)"
      ]
     },
     "execution_count": 61,
     "metadata": {},
     "output_type": "execute_result"
    }
   ],
   "source": [
    "#checking the train shape\n",
    "x_train.shape"
   ]
  },
  {
   "cell_type": "code",
   "execution_count": 62,
   "metadata": {},
   "outputs": [
    {
     "data": {
      "text/plain": [
       "(9517,)"
      ]
     },
     "execution_count": 62,
     "metadata": {},
     "output_type": "execute_result"
    }
   ],
   "source": [
    "y_train.shape"
   ]
  },
  {
   "cell_type": "code",
   "execution_count": 63,
   "metadata": {},
   "outputs": [
    {
     "data": {
      "text/plain": [
       "(3173, 7)"
      ]
     },
     "execution_count": 63,
     "metadata": {},
     "output_type": "execute_result"
    }
   ],
   "source": [
    "#cheking the test shape\n",
    "x_test.shape"
   ]
  },
  {
   "cell_type": "code",
   "execution_count": 64,
   "metadata": {},
   "outputs": [
    {
     "data": {
      "text/plain": [
       "(3173,)"
      ]
     },
     "execution_count": 64,
     "metadata": {},
     "output_type": "execute_result"
    }
   ],
   "source": [
    "y_test.shape"
   ]
  },
  {
   "cell_type": "code",
   "execution_count": 65,
   "metadata": {},
   "outputs": [
    {
     "name": "stdout",
     "output_type": "stream",
     "text": [
      "Score of LinearRegression() is: 0.17138321613715501\n",
      "MAE: 5.964941113431124\n",
      "MSE: 71.54833606157253\n",
      "RMSE: 8.458624950993661\n",
      "R2_score; 0.17524302980058493\n",
      "***********************************************************\n",
      "\n",
      "\n",
      "Score of Lasso() is: 0.13837498276342897\n",
      "MAE: 6.016630236598905\n",
      "MSE: 73.84627065080788\n",
      "RMSE: 8.593385284671454\n",
      "R2_score; 0.14875411791445525\n",
      "***********************************************************\n",
      "\n",
      "\n",
      "Score of Ridge() is: 0.17138321092421038\n",
      "MAE: 5.964892978765391\n",
      "MSE: 71.54813320879539\n",
      "RMSE: 8.458612960101402\n",
      "R2_score; 0.17524536813926728\n",
      "***********************************************************\n",
      "\n",
      "\n",
      "Score of ElasticNet() is: 0.1416811600436494\n",
      "MAE: 6.004124138817511\n",
      "MSE: 73.58769183001554\n",
      "RMSE: 8.57832686658742\n",
      "R2_score; 0.15173482573428343\n",
      "***********************************************************\n",
      "\n",
      "\n",
      "Score of SVR() is: 0.07527737115317301\n",
      "MAE: 6.152743221879646\n",
      "MSE: 79.80628181174778\n",
      "RMSE: 8.933436170463624\n",
      "R2_score; 0.08005146152813081\n",
      "***********************************************************\n",
      "\n",
      "\n",
      "Score of RandomForestRegressor() is: 0.9642293622458804\n",
      "MAE: 3.4492760616891913\n",
      "MSE: 22.06683979378382\n",
      "RMSE: 4.697535502131284\n",
      "R2_score; 0.7456295850886763\n",
      "***********************************************************\n",
      "\n",
      "\n",
      "Score of AdaBoostRegressor() is: 0.20496697413847786\n",
      "MAE: 7.073667024415737\n",
      "MSE: 74.48405028172944\n",
      "RMSE: 8.630414258987193\n",
      "R2_score; 0.14140226006550272\n",
      "***********************************************************\n",
      "\n",
      "\n",
      "Score of GradientBoostingRegressor() is: 0.7379274769083445\n",
      "MAE: 3.700854647118579\n",
      "MSE: 24.672319513519707\n",
      "RMSE: 4.967123867342117\n",
      "R2_score; 0.7155955175218762\n",
      "***********************************************************\n",
      "\n",
      "\n",
      "Score of DecisionTreeRegressor() is: 1.0\n",
      "MAE: 4.746825743160467\n",
      "MSE: 42.61037380420847\n",
      "RMSE: 6.527662200528492\n",
      "R2_score; 0.508818726859277\n",
      "***********************************************************\n",
      "\n",
      "\n",
      "Score of KNeighborsRegressor() is: 0.39615007728952023\n",
      "MAE: 6.33526501822747\n",
      "MSE: 79.92178352739906\n",
      "RMSE: 8.93989840699541\n",
      "R2_score; 0.07872004209482053\n",
      "***********************************************************\n",
      "\n",
      "\n"
     ]
    }
   ],
   "source": [
    "#all algorithms by using for loop\n",
    "\n",
    "model=[LinearRegression(),Lasso(),Ridge(),ElasticNet(),SVR(),RandomForestRegressor(),AdaBoostRegressor(),GradientBoostingRegressor(),DecisionTreeRegressor(),KNeighborsRegressor()]\n",
    "\n",
    "\n",
    "for m in model:\n",
    "    m.fit(x_train,y_train)\n",
    "    score=m.score(x_train,y_train)\n",
    "    predm=m.predict(x_test)\n",
    "    print('Score of',m,'is:',score)\n",
    "    print('MAE:',mean_absolute_error(y_test,predm))\n",
    "    print('MSE:',mean_squared_error(y_test,predm))\n",
    "    print('RMSE:',np.sqrt(mean_squared_error(y_test,predm)))\n",
    "    print('R2_score;',r2_score(y_test,predm))\n",
    "    print('***********************************************************')\n",
    "    print('\\n')"
   ]
  },
  {
   "cell_type": "code",
   "execution_count": 66,
   "metadata": {},
   "outputs": [
    {
     "name": "stdout",
     "output_type": "stream",
     "text": [
      "score of LinearRegression() is:\n",
      "score: [0.16188909 0.16164101 0.18421951 0.16480418 0.18510944]\n",
      "mean score: 0.17153264430067797\n",
      "Standard deviation 0.010783327778541687\n",
      "********************************************\n",
      "\n",
      "\n",
      "score of Lasso() is:\n",
      "score: [0.12987389 0.12700534 0.15560452 0.12836591 0.14627731]\n",
      "mean score: 0.13742539489218422\n",
      "Standard deviation 0.011458742272109248\n",
      "********************************************\n",
      "\n",
      "\n",
      "score of Ridge() is:\n",
      "score: [0.16188794 0.16164144 0.18422373 0.16480331 0.18510747]\n",
      "mean score: 0.17153277682553456\n",
      "Standard deviation 0.010784061378697236\n",
      "********************************************\n",
      "\n",
      "\n",
      "score of ElasticNet() is:\n",
      "score: [0.13387514 0.13249654 0.15999777 0.13372627 0.15216464]\n",
      "mean score: 0.1424520687629797\n",
      "Standard deviation 0.011410534202634976\n",
      "********************************************\n",
      "\n",
      "\n",
      "score of SVR() is:\n",
      "score: [0.06876043 0.0845024  0.08451034 0.06048246 0.07655502]\n",
      "mean score: 0.07496212970243013\n",
      "Standard deviation 0.009304237324030152\n",
      "********************************************\n",
      "\n",
      "\n",
      "score of RandomForestRegressor() is:\n",
      "score: [0.72566764 0.75207786 0.74526116 0.73743153 0.77403256]\n",
      "mean score: 0.7468941512368106\n",
      "Standard deviation 0.016162530205563075\n",
      "********************************************\n",
      "\n",
      "\n",
      "score of AdaBoostRegressor() is:\n",
      "score: [0.41936598 0.32340438 0.19204993 0.27947637 0.23759715]\n",
      "mean score: 0.2903787622073398\n",
      "Standard deviation 0.07784820231434962\n",
      "********************************************\n",
      "\n",
      "\n",
      "score of GradientBoostingRegressor() is:\n",
      "score: [0.70842198 0.73456659 0.71324656 0.71657289 0.7411543 ]\n",
      "mean score: 0.7227924657077096\n",
      "Standard deviation 0.012744453311797965\n",
      "********************************************\n",
      "\n",
      "\n",
      "score of DecisionTreeRegressor() is:\n",
      "score: [0.5247004  0.57697003 0.49312392 0.53005467 0.53504536]\n",
      "mean score: 0.5319788749996457\n",
      "Standard deviation 0.026832790400793463\n",
      "********************************************\n",
      "\n",
      "\n",
      "score of KNeighborsRegressor() is:\n",
      "score: [0.06536803 0.13706077 0.10314186 0.07847682 0.07650663]\n",
      "mean score: 0.092110823275564\n",
      "Standard deviation 0.02563878245457243\n",
      "********************************************\n",
      "\n",
      "\n"
     ]
    }
   ],
   "source": [
    "#cross validate all algorithms by using for loop\n",
    "\n",
    "from sklearn.model_selection import cross_val_score\n",
    "model=[LinearRegression(),Lasso(),Ridge(),ElasticNet(),SVR(),RandomForestRegressor(),AdaBoostRegressor(),GradientBoostingRegressor(),DecisionTreeRegressor(),KNeighborsRegressor()]\n",
    "for m in model:\n",
    "    score=cross_val_score(m,x,y,cv=5,scoring='r2')\n",
    "    print('score of',m,'is:')\n",
    "    print('score:',score)\n",
    "    print('mean score:', score.mean())\n",
    "    print('Standard deviation',score.std())\n",
    "    print('********************************************')\n",
    "    print('\\n')"
   ]
  },
  {
   "cell_type": "markdown",
   "metadata": {},
   "source": [
    "random foreset regressor and and dicision tree regressor is giving the best results"
   ]
  },
  {
   "cell_type": "raw",
   "metadata": {},
   "source": [
    "Using GridsearchCV to find the best parameters"
   ]
  },
  {
   "cell_type": "code",
   "execution_count": 69,
   "metadata": {},
   "outputs": [
    {
     "data": {
      "text/plain": [
       "{'max_depth': 10, 'n_estimators': 200}"
      ]
     },
     "execution_count": 69,
     "metadata": {},
     "output_type": "execute_result"
    }
   ],
   "source": [
    "#ridge model is giving best results so finding the best parameters using Gridsearchcv\n",
    "from sklearn.model_selection import GridSearchCV\n",
    "RFC=RandomForestRegressor()\n",
    "parameters={'n_estimators':[100,200,300,400],'max_depth':[4,5,6,7,8,9,10]}\n",
    "clf=GridSearchCV(RFC,parameters)\n",
    "clf.fit(x,y)\n",
    "clf.best_params_"
   ]
  },
  {
   "cell_type": "code",
   "execution_count": 70,
   "metadata": {},
   "outputs": [
    {
     "name": "stdout",
     "output_type": "stream",
     "text": [
      "Score: 0.7950837534406543\n",
      "\n",
      "\n",
      "MAE: 3.536029401130915\n",
      "MSE: 22.92920175263913\n",
      "RMSE: 4.788444606825804\n",
      "R2_score; 0.07872004209482053\n",
      "\n",
      "\n"
     ]
    }
   ],
   "source": [
    "#using random forest with best parameters\n",
    "\n",
    "from sklearn.ensemble import RandomForestRegressor\n",
    "rf=RandomForestRegressor(n_estimators=200,min_samples_split=15,min_samples_leaf=1,max_features='auto',max_depth=10)\n",
    "rf.fit(x_train,y_train)\n",
    "print('Score:',rf.score(x_train,y_train))\n",
    "y_pred=rf.predict(x_test)\n",
    "print('\\n')\n",
    "print('MAE:',mean_absolute_error(y_test,y_pred))\n",
    "print('MSE:',mean_squared_error(y_test,y_pred))\n",
    "print('RMSE:',np.sqrt(mean_squared_error(y_test,y_pred)))\n",
    "print('R2_score;',r2_score(y_test,predm))\n",
    "print('\\n')"
   ]
  },
  {
   "cell_type": "code",
   "execution_count": 74,
   "metadata": {},
   "outputs": [
    {
     "data": {
      "image/png": "[encoded data removed]",
      "text/plain": [
       "<Figure size 432x288 with 1 Axes>"
      ]
     },
     "metadata": {
      "needs_background": "light"
     },
     "output_type": "display_data"
    }
   ],
   "source": [
    "#plotting Scatterplot between test data and predicted data for random forest\n",
    "plt.scatter(y_test,y_pred, alpha =0.5)\n",
    "plt.xlabel('y_test')\n",
    "plt.ylabel('y_pred')\n",
    "plt.title('scatter plot between test data and predicted data')\n",
    "plt.show()"
   ]
  },
  {
   "cell_type": "code",
   "execution_count": 75,
   "metadata": {},
   "outputs": [
    {
     "data": {
      "text/plain": [
       "['resturant.pkl']"
      ]
     },
     "execution_count": 75,
     "metadata": {},
     "output_type": "execute_result"
    }
   ],
   "source": [
    "#saving the Randomforest\n",
    "import joblib\n",
    "joblib.dump(rf,'resturant.pkl')"
   ]
  },
  {
   "cell_type": "code",
   "execution_count": null,
   "metadata": {},
   "outputs": [],
   "source": []
  }
 ],
 "metadata": {
  "kernelspec": {
   "display_name": "Python 3",
   "language": "python",
   "name": "python3"
  },
  "language_info": {
   "codemirror_mode": {
    "name": "ipython",
    "version": 3
   },
   "file_extension": ".py",
   "mimetype": "text/x-python",
   "name": "python",
   "nbconvert_exporter": "python",
   "pygments_lexer": "ipython3",
   "version": "3.8.3"
  }
 },
 "nbformat": 4,
 "nbformat_minor": 4
}
