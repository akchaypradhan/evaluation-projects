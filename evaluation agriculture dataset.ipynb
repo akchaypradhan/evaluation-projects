{
 "cells": [
  {
   "cell_type": "markdown",
   "metadata": {},
   "source": [
    "# importing libraries"
   ]
  },
  {
   "cell_type": "code",
   "execution_count": 1,
   "metadata": {},
   "outputs": [],
   "source": [
    "import pandas as pd\n",
    "import numpy as np\n",
    "import matplotlib.pyplot as plt\n",
    "import seaborn as sns\n",
    "import warnings\n",
    "warnings.filterwarnings('ignore')"
   ]
  },
  {
   "cell_type": "markdown",
   "metadata": {},
   "source": [
    "# loading the dataset"
   ]
  },
  {
   "cell_type": "code",
   "execution_count": 2,
   "metadata": {},
   "outputs": [
    {
     "data": {
      "text/html": [
       "<div>\n",
       "<style scoped>\n",
       "    .dataframe tbody tr th:only-of-type {\n",
       "        vertical-align: middle;\n",
       "    }\n",
       "\n",
       "    .dataframe tbody tr th {\n",
       "        vertical-align: top;\n",
       "    }\n",
       "\n",
       "    .dataframe thead th {\n",
       "        text-align: right;\n",
       "    }\n",
       "</style>\n",
       "<table border=\"1\" class=\"dataframe\">\n",
       "  <thead>\n",
       "    <tr style=\"text-align: right;\">\n",
       "      <th></th>\n",
       "      <th>ID</th>\n",
       "      <th>Estimated_Insects_Count</th>\n",
       "      <th>Crop_Type</th>\n",
       "      <th>Soil_Type</th>\n",
       "      <th>Pesticide_Use_Category</th>\n",
       "      <th>Number_Doses_Week</th>\n",
       "      <th>Number_Weeks_Used</th>\n",
       "      <th>Number_Weeks_Quit</th>\n",
       "      <th>Season</th>\n",
       "      <th>Crop_Damage</th>\n",
       "    </tr>\n",
       "  </thead>\n",
       "  <tbody>\n",
       "    <tr>\n",
       "      <th>0</th>\n",
       "      <td>F00000001</td>\n",
       "      <td>188</td>\n",
       "      <td>1</td>\n",
       "      <td>0</td>\n",
       "      <td>1</td>\n",
       "      <td>0</td>\n",
       "      <td>0.0</td>\n",
       "      <td>0</td>\n",
       "      <td>1</td>\n",
       "      <td>0</td>\n",
       "    </tr>\n",
       "    <tr>\n",
       "      <th>1</th>\n",
       "      <td>F00000003</td>\n",
       "      <td>209</td>\n",
       "      <td>1</td>\n",
       "      <td>0</td>\n",
       "      <td>1</td>\n",
       "      <td>0</td>\n",
       "      <td>0.0</td>\n",
       "      <td>0</td>\n",
       "      <td>2</td>\n",
       "      <td>1</td>\n",
       "    </tr>\n",
       "    <tr>\n",
       "      <th>2</th>\n",
       "      <td>F00000004</td>\n",
       "      <td>257</td>\n",
       "      <td>1</td>\n",
       "      <td>0</td>\n",
       "      <td>1</td>\n",
       "      <td>0</td>\n",
       "      <td>0.0</td>\n",
       "      <td>0</td>\n",
       "      <td>2</td>\n",
       "      <td>1</td>\n",
       "    </tr>\n",
       "    <tr>\n",
       "      <th>3</th>\n",
       "      <td>F00000005</td>\n",
       "      <td>257</td>\n",
       "      <td>1</td>\n",
       "      <td>1</td>\n",
       "      <td>1</td>\n",
       "      <td>0</td>\n",
       "      <td>0.0</td>\n",
       "      <td>0</td>\n",
       "      <td>2</td>\n",
       "      <td>1</td>\n",
       "    </tr>\n",
       "    <tr>\n",
       "      <th>4</th>\n",
       "      <td>F00000006</td>\n",
       "      <td>342</td>\n",
       "      <td>1</td>\n",
       "      <td>0</td>\n",
       "      <td>1</td>\n",
       "      <td>0</td>\n",
       "      <td>0.0</td>\n",
       "      <td>0</td>\n",
       "      <td>2</td>\n",
       "      <td>1</td>\n",
       "    </tr>\n",
       "    <tr>\n",
       "      <th>5</th>\n",
       "      <td>F00000008</td>\n",
       "      <td>448</td>\n",
       "      <td>0</td>\n",
       "      <td>1</td>\n",
       "      <td>1</td>\n",
       "      <td>0</td>\n",
       "      <td>NaN</td>\n",
       "      <td>0</td>\n",
       "      <td>2</td>\n",
       "      <td>1</td>\n",
       "    </tr>\n",
       "    <tr>\n",
       "      <th>6</th>\n",
       "      <td>F00000009</td>\n",
       "      <td>448</td>\n",
       "      <td>0</td>\n",
       "      <td>1</td>\n",
       "      <td>1</td>\n",
       "      <td>0</td>\n",
       "      <td>NaN</td>\n",
       "      <td>0</td>\n",
       "      <td>2</td>\n",
       "      <td>1</td>\n",
       "    </tr>\n",
       "    <tr>\n",
       "      <th>7</th>\n",
       "      <td>F00000010</td>\n",
       "      <td>577</td>\n",
       "      <td>1</td>\n",
       "      <td>0</td>\n",
       "      <td>1</td>\n",
       "      <td>0</td>\n",
       "      <td>0.0</td>\n",
       "      <td>0</td>\n",
       "      <td>1</td>\n",
       "      <td>2</td>\n",
       "    </tr>\n",
       "    <tr>\n",
       "      <th>8</th>\n",
       "      <td>F00000012</td>\n",
       "      <td>731</td>\n",
       "      <td>0</td>\n",
       "      <td>0</td>\n",
       "      <td>1</td>\n",
       "      <td>0</td>\n",
       "      <td>0.0</td>\n",
       "      <td>0</td>\n",
       "      <td>2</td>\n",
       "      <td>0</td>\n",
       "    </tr>\n",
       "    <tr>\n",
       "      <th>9</th>\n",
       "      <td>F00000020</td>\n",
       "      <td>1132</td>\n",
       "      <td>1</td>\n",
       "      <td>0</td>\n",
       "      <td>1</td>\n",
       "      <td>0</td>\n",
       "      <td>0.0</td>\n",
       "      <td>0</td>\n",
       "      <td>1</td>\n",
       "      <td>2</td>\n",
       "    </tr>\n",
       "  </tbody>\n",
       "</table>\n",
       "</div>"
      ],
      "text/plain": [
       "          ID  Estimated_Insects_Count  Crop_Type  Soil_Type  \\\n",
       "0  F00000001                      188          1          0   \n",
       "1  F00000003                      209          1          0   \n",
       "2  F00000004                      257          1          0   \n",
       "3  F00000005                      257          1          1   \n",
       "4  F00000006                      342          1          0   \n",
       "5  F00000008                      448          0          1   \n",
       "6  F00000009                      448          0          1   \n",
       "7  F00000010                      577          1          0   \n",
       "8  F00000012                      731          0          0   \n",
       "9  F00000020                     1132          1          0   \n",
       "\n",
       "   Pesticide_Use_Category  Number_Doses_Week  Number_Weeks_Used  \\\n",
       "0                       1                  0                0.0   \n",
       "1                       1                  0                0.0   \n",
       "2                       1                  0                0.0   \n",
       "3                       1                  0                0.0   \n",
       "4                       1                  0                0.0   \n",
       "5                       1                  0                NaN   \n",
       "6                       1                  0                NaN   \n",
       "7                       1                  0                0.0   \n",
       "8                       1                  0                0.0   \n",
       "9                       1                  0                0.0   \n",
       "\n",
       "   Number_Weeks_Quit  Season  Crop_Damage  \n",
       "0                  0       1            0  \n",
       "1                  0       2            1  \n",
       "2                  0       2            1  \n",
       "3                  0       2            1  \n",
       "4                  0       2            1  \n",
       "5                  0       2            1  \n",
       "6                  0       2            1  \n",
       "7                  0       1            2  \n",
       "8                  0       2            0  \n",
       "9                  0       1            2  "
      ]
     },
     "execution_count": 2,
     "metadata": {},
     "output_type": "execute_result"
    }
   ],
   "source": [
    "df=pd.read_csv('agriculture_csv')\n",
    "df.head(10)"
   ]
  },
  {
   "cell_type": "markdown",
   "metadata": {},
   "source": [
    "# EDA"
   ]
  },
  {
   "cell_type": "code",
   "execution_count": 3,
   "metadata": {},
   "outputs": [
    {
     "data": {
      "text/plain": [
       "(88858, 10)"
      ]
     },
     "execution_count": 3,
     "metadata": {},
     "output_type": "execute_result"
    }
   ],
   "source": [
    "#checking the shape of data\n",
    "df.shape"
   ]
  },
  {
   "cell_type": "code",
   "execution_count": 4,
   "metadata": {},
   "outputs": [
    {
     "data": {
      "text/plain": [
       "ID                          object\n",
       "Estimated_Insects_Count      int64\n",
       "Crop_Type                    int64\n",
       "Soil_Type                    int64\n",
       "Pesticide_Use_Category       int64\n",
       "Number_Doses_Week            int64\n",
       "Number_Weeks_Used          float64\n",
       "Number_Weeks_Quit            int64\n",
       "Season                       int64\n",
       "Crop_Damage                  int64\n",
       "dtype: object"
      ]
     },
     "execution_count": 4,
     "metadata": {},
     "output_type": "execute_result"
    }
   ],
   "source": [
    "#checking the types of data\n",
    "df.dtypes"
   ]
  },
  {
   "cell_type": "code",
   "execution_count": 5,
   "metadata": {},
   "outputs": [
    {
     "data": {
      "text/plain": [
       "Index(['ID', 'Estimated_Insects_Count', 'Crop_Type', 'Soil_Type',\n",
       "       'Pesticide_Use_Category', 'Number_Doses_Week', 'Number_Weeks_Used',\n",
       "       'Number_Weeks_Quit', 'Season', 'Crop_Damage'],\n",
       "      dtype='object')"
      ]
     },
     "execution_count": 5,
     "metadata": {},
     "output_type": "execute_result"
    }
   ],
   "source": [
    "#checking the columns\n",
    "df.columns"
   ]
  },
  {
   "cell_type": "code",
   "execution_count": 6,
   "metadata": {},
   "outputs": [
    {
     "name": "stdout",
     "output_type": "stream",
     "text": [
      "<class 'pandas.core.frame.DataFrame'>\n",
      "RangeIndex: 88858 entries, 0 to 88857\n",
      "Data columns (total 10 columns):\n",
      " #   Column                   Non-Null Count  Dtype  \n",
      "---  ------                   --------------  -----  \n",
      " 0   ID                       88858 non-null  object \n",
      " 1   Estimated_Insects_Count  88858 non-null  int64  \n",
      " 2   Crop_Type                88858 non-null  int64  \n",
      " 3   Soil_Type                88858 non-null  int64  \n",
      " 4   Pesticide_Use_Category   88858 non-null  int64  \n",
      " 5   Number_Doses_Week        88858 non-null  int64  \n",
      " 6   Number_Weeks_Used        79858 non-null  float64\n",
      " 7   Number_Weeks_Quit        88858 non-null  int64  \n",
      " 8   Season                   88858 non-null  int64  \n",
      " 9   Crop_Damage              88858 non-null  int64  \n",
      "dtypes: float64(1), int64(8), object(1)\n",
      "memory usage: 6.8+ MB\n"
     ]
    }
   ],
   "source": [
    "#checking the info\n",
    "df.info()"
   ]
  },
  {
   "cell_type": "code",
   "execution_count": 7,
   "metadata": {},
   "outputs": [
    {
     "data": {
      "text/plain": [
       "ID                            0\n",
       "Estimated_Insects_Count       0\n",
       "Crop_Type                     0\n",
       "Soil_Type                     0\n",
       "Pesticide_Use_Category        0\n",
       "Number_Doses_Week             0\n",
       "Number_Weeks_Used          9000\n",
       "Number_Weeks_Quit             0\n",
       "Season                        0\n",
       "Crop_Damage                   0\n",
       "dtype: int64"
      ]
     },
     "execution_count": 7,
     "metadata": {},
     "output_type": "execute_result"
    }
   ],
   "source": [
    "#checking the null values in the dataset\n",
    "df.isnull().sum()"
   ]
  },
  {
   "cell_type": "raw",
   "metadata": {},
   "source": [
    "we have null values in number weeks used"
   ]
  },
  {
   "cell_type": "code",
   "execution_count": 8,
   "metadata": {},
   "outputs": [
    {
     "data": {
      "text/plain": [
       "<matplotlib.axes._subplots.AxesSubplot at 0x20aaf7b4f70>"
      ]
     },
     "execution_count": 8,
     "metadata": {},
     "output_type": "execute_result"
    },
    {
     "data": {
      "image/png": "[encoded data removed]",
      "text/plain": [
       "<Figure size 432x288 with 2 Axes>"
      ]
     },
     "metadata": {
      "needs_background": "light"
     },
     "output_type": "display_data"
    }
   ],
   "source": [
    "#using heatmap for better representation of null values\n",
    "sns.heatmap(df.isnull())"
   ]
  },
  {
   "cell_type": "code",
   "execution_count": 9,
   "metadata": {},
   "outputs": [],
   "source": [
    "#filling the null values\n",
    "df=df.replace(np.NaN,df['Number_Weeks_Used'].mean())\n"
   ]
  },
  {
   "cell_type": "code",
   "execution_count": 10,
   "metadata": {},
   "outputs": [
    {
     "data": {
      "text/html": [
       "<div>\n",
       "<style scoped>\n",
       "    .dataframe tbody tr th:only-of-type {\n",
       "        vertical-align: middle;\n",
       "    }\n",
       "\n",
       "    .dataframe tbody tr th {\n",
       "        vertical-align: top;\n",
       "    }\n",
       "\n",
       "    .dataframe thead th {\n",
       "        text-align: right;\n",
       "    }\n",
       "</style>\n",
       "<table border=\"1\" class=\"dataframe\">\n",
       "  <thead>\n",
       "    <tr style=\"text-align: right;\">\n",
       "      <th></th>\n",
       "      <th>Estimated_Insects_Count</th>\n",
       "      <th>Crop_Type</th>\n",
       "      <th>Soil_Type</th>\n",
       "      <th>Pesticide_Use_Category</th>\n",
       "      <th>Number_Doses_Week</th>\n",
       "      <th>Number_Weeks_Used</th>\n",
       "      <th>Number_Weeks_Quit</th>\n",
       "      <th>Season</th>\n",
       "      <th>Crop_Damage</th>\n",
       "    </tr>\n",
       "  </thead>\n",
       "  <tbody>\n",
       "    <tr>\n",
       "      <th>count</th>\n",
       "      <td>88858.000000</td>\n",
       "      <td>88858.000000</td>\n",
       "      <td>88858.000000</td>\n",
       "      <td>88858.000000</td>\n",
       "      <td>88858.000000</td>\n",
       "      <td>88858.000000</td>\n",
       "      <td>88858.000000</td>\n",
       "      <td>88858.000000</td>\n",
       "      <td>88858.000000</td>\n",
       "    </tr>\n",
       "    <tr>\n",
       "      <th>mean</th>\n",
       "      <td>1399.012210</td>\n",
       "      <td>0.284375</td>\n",
       "      <td>0.458417</td>\n",
       "      <td>2.264186</td>\n",
       "      <td>25.849952</td>\n",
       "      <td>28.623970</td>\n",
       "      <td>9.589986</td>\n",
       "      <td>1.896959</td>\n",
       "      <td>0.190562</td>\n",
       "    </tr>\n",
       "    <tr>\n",
       "      <th>std</th>\n",
       "      <td>849.048781</td>\n",
       "      <td>0.451119</td>\n",
       "      <td>0.498271</td>\n",
       "      <td>0.461772</td>\n",
       "      <td>15.554428</td>\n",
       "      <td>11.747567</td>\n",
       "      <td>9.900631</td>\n",
       "      <td>0.701322</td>\n",
       "      <td>0.454215</td>\n",
       "    </tr>\n",
       "    <tr>\n",
       "      <th>min</th>\n",
       "      <td>150.000000</td>\n",
       "      <td>0.000000</td>\n",
       "      <td>0.000000</td>\n",
       "      <td>1.000000</td>\n",
       "      <td>0.000000</td>\n",
       "      <td>0.000000</td>\n",
       "      <td>0.000000</td>\n",
       "      <td>1.000000</td>\n",
       "      <td>0.000000</td>\n",
       "    </tr>\n",
       "    <tr>\n",
       "      <th>25%</th>\n",
       "      <td>731.000000</td>\n",
       "      <td>0.000000</td>\n",
       "      <td>0.000000</td>\n",
       "      <td>2.000000</td>\n",
       "      <td>15.000000</td>\n",
       "      <td>20.000000</td>\n",
       "      <td>0.000000</td>\n",
       "      <td>1.000000</td>\n",
       "      <td>0.000000</td>\n",
       "    </tr>\n",
       "    <tr>\n",
       "      <th>50%</th>\n",
       "      <td>1212.000000</td>\n",
       "      <td>0.000000</td>\n",
       "      <td>0.000000</td>\n",
       "      <td>2.000000</td>\n",
       "      <td>20.000000</td>\n",
       "      <td>28.623970</td>\n",
       "      <td>7.000000</td>\n",
       "      <td>2.000000</td>\n",
       "      <td>0.000000</td>\n",
       "    </tr>\n",
       "    <tr>\n",
       "      <th>75%</th>\n",
       "      <td>1898.000000</td>\n",
       "      <td>1.000000</td>\n",
       "      <td>1.000000</td>\n",
       "      <td>3.000000</td>\n",
       "      <td>40.000000</td>\n",
       "      <td>36.000000</td>\n",
       "      <td>16.000000</td>\n",
       "      <td>2.000000</td>\n",
       "      <td>0.000000</td>\n",
       "    </tr>\n",
       "    <tr>\n",
       "      <th>max</th>\n",
       "      <td>4097.000000</td>\n",
       "      <td>1.000000</td>\n",
       "      <td>1.000000</td>\n",
       "      <td>3.000000</td>\n",
       "      <td>95.000000</td>\n",
       "      <td>67.000000</td>\n",
       "      <td>50.000000</td>\n",
       "      <td>3.000000</td>\n",
       "      <td>2.000000</td>\n",
       "    </tr>\n",
       "  </tbody>\n",
       "</table>\n",
       "</div>"
      ],
      "text/plain": [
       "       Estimated_Insects_Count     Crop_Type     Soil_Type  \\\n",
       "count             88858.000000  88858.000000  88858.000000   \n",
       "mean               1399.012210      0.284375      0.458417   \n",
       "std                 849.048781      0.451119      0.498271   \n",
       "min                 150.000000      0.000000      0.000000   \n",
       "25%                 731.000000      0.000000      0.000000   \n",
       "50%                1212.000000      0.000000      0.000000   \n",
       "75%                1898.000000      1.000000      1.000000   \n",
       "max                4097.000000      1.000000      1.000000   \n",
       "\n",
       "       Pesticide_Use_Category  Number_Doses_Week  Number_Weeks_Used  \\\n",
       "count            88858.000000       88858.000000       88858.000000   \n",
       "mean                 2.264186          25.849952          28.623970   \n",
       "std                  0.461772          15.554428          11.747567   \n",
       "min                  1.000000           0.000000           0.000000   \n",
       "25%                  2.000000          15.000000          20.000000   \n",
       "50%                  2.000000          20.000000          28.623970   \n",
       "75%                  3.000000          40.000000          36.000000   \n",
       "max                  3.000000          95.000000          67.000000   \n",
       "\n",
       "       Number_Weeks_Quit        Season   Crop_Damage  \n",
       "count       88858.000000  88858.000000  88858.000000  \n",
       "mean            9.589986      1.896959      0.190562  \n",
       "std             9.900631      0.701322      0.454215  \n",
       "min             0.000000      1.000000      0.000000  \n",
       "25%             0.000000      1.000000      0.000000  \n",
       "50%             7.000000      2.000000      0.000000  \n",
       "75%            16.000000      2.000000      0.000000  \n",
       "max            50.000000      3.000000      2.000000  "
      ]
     },
     "execution_count": 10,
     "metadata": {},
     "output_type": "execute_result"
    }
   ],
   "source": [
    "#describing the data\n",
    "df.describe()"
   ]
  },
  {
   "cell_type": "raw",
   "metadata": {},
   "source": [
    "key observations:\n",
    "    mean is highest in Estimated_insects_count\n",
    "    there is huge difference in 75% and max in \tNumber_Weeks_Quit,Estimated_Insects_Count,\n",
    "    std is higest in Estimated_Insects_Count\n",
    "    lowest min is 0.00000000 and highest min is 150.000000"
   ]
  },
  {
   "cell_type": "markdown",
   "metadata": {},
   "source": [
    "# Correlation"
   ]
  },
  {
   "cell_type": "code",
   "execution_count": 11,
   "metadata": {},
   "outputs": [
    {
     "data": {
      "text/html": [
       "<div>\n",
       "<style scoped>\n",
       "    .dataframe tbody tr th:only-of-type {\n",
       "        vertical-align: middle;\n",
       "    }\n",
       "\n",
       "    .dataframe tbody tr th {\n",
       "        vertical-align: top;\n",
       "    }\n",
       "\n",
       "    .dataframe thead th {\n",
       "        text-align: right;\n",
       "    }\n",
       "</style>\n",
       "<table border=\"1\" class=\"dataframe\">\n",
       "  <thead>\n",
       "    <tr style=\"text-align: right;\">\n",
       "      <th></th>\n",
       "      <th>Estimated_Insects_Count</th>\n",
       "      <th>Crop_Type</th>\n",
       "      <th>Soil_Type</th>\n",
       "      <th>Pesticide_Use_Category</th>\n",
       "      <th>Number_Doses_Week</th>\n",
       "      <th>Number_Weeks_Used</th>\n",
       "      <th>Number_Weeks_Quit</th>\n",
       "      <th>Season</th>\n",
       "      <th>Crop_Damage</th>\n",
       "    </tr>\n",
       "  </thead>\n",
       "  <tbody>\n",
       "    <tr>\n",
       "      <th>Estimated_Insects_Count</th>\n",
       "      <td>1.000000</td>\n",
       "      <td>-0.088830</td>\n",
       "      <td>-0.056375</td>\n",
       "      <td>-0.079904</td>\n",
       "      <td>-0.102461</td>\n",
       "      <td>0.412904</td>\n",
       "      <td>0.299279</td>\n",
       "      <td>0.002304</td>\n",
       "      <td>0.202888</td>\n",
       "    </tr>\n",
       "    <tr>\n",
       "      <th>Crop_Type</th>\n",
       "      <td>-0.088830</td>\n",
       "      <td>1.000000</td>\n",
       "      <td>-0.287372</td>\n",
       "      <td>0.235779</td>\n",
       "      <td>-0.192161</td>\n",
       "      <td>-0.041679</td>\n",
       "      <td>-0.233394</td>\n",
       "      <td>0.002161</td>\n",
       "      <td>-0.016495</td>\n",
       "    </tr>\n",
       "    <tr>\n",
       "      <th>Soil_Type</th>\n",
       "      <td>-0.056375</td>\n",
       "      <td>-0.287372</td>\n",
       "      <td>1.000000</td>\n",
       "      <td>0.032657</td>\n",
       "      <td>0.079447</td>\n",
       "      <td>-0.066420</td>\n",
       "      <td>0.009364</td>\n",
       "      <td>0.002327</td>\n",
       "      <td>-0.021997</td>\n",
       "    </tr>\n",
       "    <tr>\n",
       "      <th>Pesticide_Use_Category</th>\n",
       "      <td>-0.079904</td>\n",
       "      <td>0.235779</td>\n",
       "      <td>0.032657</td>\n",
       "      <td>1.000000</td>\n",
       "      <td>-0.003498</td>\n",
       "      <td>0.326233</td>\n",
       "      <td>-0.554169</td>\n",
       "      <td>0.002811</td>\n",
       "      <td>0.175002</td>\n",
       "    </tr>\n",
       "    <tr>\n",
       "      <th>Number_Doses_Week</th>\n",
       "      <td>-0.102461</td>\n",
       "      <td>-0.192161</td>\n",
       "      <td>0.079447</td>\n",
       "      <td>-0.003498</td>\n",
       "      <td>1.000000</td>\n",
       "      <td>0.119778</td>\n",
       "      <td>-0.037131</td>\n",
       "      <td>-0.001401</td>\n",
       "      <td>-0.030874</td>\n",
       "    </tr>\n",
       "    <tr>\n",
       "      <th>Number_Weeks_Used</th>\n",
       "      <td>0.412904</td>\n",
       "      <td>-0.041679</td>\n",
       "      <td>-0.066420</td>\n",
       "      <td>0.326233</td>\n",
       "      <td>0.119778</td>\n",
       "      <td>1.000000</td>\n",
       "      <td>-0.425763</td>\n",
       "      <td>0.004188</td>\n",
       "      <td>0.219621</td>\n",
       "    </tr>\n",
       "    <tr>\n",
       "      <th>Number_Weeks_Quit</th>\n",
       "      <td>0.299279</td>\n",
       "      <td>-0.233394</td>\n",
       "      <td>0.009364</td>\n",
       "      <td>-0.554169</td>\n",
       "      <td>-0.037131</td>\n",
       "      <td>-0.425763</td>\n",
       "      <td>1.000000</td>\n",
       "      <td>0.000595</td>\n",
       "      <td>-0.133117</td>\n",
       "    </tr>\n",
       "    <tr>\n",
       "      <th>Season</th>\n",
       "      <td>0.002304</td>\n",
       "      <td>0.002161</td>\n",
       "      <td>0.002327</td>\n",
       "      <td>0.002811</td>\n",
       "      <td>-0.001401</td>\n",
       "      <td>0.004188</td>\n",
       "      <td>0.000595</td>\n",
       "      <td>1.000000</td>\n",
       "      <td>-0.000184</td>\n",
       "    </tr>\n",
       "    <tr>\n",
       "      <th>Crop_Damage</th>\n",
       "      <td>0.202888</td>\n",
       "      <td>-0.016495</td>\n",
       "      <td>-0.021997</td>\n",
       "      <td>0.175002</td>\n",
       "      <td>-0.030874</td>\n",
       "      <td>0.219621</td>\n",
       "      <td>-0.133117</td>\n",
       "      <td>-0.000184</td>\n",
       "      <td>1.000000</td>\n",
       "    </tr>\n",
       "  </tbody>\n",
       "</table>\n",
       "</div>"
      ],
      "text/plain": [
       "                         Estimated_Insects_Count  Crop_Type  Soil_Type  \\\n",
       "Estimated_Insects_Count                 1.000000  -0.088830  -0.056375   \n",
       "Crop_Type                              -0.088830   1.000000  -0.287372   \n",
       "Soil_Type                              -0.056375  -0.287372   1.000000   \n",
       "Pesticide_Use_Category                 -0.079904   0.235779   0.032657   \n",
       "Number_Doses_Week                      -0.102461  -0.192161   0.079447   \n",
       "Number_Weeks_Used                       0.412904  -0.041679  -0.066420   \n",
       "Number_Weeks_Quit                       0.299279  -0.233394   0.009364   \n",
       "Season                                  0.002304   0.002161   0.002327   \n",
       "Crop_Damage                             0.202888  -0.016495  -0.021997   \n",
       "\n",
       "                         Pesticide_Use_Category  Number_Doses_Week  \\\n",
       "Estimated_Insects_Count               -0.079904          -0.102461   \n",
       "Crop_Type                              0.235779          -0.192161   \n",
       "Soil_Type                              0.032657           0.079447   \n",
       "Pesticide_Use_Category                 1.000000          -0.003498   \n",
       "Number_Doses_Week                     -0.003498           1.000000   \n",
       "Number_Weeks_Used                      0.326233           0.119778   \n",
       "Number_Weeks_Quit                     -0.554169          -0.037131   \n",
       "Season                                 0.002811          -0.001401   \n",
       "Crop_Damage                            0.175002          -0.030874   \n",
       "\n",
       "                         Number_Weeks_Used  Number_Weeks_Quit    Season  \\\n",
       "Estimated_Insects_Count           0.412904           0.299279  0.002304   \n",
       "Crop_Type                        -0.041679          -0.233394  0.002161   \n",
       "Soil_Type                        -0.066420           0.009364  0.002327   \n",
       "Pesticide_Use_Category            0.326233          -0.554169  0.002811   \n",
       "Number_Doses_Week                 0.119778          -0.037131 -0.001401   \n",
       "Number_Weeks_Used                 1.000000          -0.425763  0.004188   \n",
       "Number_Weeks_Quit                -0.425763           1.000000  0.000595   \n",
       "Season                            0.004188           0.000595  1.000000   \n",
       "Crop_Damage                       0.219621          -0.133117 -0.000184   \n",
       "\n",
       "                         Crop_Damage  \n",
       "Estimated_Insects_Count     0.202888  \n",
       "Crop_Type                  -0.016495  \n",
       "Soil_Type                  -0.021997  \n",
       "Pesticide_Use_Category      0.175002  \n",
       "Number_Doses_Week          -0.030874  \n",
       "Number_Weeks_Used           0.219621  \n",
       "Number_Weeks_Quit          -0.133117  \n",
       "Season                     -0.000184  \n",
       "Crop_Damage                 1.000000  "
      ]
     },
     "execution_count": 11,
     "metadata": {},
     "output_type": "execute_result"
    }
   ],
   "source": [
    "dfcor=df.corr()\n",
    "dfcor"
   ]
  },
  {
   "cell_type": "code",
   "execution_count": 12,
   "metadata": {},
   "outputs": [
    {
     "data": {
      "text/plain": [
       "<matplotlib.axes._subplots.AxesSubplot at 0x20ab0419970>"
      ]
     },
     "execution_count": 12,
     "metadata": {},
     "output_type": "execute_result"
    },
    {
     "data": {
      "image/png": "[encoded data removed]",
      "text/plain": [
       "<Figure size 864x576 with 2 Axes>"
      ]
     },
     "metadata": {
      "needs_background": "light"
     },
     "output_type": "display_data"
    }
   ],
   "source": [
    "#using heeatmap for bettter representation of the correaltiion\n",
    "plt.figure(figsize=(12,8))\n",
    "sns.heatmap(dfcor,cmap='Blues',annot=True)"
   ]
  },
  {
   "cell_type": "raw",
   "metadata": {},
   "source": [
    "key observation:\n",
    "    darker color represnts higer correaltion and lighter color represents lower correaltion\n",
    "    crop damage has negative corrrealtion with season, number_weeks_quit,number_doses_week, soil type, crop type\n",
    "    crop damage has positve correaltion with number week used which has higest correaltion\n",
    "    number weeks used has highest correaltion with pesticide used category and lowest correaltion with number week quit\n",
    "    estimated insects count has hughest correkation with number weeks used\n",
    "    "
   ]
  },
  {
   "cell_type": "markdown",
   "metadata": {},
   "source": [
    "# Visualizations"
   ]
  },
  {
   "cell_type": "code",
   "execution_count": 13,
   "metadata": {},
   "outputs": [
    {
     "data": {
      "text/plain": [
       "Index(['ID', 'Estimated_Insects_Count', 'Crop_Type', 'Soil_Type',\n",
       "       'Pesticide_Use_Category', 'Number_Doses_Week', 'Number_Weeks_Used',\n",
       "       'Number_Weeks_Quit', 'Season', 'Crop_Damage'],\n",
       "      dtype='object')"
      ]
     },
     "execution_count": 13,
     "metadata": {},
     "output_type": "execute_result"
    }
   ],
   "source": [
    "df.columns"
   ]
  },
  {
   "cell_type": "code",
   "execution_count": 14,
   "metadata": {},
   "outputs": [],
   "source": [
    "#dropping column with id \n",
    "df.drop(columns=['ID'],axis=1, inplace=True)"
   ]
  },
  {
   "cell_type": "markdown",
   "metadata": {},
   "source": [
    "# biivarate analysis with target variable Crop Damage"
   ]
  },
  {
   "cell_type": "code",
   "execution_count": 15,
   "metadata": {},
   "outputs": [
    {
     "data": {
      "text/plain": [
       "1212    3438\n",
       "1132    3370\n",
       "1478    3358\n",
       "1385    3309\n",
       "1056    3235\n",
       "        ... \n",
       "3896     134\n",
       "3515     123\n",
       "4097     113\n",
       "231       89\n",
       "169       63\n",
       "Name: Estimated_Insects_Count, Length: 71, dtype: int64"
      ]
     },
     "execution_count": 15,
     "metadata": {},
     "output_type": "execute_result"
    },
    {
     "data": {
      "image/png": "[encoded data removed]",
      "text/plain": [
       "<Figure size 432x288 with 1 Axes>"
      ]
     },
     "metadata": {
      "needs_background": "light"
     },
     "output_type": "display_data"
    }
   ],
   "source": [
    "sns.scatterplot(x='Estimated_Insects_Count',y='Crop_Damage',data=df)\n",
    "\n",
    "df['Estimated_Insects_Count'].value_counts()"
   ]
  },
  {
   "cell_type": "code",
   "execution_count": 16,
   "metadata": {},
   "outputs": [
    {
     "data": {
      "text/plain": [
       "<matplotlib.axes._subplots.AxesSubplot at 0x20ab061f700>"
      ]
     },
     "execution_count": 16,
     "metadata": {},
     "output_type": "execute_result"
    },
    {
     "data": {
      "image/png": "[encoded data removed]",
      "text/plain": [
       "<Figure size 432x288 with 1 Axes>"
      ]
     },
     "metadata": {
      "needs_background": "light"
     },
     "output_type": "display_data"
    }
   ],
   "source": [
    "sns.scatterplot(x='Crop_Type',y='Crop_Damage',data=df)\n",
    "\n"
   ]
  },
  {
   "cell_type": "code",
   "execution_count": 17,
   "metadata": {},
   "outputs": [
    {
     "data": {
      "text/plain": [
       "<matplotlib.axes._subplots.AxesSubplot at 0x20ab070b9d0>"
      ]
     },
     "execution_count": 17,
     "metadata": {},
     "output_type": "execute_result"
    },
    {
     "data": {
      "image/png": "[encoded data removed]",
      "text/plain": [
       "<Figure size 432x288 with 1 Axes>"
      ]
     },
     "metadata": {
      "needs_background": "light"
     },
     "output_type": "display_data"
    }
   ],
   "source": [
    "sns.scatterplot(x='Soil_Type',y='Crop_Damage',data=df)\n"
   ]
  },
  {
   "cell_type": "code",
   "execution_count": 18,
   "metadata": {},
   "outputs": [
    {
     "data": {
      "text/plain": [
       "<matplotlib.axes._subplots.AxesSubplot at 0x20ab11f8520>"
      ]
     },
     "execution_count": 18,
     "metadata": {},
     "output_type": "execute_result"
    },
    {
     "data": {
      "image/png": "[encoded data removed]",
      "text/plain": [
       "<Figure size 432x288 with 1 Axes>"
      ]
     },
     "metadata": {
      "needs_background": "light"
     },
     "output_type": "display_data"
    }
   ],
   "source": [
    "sns.scatterplot(x='Pesticide_Use_Category',y='Crop_Damage',data=df)\n",
    "\n"
   ]
  },
  {
   "cell_type": "code",
   "execution_count": 19,
   "metadata": {},
   "outputs": [
    {
     "data": {
      "text/plain": [
       "<matplotlib.axes._subplots.AxesSubplot at 0x20ab0d98100>"
      ]
     },
     "execution_count": 19,
     "metadata": {},
     "output_type": "execute_result"
    },
    {
     "data": {
      "image/png": "[encoded data removed]",
      "text/plain": [
       "<Figure size 432x288 with 1 Axes>"
      ]
     },
     "metadata": {
      "needs_background": "light"
     },
     "output_type": "display_data"
    }
   ],
   "source": [
    "sns.scatterplot(x='Number_Doses_Week',y='Crop_Damage',data=df)\n",
    "\n"
   ]
  },
  {
   "cell_type": "code",
   "execution_count": 20,
   "metadata": {},
   "outputs": [
    {
     "data": {
      "text/plain": [
       "<matplotlib.axes._subplots.AxesSubplot at 0x20ab0f52d60>"
      ]
     },
     "execution_count": 20,
     "metadata": {},
     "output_type": "execute_result"
    },
    {
     "data": {
      "image/png": "[encoded data removed]",
      "text/plain": [
       "<Figure size 432x288 with 1 Axes>"
      ]
     },
     "metadata": {
      "needs_background": "light"
     },
     "output_type": "display_data"
    }
   ],
   "source": [
    "sns.scatterplot(x='Number_Weeks_Used',y='Crop_Damage',data=df)\n",
    "\n"
   ]
  },
  {
   "cell_type": "code",
   "execution_count": 21,
   "metadata": {},
   "outputs": [
    {
     "data": {
      "text/plain": [
       "<matplotlib.axes._subplots.AxesSubplot at 0x20ab0e0ca00>"
      ]
     },
     "execution_count": 21,
     "metadata": {},
     "output_type": "execute_result"
    },
    {
     "data": {
      "image/png": "[encoded data removed]",
      "text/plain": [
       "<Figure size 432x288 with 1 Axes>"
      ]
     },
     "metadata": {
      "needs_background": "light"
     },
     "output_type": "display_data"
    }
   ],
   "source": [
    "sns.scatterplot(x='Number_Weeks_Quit',y='Crop_Damage',data=df)\n",
    "\n"
   ]
  },
  {
   "cell_type": "code",
   "execution_count": 22,
   "metadata": {},
   "outputs": [
    {
     "data": {
      "text/plain": [
       "<matplotlib.axes._subplots.AxesSubplot at 0x20ab0e71f40>"
      ]
     },
     "execution_count": 22,
     "metadata": {},
     "output_type": "execute_result"
    },
    {
     "data": {
      "image/png": "[encoded data removed]",
      "text/plain": [
       "<Figure size 432x288 with 1 Axes>"
      ]
     },
     "metadata": {
      "needs_background": "light"
     },
     "output_type": "display_data"
    }
   ],
   "source": [
    "sns.scatterplot(x='Season',y='Crop_Damage',data=df)\n",
    "\n"
   ]
  },
  {
   "cell_type": "code",
   "execution_count": 23,
   "metadata": {},
   "outputs": [
    {
     "data": {
      "text/plain": [
       "Estimated_Insects_Count      int64\n",
       "Crop_Type                    int64\n",
       "Soil_Type                    int64\n",
       "Pesticide_Use_Category       int64\n",
       "Number_Doses_Week            int64\n",
       "Number_Weeks_Used          float64\n",
       "Number_Weeks_Quit            int64\n",
       "Season                       int64\n",
       "Crop_Damage                  int64\n",
       "dtype: object"
      ]
     },
     "execution_count": 23,
     "metadata": {},
     "output_type": "execute_result"
    }
   ],
   "source": [
    "df.dtypes"
   ]
  },
  {
   "cell_type": "code",
   "execution_count": 24,
   "metadata": {},
   "outputs": [
    {
     "data": {
      "image/png": "[encoded data removed]",
      "text/plain": [
       "<Figure size 432x360 with 1 Axes>"
      ]
     },
     "metadata": {
      "needs_background": "light"
     },
     "output_type": "display_data"
    },
    {
     "data": {
      "text/plain": [
       "0    63589\n",
       "1    25269\n",
       "Name: Crop_Type, dtype: int64"
      ]
     },
     "execution_count": 24,
     "metadata": {},
     "output_type": "execute_result"
    }
   ],
   "source": [
    "#univaraite analysis\n",
    "plt.subplots(figsize=(6,5))\n",
    "sns.countplot(x='Crop_Type', data=df)\n",
    "plt.title('Crop_Type')\n",
    "plt.show()\n",
    "df['Crop_Type'].value_counts()"
   ]
  },
  {
   "cell_type": "code",
   "execution_count": 25,
   "metadata": {},
   "outputs": [
    {
     "data": {
      "image/png": "[encoded data removed]",
      "text/plain": [
       "<Figure size 432x360 with 1 Axes>"
      ]
     },
     "metadata": {
      "needs_background": "light"
     },
     "output_type": "display_data"
    },
    {
     "data": {
      "text/plain": [
       "1212    3438\n",
       "1132    3370\n",
       "1478    3358\n",
       "1385    3309\n",
       "1056    3235\n",
       "        ... \n",
       "3896     134\n",
       "3515     123\n",
       "4097     113\n",
       "231       89\n",
       "169       63\n",
       "Name: Estimated_Insects_Count, Length: 71, dtype: int64"
      ]
     },
     "execution_count": 25,
     "metadata": {},
     "output_type": "execute_result"
    }
   ],
   "source": [
    "plt.subplots(figsize=(6,5))\n",
    "sns.countplot(x='Estimated_Insects_Count', data=df)\n",
    "plt.title('Estimated_Insects_Count')\n",
    "plt.xticks(rotation='vertical')\n",
    "plt.show()\n",
    "df['Estimated_Insects_Count'].value_counts()"
   ]
  },
  {
   "cell_type": "code",
   "execution_count": 26,
   "metadata": {},
   "outputs": [
    {
     "data": {
      "image/png": "[encoded data removed]",
      "text/plain": [
       "<Figure size 432x360 with 1 Axes>"
      ]
     },
     "metadata": {
      "needs_background": "light"
     },
     "output_type": "display_data"
    },
    {
     "data": {
      "text/plain": [
       "0    48124\n",
       "1    40734\n",
       "Name: Soil_Type, dtype: int64"
      ]
     },
     "execution_count": 26,
     "metadata": {},
     "output_type": "execute_result"
    }
   ],
   "source": [
    "plt.subplots(figsize=(6,5))\n",
    "sns.countplot(x='Soil_Type', data=df)\n",
    "plt.title('Soil_Type')\n",
    "plt.xticks(rotation=20)\n",
    "plt.show()\n",
    "df['Soil_Type'].value_counts()"
   ]
  },
  {
   "cell_type": "code",
   "execution_count": 27,
   "metadata": {},
   "outputs": [
    {
     "data": {
      "image/png": "[encoded data removed]",
      "text/plain": [
       "<Figure size 432x360 with 1 Axes>"
      ]
     },
     "metadata": {
      "needs_background": "light"
     },
     "output_type": "display_data"
    },
    {
     "data": {
      "text/plain": [
       "2    63709\n",
       "3    24312\n",
       "1      837\n",
       "Name: Pesticide_Use_Category, dtype: int64"
      ]
     },
     "execution_count": 27,
     "metadata": {},
     "output_type": "execute_result"
    }
   ],
   "source": [
    "plt.subplots(figsize=(6,5))\n",
    "sns.countplot(x='Pesticide_Use_Category', data=df)\n",
    "plt.title('Pesticide_Use_Category')\n",
    "plt.show()\n",
    "df['Pesticide_Use_Category'].value_counts()"
   ]
  },
  {
   "cell_type": "code",
   "execution_count": 28,
   "metadata": {},
   "outputs": [
    {
     "data": {
      "image/png": "[encoded data removed]",
      "text/plain": [
       "<Figure size 432x360 with 1 Axes>"
      ]
     },
     "metadata": {
      "needs_background": "light"
     },
     "output_type": "display_data"
    },
    {
     "data": {
      "text/plain": [
       "20    22589\n",
       "40    12298\n",
       "10    12111\n",
       "30    10438\n",
       "15     8178\n",
       "5      5520\n",
       "25     4890\n",
       "60     4367\n",
       "50     3361\n",
       "35     1832\n",
       "45      936\n",
       "0       837\n",
       "80      672\n",
       "70      303\n",
       "55      277\n",
       "90       83\n",
       "65       64\n",
       "75       61\n",
       "95       30\n",
       "85       11\n",
       "Name: Number_Doses_Week, dtype: int64"
      ]
     },
     "execution_count": 28,
     "metadata": {},
     "output_type": "execute_result"
    }
   ],
   "source": [
    "plt.subplots(figsize=(6,5))\n",
    "sns.countplot(x='Number_Doses_Week', data=df)\n",
    "plt.title('Number_Doses_Week')\n",
    "plt.show()\n",
    "df['Number_Doses_Week'].value_counts()"
   ]
  },
  {
   "cell_type": "code",
   "execution_count": 29,
   "metadata": {},
   "outputs": [
    {
     "data": {
      "image/png": "[encoded data removed]",
      "text/plain": [
       "<Figure size 432x360 with 1 Axes>"
      ]
     },
     "metadata": {
      "needs_background": "light"
     },
     "output_type": "display_data"
    },
    {
     "data": {
      "text/plain": [
       "0     27274\n",
       "10     2893\n",
       "5      2831\n",
       "2      2743\n",
       "12     2701\n",
       "15     2668\n",
       "1      2620\n",
       "14     2610\n",
       "6      2584\n",
       "3      2578\n",
       "4      2528\n",
       "13     2485\n",
       "7      2418\n",
       "8      2294\n",
       "20     2209\n",
       "16     2108\n",
       "11     2090\n",
       "18     2030\n",
       "17     2018\n",
       "9      1897\n",
       "19     1841\n",
       "21     1436\n",
       "22     1414\n",
       "23     1166\n",
       "25     1109\n",
       "24     1054\n",
       "26      894\n",
       "27      820\n",
       "28      808\n",
       "30      751\n",
       "29      719\n",
       "31      530\n",
       "32      505\n",
       "33      370\n",
       "34      345\n",
       "35      301\n",
       "36      248\n",
       "37      221\n",
       "38      162\n",
       "40      133\n",
       "39      109\n",
       "41       86\n",
       "42       75\n",
       "43       51\n",
       "44       38\n",
       "45       30\n",
       "46       22\n",
       "47       21\n",
       "48       10\n",
       "50        6\n",
       "49        4\n",
       "Name: Number_Weeks_Quit, dtype: int64"
      ]
     },
     "execution_count": 29,
     "metadata": {},
     "output_type": "execute_result"
    }
   ],
   "source": [
    "plt.subplots(figsize=(6,5))\n",
    "sns.countplot(x='Number_Weeks_Quit', data=df)\n",
    "plt.title('Number_Weeks_Quit')\n",
    "plt.show()\n",
    "df['Number_Weeks_Quit'].value_counts()"
   ]
  },
  {
   "cell_type": "code",
   "execution_count": 30,
   "metadata": {},
   "outputs": [
    {
     "data": {
      "image/png": "[encoded data removed]",
      "text/plain": [
       "<Figure size 432x360 with 1 Axes>"
      ]
     },
     "metadata": {
      "needs_background": "light"
     },
     "output_type": "display_data"
    },
    {
     "data": {
      "text/plain": [
       "2    44210\n",
       "1    26902\n",
       "3    17746\n",
       "Name: Season, dtype: int64"
      ]
     },
     "execution_count": 30,
     "metadata": {},
     "output_type": "execute_result"
    }
   ],
   "source": [
    "plt.subplots(figsize=(6,5))\n",
    "sns.countplot(x='Season', data=df)\n",
    "plt.title('Season')\n",
    "plt.show()\n",
    "df['Season'].value_counts()"
   ]
  },
  {
   "cell_type": "code",
   "execution_count": 31,
   "metadata": {},
   "outputs": [
    {
     "data": {
      "image/png": "[encoded data removed]",
      "text/plain": [
       "<Figure size 432x360 with 1 Axes>"
      ]
     },
     "metadata": {
      "needs_background": "light"
     },
     "output_type": "display_data"
    },
    {
     "data": {
      "text/plain": [
       "0    74238\n",
       "1    12307\n",
       "2     2313\n",
       "Name: Crop_Damage, dtype: int64"
      ]
     },
     "execution_count": 31,
     "metadata": {},
     "output_type": "execute_result"
    }
   ],
   "source": [
    "plt.subplots(figsize=(6,5))\n",
    "sns.countplot(x='Crop_Damage', data=df)\n",
    "plt.title('Crop_Damage')\n",
    "plt.show()\n",
    "df['Crop_Damage'].value_counts()"
   ]
  },
  {
   "cell_type": "markdown",
   "metadata": {},
   "source": [
    "# checking for outliers using boxplot"
   ]
  },
  {
   "cell_type": "code",
   "execution_count": 32,
   "metadata": {},
   "outputs": [
    {
     "data": {
      "text/plain": [
       "Estimated_Insects_Count      int64\n",
       "Crop_Type                    int64\n",
       "Soil_Type                    int64\n",
       "Pesticide_Use_Category       int64\n",
       "Number_Doses_Week            int64\n",
       "Number_Weeks_Used          float64\n",
       "Number_Weeks_Quit            int64\n",
       "Season                       int64\n",
       "Crop_Damage                  int64\n",
       "dtype: object"
      ]
     },
     "execution_count": 32,
     "metadata": {},
     "output_type": "execute_result"
    }
   ],
   "source": [
    "df.dtypes"
   ]
  },
  {
   "cell_type": "code",
   "execution_count": 33,
   "metadata": {},
   "outputs": [
    {
     "data": {
      "text/plain": [
       "<matplotlib.axes._subplots.AxesSubplot at 0x20ab2dd97c0>"
      ]
     },
     "execution_count": 33,
     "metadata": {},
     "output_type": "execute_result"
    },
    {
     "data": {
      "image/png": "[encoded data removed]",
      "text/plain": [
       "<Figure size 432x288 with 1 Axes>"
      ]
     },
     "metadata": {
      "needs_background": "light"
     },
     "output_type": "display_data"
    }
   ],
   "source": [
    "sns.boxplot(df['Estimated_Insects_Count'])"
   ]
  },
  {
   "cell_type": "code",
   "execution_count": 34,
   "metadata": {},
   "outputs": [
    {
     "data": {
      "text/plain": [
       "<matplotlib.axes._subplots.AxesSubplot at 0x20ab2d032b0>"
      ]
     },
     "execution_count": 34,
     "metadata": {},
     "output_type": "execute_result"
    },
    {
     "data": {
      "image/png": "[encoded data removed]",
      "text/plain": [
       "<Figure size 432x288 with 1 Axes>"
      ]
     },
     "metadata": {
      "needs_background": "light"
     },
     "output_type": "display_data"
    }
   ],
   "source": [
    "sns.boxplot(df['Crop_Type'])"
   ]
  },
  {
   "cell_type": "code",
   "execution_count": 35,
   "metadata": {},
   "outputs": [
    {
     "data": {
      "text/plain": [
       "<matplotlib.axes._subplots.AxesSubplot at 0x20ab2bf6640>"
      ]
     },
     "execution_count": 35,
     "metadata": {},
     "output_type": "execute_result"
    },
    {
     "data": {
      "image/png": "[encoded data removed]",
      "text/plain": [
       "<Figure size 432x288 with 1 Axes>"
      ]
     },
     "metadata": {
      "needs_background": "light"
     },
     "output_type": "display_data"
    }
   ],
   "source": [
    "sns.boxplot(df['Soil_Type'])"
   ]
  },
  {
   "cell_type": "code",
   "execution_count": 36,
   "metadata": {},
   "outputs": [
    {
     "data": {
      "text/plain": [
       "<matplotlib.axes._subplots.AxesSubplot at 0x20ab0e5cd30>"
      ]
     },
     "execution_count": 36,
     "metadata": {},
     "output_type": "execute_result"
    },
    {
     "data": {
      "image/png": "[encoded data removed]",
      "text/plain": [
       "<Figure size 432x288 with 1 Axes>"
      ]
     },
     "metadata": {
      "needs_background": "light"
     },
     "output_type": "display_data"
    }
   ],
   "source": [
    "sns.boxplot(df['Pesticide_Use_Category'])"
   ]
  },
  {
   "cell_type": "code",
   "execution_count": 37,
   "metadata": {},
   "outputs": [
    {
     "data": {
      "text/plain": [
       "<matplotlib.axes._subplots.AxesSubplot at 0x20ab0427d60>"
      ]
     },
     "execution_count": 37,
     "metadata": {},
     "output_type": "execute_result"
    },
    {
     "data": {
      "image/png": "[encoded data removed]",
      "text/plain": [
       "<Figure size 432x288 with 1 Axes>"
      ]
     },
     "metadata": {
      "needs_background": "light"
     },
     "output_type": "display_data"
    }
   ],
   "source": [
    "sns.boxplot(df['Number_Doses_Week'])"
   ]
  },
  {
   "cell_type": "code",
   "execution_count": 38,
   "metadata": {},
   "outputs": [
    {
     "data": {
      "text/plain": [
       "<matplotlib.axes._subplots.AxesSubplot at 0x20ab05d61c0>"
      ]
     },
     "execution_count": 38,
     "metadata": {},
     "output_type": "execute_result"
    },
    {
     "data": {
      "image/png": "[encoded data removed]",
      "text/plain": [
       "<Figure size 432x288 with 1 Axes>"
      ]
     },
     "metadata": {
      "needs_background": "light"
     },
     "output_type": "display_data"
    }
   ],
   "source": [
    "sns.boxplot(df['Number_Weeks_Quit'])"
   ]
  },
  {
   "cell_type": "code",
   "execution_count": 39,
   "metadata": {},
   "outputs": [
    {
     "data": {
      "text/plain": [
       "<matplotlib.axes._subplots.AxesSubplot at 0x20ab06f7670>"
      ]
     },
     "execution_count": 39,
     "metadata": {},
     "output_type": "execute_result"
    },
    {
     "data": {
      "image/png": "[encoded data removed]",
      "text/plain": [
       "<Figure size 432x288 with 1 Axes>"
      ]
     },
     "metadata": {
      "needs_background": "light"
     },
     "output_type": "display_data"
    }
   ],
   "source": [
    "sns.boxplot(df['Season'])"
   ]
  },
  {
   "cell_type": "code",
   "execution_count": 40,
   "metadata": {},
   "outputs": [
    {
     "data": {
      "text/plain": [
       "<matplotlib.axes._subplots.AxesSubplot at 0x20ab2e34c40>"
      ]
     },
     "execution_count": 40,
     "metadata": {},
     "output_type": "execute_result"
    },
    {
     "data": {
      "image/png": "[encoded data removed]",
      "text/plain": [
       "<Figure size 432x288 with 1 Axes>"
      ]
     },
     "metadata": {
      "needs_background": "light"
     },
     "output_type": "display_data"
    }
   ],
   "source": [
    "sns.boxplot(df['Crop_Damage'])"
   ]
  },
  {
   "cell_type": "markdown",
   "metadata": {},
   "source": [
    "key observation:\n",
    "    there are ouliers present in the data in the target columns crop damage,Estimated_Insects_Count,Number_Doses_Week,"
   ]
  },
  {
   "cell_type": "markdown",
   "metadata": {},
   "source": [
    "# checking for skewness"
   ]
  },
  {
   "cell_type": "code",
   "execution_count": 41,
   "metadata": {},
   "outputs": [
    {
     "data": {
      "text/plain": [
       "Estimated_Insects_Count    0.839146\n",
       "Crop_Type                  0.955978\n",
       "Soil_Type                  0.166914\n",
       "Pesticide_Use_Category     0.779488\n",
       "Number_Doses_Week          0.962879\n",
       "Number_Weeks_Used          0.258007\n",
       "Number_Weeks_Quit          0.892773\n",
       "Season                     0.145228\n",
       "Crop_Damage                2.367816\n",
       "dtype: float64"
      ]
     },
     "execution_count": 41,
     "metadata": {},
     "output_type": "execute_result"
    }
   ],
   "source": [
    "#checking for skewness\n",
    "df.skew()"
   ]
  },
  {
   "cell_type": "raw",
   "metadata": {},
   "source": [
    "# we are considereing +- 65 as acceptable range for skewness and there are few skwness pressent in the data\n"
   ]
  },
  {
   "cell_type": "code",
   "execution_count": 42,
   "metadata": {},
   "outputs": [
    {
     "data": {
      "image/png": "[encoded data removed]",
      "text/plain": [
       "<Figure size 432x288 with 1 Axes>"
      ]
     },
     "metadata": {
      "needs_background": "light"
     },
     "output_type": "display_data"
    }
   ],
   "source": [
    "#plotting skewness\n",
    "sns.distplot(df['Estimated_Insects_Count'])\n",
    "plt.show()"
   ]
  },
  {
   "cell_type": "code",
   "execution_count": 43,
   "metadata": {},
   "outputs": [
    {
     "data": {
      "image/png": "[encoded data removed]",
      "text/plain": [
       "<Figure size 432x288 with 1 Axes>"
      ]
     },
     "metadata": {
      "needs_background": "light"
     },
     "output_type": "display_data"
    }
   ],
   "source": [
    "sns.distplot(df['Crop_Type'])\n",
    "plt.show()"
   ]
  },
  {
   "cell_type": "code",
   "execution_count": 44,
   "metadata": {},
   "outputs": [
    {
     "data": {
      "image/png": "[encoded data removed]",
      "text/plain": [
       "<Figure size 432x288 with 1 Axes>"
      ]
     },
     "metadata": {
      "needs_background": "light"
     },
     "output_type": "display_data"
    }
   ],
   "source": [
    "sns.distplot(df['Soil_Type'])\n",
    "plt.show()"
   ]
  },
  {
   "cell_type": "code",
   "execution_count": 45,
   "metadata": {},
   "outputs": [
    {
     "data": {
      "image/png": "[encoded data removed]",
      "text/plain": [
       "<Figure size 432x288 with 1 Axes>"
      ]
     },
     "metadata": {
      "needs_background": "light"
     },
     "output_type": "display_data"
    }
   ],
   "source": [
    "sns.distplot(df['Pesticide_Use_Category'])\n",
    "plt.show()"
   ]
  },
  {
   "cell_type": "code",
   "execution_count": 46,
   "metadata": {},
   "outputs": [
    {
     "data": {
      "image/png": "[encoded data removed]",
      "text/plain": [
       "<Figure size 432x288 with 1 Axes>"
      ]
     },
     "metadata": {
      "needs_background": "light"
     },
     "output_type": "display_data"
    }
   ],
   "source": [
    "sns.distplot(df['Number_Doses_Week'])\n",
    "plt.show()"
   ]
  },
  {
   "cell_type": "code",
   "execution_count": 47,
   "metadata": {},
   "outputs": [
    {
     "data": {
      "image/png": "[encoded data removed]",
      "text/plain": [
       "<Figure size 432x288 with 1 Axes>"
      ]
     },
     "metadata": {
      "needs_background": "light"
     },
     "output_type": "display_data"
    }
   ],
   "source": [
    "sns.distplot(df['Number_Weeks_Used'])\n",
    "plt.show()"
   ]
  },
  {
   "cell_type": "code",
   "execution_count": 48,
   "metadata": {},
   "outputs": [
    {
     "data": {
      "image/png": "[encoded data removed]",
      "text/plain": [
       "<Figure size 432x288 with 1 Axes>"
      ]
     },
     "metadata": {
      "needs_background": "light"
     },
     "output_type": "display_data"
    }
   ],
   "source": [
    "sns.distplot(df['Number_Weeks_Quit'])\n",
    "plt.show()"
   ]
  },
  {
   "cell_type": "code",
   "execution_count": 49,
   "metadata": {},
   "outputs": [
    {
     "data": {
      "image/png": "[encoded data removed]",
      "text/plain": [
       "<Figure size 432x288 with 1 Axes>"
      ]
     },
     "metadata": {
      "needs_background": "light"
     },
     "output_type": "display_data"
    }
   ],
   "source": [
    "sns.distplot(df['Season'])\n",
    "plt.show()"
   ]
  },
  {
   "cell_type": "code",
   "execution_count": 50,
   "metadata": {},
   "outputs": [
    {
     "data": {
      "image/png": "[encoded data removed]",
      "text/plain": [
       "<Figure size 432x288 with 1 Axes>"
      ]
     },
     "metadata": {
      "needs_background": "light"
     },
     "output_type": "display_data"
    }
   ],
   "source": [
    "sns.distplot(df['Crop_Damage'])\n",
    "plt.show()"
   ]
  },
  {
   "cell_type": "markdown",
   "metadata": {},
   "source": [
    "# splting the data"
   ]
  },
  {
   "cell_type": "code",
   "execution_count": 51,
   "metadata": {},
   "outputs": [],
   "source": [
    "x=df.iloc[:,:-1]\n",
    "y=df.iloc[:,-1]"
   ]
  },
  {
   "cell_type": "code",
   "execution_count": 52,
   "metadata": {},
   "outputs": [
    {
     "data": {
      "text/plain": [
       "0    74238\n",
       "1    12307\n",
       "2     2313\n",
       "Name: Crop_Damage, dtype: int64"
      ]
     },
     "execution_count": 52,
     "metadata": {},
     "output_type": "execute_result"
    }
   ],
   "source": [
    "df['Crop_Damage'].value_counts()"
   ]
  },
  {
   "cell_type": "code",
   "execution_count": 53,
   "metadata": {},
   "outputs": [
    {
     "name": "stdout",
     "output_type": "stream",
     "text": [
      "(88858, 8) \t\t (88858,)\n"
     ]
    }
   ],
   "source": [
    "#checking the shaoe of x and y\n",
    "print(x.shape, '\\t\\t', y.shape)"
   ]
  },
  {
   "cell_type": "code",
   "execution_count": 54,
   "metadata": {},
   "outputs": [],
   "source": [
    "#splitting the data into training and testing data\n",
    "\n",
    "from sklearn.model_selection import train_test_split\n",
    "x_train,x_test,y_train,y_test = train_test_split(x,y,test_size=.25,random_state=43)"
   ]
  },
  {
   "cell_type": "markdown",
   "metadata": {},
   "source": [
    "# Model building"
   ]
  },
  {
   "cell_type": "code",
   "execution_count": 55,
   "metadata": {},
   "outputs": [],
   "source": [
    "from sklearn.naive_bayes import MultinomialNB\n",
    "from sklearn.ensemble import RandomForestClassifier\n",
    "from sklearn.svm import SVC\n",
    "from sklearn.neighbors import KNeighborsClassifier\n",
    "from sklearn.metrics import accuracy_score,confusion_matrix,classification_report\n",
    "import warnings\n",
    "warnings.filterwarnings('ignore')"
   ]
  },
  {
   "cell_type": "code",
   "execution_count": 56,
   "metadata": {},
   "outputs": [
    {
     "name": "stdout",
     "output_type": "stream",
     "text": [
      "0.630024758046365\n",
      "[[12831  3421  2346]\n",
      " [ 1164   936   979]\n",
      " [  197   112   229]]\n",
      "              precision    recall  f1-score   support\n",
      "\n",
      "           0       0.90      0.69      0.78     18598\n",
      "           1       0.21      0.30      0.25      3079\n",
      "           2       0.06      0.43      0.11       538\n",
      "\n",
      "    accuracy                           0.63     22215\n",
      "   macro avg       0.39      0.47      0.38     22215\n",
      "weighted avg       0.79      0.63      0.69     22215\n",
      "\n"
     ]
    }
   ],
   "source": [
    "mnb=MultinomialNB()\n",
    "mnb.fit(x_train,y_train)\n",
    "predmnb=mnb.predict(x_test)\n",
    "print(accuracy_score(y_test,predmnb))\n",
    "print(confusion_matrix(y_test,predmnb))\n",
    "print(classification_report(y_test,predmnb))\n"
   ]
  },
  {
   "cell_type": "code",
   "execution_count": 57,
   "metadata": {},
   "outputs": [
    {
     "name": "stdout",
     "output_type": "stream",
     "text": [
      "0.8265586315552554\n",
      "[[17749   832    17]\n",
      " [ 2452   603    24]\n",
      " [  382   146    10]]\n",
      "              precision    recall  f1-score   support\n",
      "\n",
      "           0       0.86      0.95      0.91     18598\n",
      "           1       0.38      0.20      0.26      3079\n",
      "           2       0.20      0.02      0.03       538\n",
      "\n",
      "    accuracy                           0.83     22215\n",
      "   macro avg       0.48      0.39      0.40     22215\n",
      "weighted avg       0.78      0.83      0.80     22215\n",
      "\n"
     ]
    }
   ],
   "source": [
    "#k=10\n",
    "knn=KNeighborsClassifier()\n",
    "knn.fit(x_train,y_train)\n",
    "knn.score(x_train,y_train)\n",
    "predknn=knn.predict(x_test)\n",
    "print(accuracy_score(y_test,predknn))\n",
    "print(confusion_matrix(y_test,predknn))\n",
    "print(classification_report(y_test,predknn))"
   ]
  },
  {
   "cell_type": "code",
   "execution_count": 58,
   "metadata": {},
   "outputs": [
    {
     "name": "stdout",
     "output_type": "stream",
     "text": [
      "0.8371820841773576\n",
      "[[18598     0     0]\n",
      " [ 3079     0     0]\n",
      " [  538     0     0]]\n",
      "              precision    recall  f1-score   support\n",
      "\n",
      "           0       0.84      1.00      0.91     18598\n",
      "           1       0.00      0.00      0.00      3079\n",
      "           2       0.00      0.00      0.00       538\n",
      "\n",
      "    accuracy                           0.84     22215\n",
      "   macro avg       0.28      0.33      0.30     22215\n",
      "weighted avg       0.70      0.84      0.76     22215\n",
      "\n"
     ]
    }
   ],
   "source": [
    "svc=SVC(kernel='rbf')\n",
    "svc.fit(x_train,y_train)\n",
    "svc.score(x_train,y_train)\n",
    "predsvc=svc.predict(x_test)\n",
    "print(accuracy_score(y_test,predsvc))\n",
    "print(confusion_matrix(y_test,predsvc))\n",
    "print(classification_report(y_test,predsvc))"
   ]
  },
  {
   "cell_type": "code",
   "execution_count": 59,
   "metadata": {},
   "outputs": [
    {
     "name": "stdout",
     "output_type": "stream",
     "text": [
      "0.8252982219221247\n",
      "[[17665   807   126]\n",
      " [ 2336   638   105]\n",
      " [  340   167    31]]\n",
      "              precision    recall  f1-score   support\n",
      "\n",
      "           0       0.87      0.95      0.91     18598\n",
      "           1       0.40      0.21      0.27      3079\n",
      "           2       0.12      0.06      0.08       538\n",
      "\n",
      "    accuracy                           0.83     22215\n",
      "   macro avg       0.46      0.40      0.42     22215\n",
      "weighted avg       0.78      0.83      0.80     22215\n",
      "\n"
     ]
    }
   ],
   "source": [
    "#using the random forest classifier\n",
    "from sklearn.ensemble import RandomForestClassifier\n",
    "forest = RandomForestClassifier(n_estimators = 100, criterion = 'entropy', random_state = 43)\n",
    "forest.fit(x_train, y_train)\n",
    "forest.score(x_train, y_train)\n",
    "predforest=forest.predict(x_test)\n",
    "print(accuracy_score(y_test,predforest))\n",
    "print(confusion_matrix(y_test,predforest))\n",
    "print(classification_report(y_test,predforest))"
   ]
  },
  {
   "cell_type": "code",
   "execution_count": 60,
   "metadata": {},
   "outputs": [
    {
     "name": "stdout",
     "output_type": "stream",
     "text": [
      "0.8419536349313527\n",
      "[[18376   222     0]\n",
      " [ 2751   328     0]\n",
      " [  451    87     0]]\n",
      "              precision    recall  f1-score   support\n",
      "\n",
      "           0       0.85      0.99      0.91     18598\n",
      "           1       0.51      0.11      0.18      3079\n",
      "           2       0.00      0.00      0.00       538\n",
      "\n",
      "    accuracy                           0.84     22215\n",
      "   macro avg       0.46      0.36      0.36     22215\n",
      "weighted avg       0.78      0.84      0.79     22215\n",
      "\n"
     ]
    }
   ],
   "source": [
    "from sklearn.ensemble import AdaBoostClassifier\n",
    "ad=AdaBoostClassifier()\n",
    "ad.fit(x_train,y_train)\n",
    "predad=ad.predict(x_test)\n",
    "print(accuracy_score(y_test,predad))\n",
    "print(confusion_matrix(y_test,predad))\n",
    "print(classification_report(y_test,predad))"
   ]
  },
  {
   "cell_type": "code",
   "execution_count": 61,
   "metadata": {},
   "outputs": [],
   "source": [
    "#random forest is performing the best and we will use this model for prediction"
   ]
  },
  {
   "cell_type": "markdown",
   "metadata": {},
   "source": [
    "# Saving the best model"
   ]
  },
  {
   "cell_type": "code",
   "execution_count": 63,
   "metadata": {},
   "outputs": [],
   "source": [
    "import joblib"
   ]
  },
  {
   "cell_type": "code",
   "execution_count": 64,
   "metadata": {},
   "outputs": [
    {
     "data": {
      "text/plain": [
       "array([1, 0, 0, ..., 1, 0, 0], dtype=int64)"
      ]
     },
     "execution_count": 64,
     "metadata": {},
     "output_type": "execute_result"
    }
   ],
   "source": [
    "#saving the model as a object file\n",
    "\n",
    "joblib.dump(forest, 'mnbfile.obj')\n",
    "#load the model from the file\n",
    "\n",
    "mnb_from_joblib=joblib.load('mnbfile.obj')\n",
    "\n",
    "#using the loaded model to make predictions\n",
    "\n",
    "mnb_from_joblib.predict(x_test)"
   ]
  },
  {
   "cell_type": "code",
   "execution_count": null,
   "metadata": {},
   "outputs": [],
   "source": []
  }
 ],
 "metadata": {
  "kernelspec": {
   "display_name": "Python 3",
   "language": "python",
   "name": "python3"
  },
  "language_info": {
   "codemirror_mode": {
    "name": "ipython",
    "version": 3
   },
   "file_extension": ".py",
   "mimetype": "text/x-python",
   "name": "python",
   "nbconvert_exporter": "python",
   "pygments_lexer": "ipython3",
   "version": "3.8.3"
  }
 },
 "nbformat": 4,
 "nbformat_minor": 4
}
