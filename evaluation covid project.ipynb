{
 "cells": [
  {
   "cell_type": "markdown",
   "metadata": {},
   "source": [
    "# covid dataanlaysis"
   ]
  },
  {
   "cell_type": "markdown",
   "metadata": {},
   "source": [
    "# importing the librarires"
   ]
  },
  {
   "cell_type": "code",
   "execution_count": 86,
   "metadata": {},
   "outputs": [],
   "source": [
    "import pandas as pd\n",
    "import numpy as np\n",
    "import matplotlib.pyplot as plt\n",
    "import seaborn as sns\n",
    "import warnings\n",
    "warnings.filterwarnings('ignore')"
   ]
  },
  {
   "cell_type": "markdown",
   "metadata": {},
   "source": [
    "# loading the dataset"
   ]
  },
  {
   "cell_type": "code",
   "execution_count": 87,
   "metadata": {},
   "outputs": [
    {
     "data": {
      "text/html": [
       "<div>\n",
       "<style scoped>\n",
       "    .dataframe tbody tr th:only-of-type {\n",
       "        vertical-align: middle;\n",
       "    }\n",
       "\n",
       "    .dataframe tbody tr th {\n",
       "        vertical-align: top;\n",
       "    }\n",
       "\n",
       "    .dataframe thead th {\n",
       "        text-align: right;\n",
       "    }\n",
       "</style>\n",
       "<table border=\"1\" class=\"dataframe\">\n",
       "  <thead>\n",
       "    <tr style=\"text-align: right;\">\n",
       "      <th></th>\n",
       "      <th>Province_State</th>\n",
       "      <th>Country_Region</th>\n",
       "      <th>Last_Update</th>\n",
       "      <th>Lat</th>\n",
       "      <th>Long_</th>\n",
       "      <th>Confirmed</th>\n",
       "      <th>Deaths</th>\n",
       "      <th>Recovered</th>\n",
       "      <th>Active</th>\n",
       "      <th>FIPS</th>\n",
       "      <th>Incident_Rate</th>\n",
       "      <th>People_Tested</th>\n",
       "      <th>People_Hospitalized</th>\n",
       "      <th>Mortality_Rate</th>\n",
       "      <th>UID</th>\n",
       "      <th>ISO3</th>\n",
       "      <th>Testing_Rate</th>\n",
       "      <th>Hospitalization_Rate</th>\n",
       "    </tr>\n",
       "  </thead>\n",
       "  <tbody>\n",
       "    <tr>\n",
       "      <th>0</th>\n",
       "      <td>Alabama</td>\n",
       "      <td>US</td>\n",
       "      <td>2020-05-21 02:32:54</td>\n",
       "      <td>32.3182</td>\n",
       "      <td>-86.9023</td>\n",
       "      <td>13052</td>\n",
       "      <td>522</td>\n",
       "      <td>NaN</td>\n",
       "      <td>12530.0</td>\n",
       "      <td>1</td>\n",
       "      <td>266.194321</td>\n",
       "      <td>164450.0</td>\n",
       "      <td>1493.0</td>\n",
       "      <td>3.999387</td>\n",
       "      <td>84000001</td>\n",
       "      <td>USA</td>\n",
       "      <td>3353.942386</td>\n",
       "      <td>11.438860</td>\n",
       "    </tr>\n",
       "    <tr>\n",
       "      <th>1</th>\n",
       "      <td>Alaska</td>\n",
       "      <td>US</td>\n",
       "      <td>2020-05-21 02:32:54</td>\n",
       "      <td>61.3707</td>\n",
       "      <td>-152.4044</td>\n",
       "      <td>401</td>\n",
       "      <td>10</td>\n",
       "      <td>352.0</td>\n",
       "      <td>39.0</td>\n",
       "      <td>2</td>\n",
       "      <td>54.815493</td>\n",
       "      <td>37045.0</td>\n",
       "      <td>NaN</td>\n",
       "      <td>2.493766</td>\n",
       "      <td>84000002</td>\n",
       "      <td>USA</td>\n",
       "      <td>5063.940017</td>\n",
       "      <td>NaN</td>\n",
       "    </tr>\n",
       "    <tr>\n",
       "      <th>2</th>\n",
       "      <td>American Samoa</td>\n",
       "      <td>US</td>\n",
       "      <td>2020-05-21 02:32:54</td>\n",
       "      <td>-14.2710</td>\n",
       "      <td>-170.1320</td>\n",
       "      <td>0</td>\n",
       "      <td>0</td>\n",
       "      <td>NaN</td>\n",
       "      <td>0.0</td>\n",
       "      <td>60</td>\n",
       "      <td>0.000000</td>\n",
       "      <td>124.0</td>\n",
       "      <td>NaN</td>\n",
       "      <td>NaN</td>\n",
       "      <td>16</td>\n",
       "      <td>ASM</td>\n",
       "      <td>222.857246</td>\n",
       "      <td>NaN</td>\n",
       "    </tr>\n",
       "    <tr>\n",
       "      <th>3</th>\n",
       "      <td>Arizona</td>\n",
       "      <td>US</td>\n",
       "      <td>2020-05-21 02:32:54</td>\n",
       "      <td>33.7298</td>\n",
       "      <td>-111.4312</td>\n",
       "      <td>14906</td>\n",
       "      <td>747</td>\n",
       "      <td>3773.0</td>\n",
       "      <td>10386.0</td>\n",
       "      <td>4</td>\n",
       "      <td>204.788838</td>\n",
       "      <td>165435.0</td>\n",
       "      <td>1792.0</td>\n",
       "      <td>5.011405</td>\n",
       "      <td>84000004</td>\n",
       "      <td>USA</td>\n",
       "      <td>2272.859351</td>\n",
       "      <td>12.022005</td>\n",
       "    </tr>\n",
       "    <tr>\n",
       "      <th>4</th>\n",
       "      <td>Arkansas</td>\n",
       "      <td>US</td>\n",
       "      <td>2020-05-21 02:32:54</td>\n",
       "      <td>34.9697</td>\n",
       "      <td>-92.3731</td>\n",
       "      <td>5003</td>\n",
       "      <td>107</td>\n",
       "      <td>3852.0</td>\n",
       "      <td>1044.0</td>\n",
       "      <td>5</td>\n",
       "      <td>165.782801</td>\n",
       "      <td>96258.0</td>\n",
       "      <td>535.0</td>\n",
       "      <td>2.138717</td>\n",
       "      <td>84000005</td>\n",
       "      <td>USA</td>\n",
       "      <td>3189.670370</td>\n",
       "      <td>10.693584</td>\n",
       "    </tr>\n",
       "    <tr>\n",
       "      <th>5</th>\n",
       "      <td>California</td>\n",
       "      <td>US</td>\n",
       "      <td>2020-05-21 02:32:54</td>\n",
       "      <td>36.1162</td>\n",
       "      <td>-119.6816</td>\n",
       "      <td>85997</td>\n",
       "      <td>3497</td>\n",
       "      <td>NaN</td>\n",
       "      <td>82500.0</td>\n",
       "      <td>6</td>\n",
       "      <td>217.646575</td>\n",
       "      <td>1380120.0</td>\n",
       "      <td>NaN</td>\n",
       "      <td>4.066421</td>\n",
       "      <td>84000006</td>\n",
       "      <td>USA</td>\n",
       "      <td>3492.893832</td>\n",
       "      <td>NaN</td>\n",
       "    </tr>\n",
       "    <tr>\n",
       "      <th>6</th>\n",
       "      <td>Colorado</td>\n",
       "      <td>US</td>\n",
       "      <td>2020-05-21 02:32:54</td>\n",
       "      <td>39.0598</td>\n",
       "      <td>-105.3111</td>\n",
       "      <td>22797</td>\n",
       "      <td>1299</td>\n",
       "      <td>3478.0</td>\n",
       "      <td>18020.0</td>\n",
       "      <td>8</td>\n",
       "      <td>395.868121</td>\n",
       "      <td>131837.0</td>\n",
       "      <td>3955.0</td>\n",
       "      <td>5.698118</td>\n",
       "      <td>84000008</td>\n",
       "      <td>USA</td>\n",
       "      <td>2289.339188</td>\n",
       "      <td>17.348774</td>\n",
       "    </tr>\n",
       "    <tr>\n",
       "      <th>7</th>\n",
       "      <td>Connecticut</td>\n",
       "      <td>US</td>\n",
       "      <td>2020-05-21 02:32:54</td>\n",
       "      <td>41.5978</td>\n",
       "      <td>-72.7554</td>\n",
       "      <td>39017</td>\n",
       "      <td>3529</td>\n",
       "      <td>6264.0</td>\n",
       "      <td>29224.0</td>\n",
       "      <td>9</td>\n",
       "      <td>1094.357902</td>\n",
       "      <td>190718.0</td>\n",
       "      <td>10946.0</td>\n",
       "      <td>9.044775</td>\n",
       "      <td>84000009</td>\n",
       "      <td>USA</td>\n",
       "      <td>5349.302875</td>\n",
       "      <td>28.054438</td>\n",
       "    </tr>\n",
       "    <tr>\n",
       "      <th>8</th>\n",
       "      <td>Delaware</td>\n",
       "      <td>US</td>\n",
       "      <td>2020-05-21 02:32:54</td>\n",
       "      <td>39.3185</td>\n",
       "      <td>-75.5071</td>\n",
       "      <td>8194</td>\n",
       "      <td>310</td>\n",
       "      <td>3965.0</td>\n",
       "      <td>3919.0</td>\n",
       "      <td>10</td>\n",
       "      <td>841.476990</td>\n",
       "      <td>45412.0</td>\n",
       "      <td>NaN</td>\n",
       "      <td>3.783256</td>\n",
       "      <td>84000010</td>\n",
       "      <td>USA</td>\n",
       "      <td>4663.552976</td>\n",
       "      <td>NaN</td>\n",
       "    </tr>\n",
       "    <tr>\n",
       "      <th>9</th>\n",
       "      <td>Diamond Princess</td>\n",
       "      <td>US</td>\n",
       "      <td>2020-05-21 02:32:54</td>\n",
       "      <td>NaN</td>\n",
       "      <td>NaN</td>\n",
       "      <td>49</td>\n",
       "      <td>0</td>\n",
       "      <td>NaN</td>\n",
       "      <td>49.0</td>\n",
       "      <td>88888</td>\n",
       "      <td>NaN</td>\n",
       "      <td>NaN</td>\n",
       "      <td>NaN</td>\n",
       "      <td>0.000000</td>\n",
       "      <td>84088888</td>\n",
       "      <td>USA</td>\n",
       "      <td>NaN</td>\n",
       "      <td>NaN</td>\n",
       "    </tr>\n",
       "  </tbody>\n",
       "</table>\n",
       "</div>"
      ],
      "text/plain": [
       "     Province_State Country_Region          Last_Update      Lat     Long_  \\\n",
       "0           Alabama             US  2020-05-21 02:32:54  32.3182  -86.9023   \n",
       "1            Alaska             US  2020-05-21 02:32:54  61.3707 -152.4044   \n",
       "2    American Samoa             US  2020-05-21 02:32:54 -14.2710 -170.1320   \n",
       "3           Arizona             US  2020-05-21 02:32:54  33.7298 -111.4312   \n",
       "4          Arkansas             US  2020-05-21 02:32:54  34.9697  -92.3731   \n",
       "5        California             US  2020-05-21 02:32:54  36.1162 -119.6816   \n",
       "6          Colorado             US  2020-05-21 02:32:54  39.0598 -105.3111   \n",
       "7       Connecticut             US  2020-05-21 02:32:54  41.5978  -72.7554   \n",
       "8          Delaware             US  2020-05-21 02:32:54  39.3185  -75.5071   \n",
       "9  Diamond Princess             US  2020-05-21 02:32:54      NaN       NaN   \n",
       "\n",
       "   Confirmed  Deaths  Recovered   Active   FIPS  Incident_Rate  People_Tested  \\\n",
       "0      13052     522        NaN  12530.0      1     266.194321       164450.0   \n",
       "1        401      10      352.0     39.0      2      54.815493        37045.0   \n",
       "2          0       0        NaN      0.0     60       0.000000          124.0   \n",
       "3      14906     747     3773.0  10386.0      4     204.788838       165435.0   \n",
       "4       5003     107     3852.0   1044.0      5     165.782801        96258.0   \n",
       "5      85997    3497        NaN  82500.0      6     217.646575      1380120.0   \n",
       "6      22797    1299     3478.0  18020.0      8     395.868121       131837.0   \n",
       "7      39017    3529     6264.0  29224.0      9    1094.357902       190718.0   \n",
       "8       8194     310     3965.0   3919.0     10     841.476990        45412.0   \n",
       "9         49       0        NaN     49.0  88888            NaN            NaN   \n",
       "\n",
       "   People_Hospitalized  Mortality_Rate       UID ISO3  Testing_Rate  \\\n",
       "0               1493.0        3.999387  84000001  USA   3353.942386   \n",
       "1                  NaN        2.493766  84000002  USA   5063.940017   \n",
       "2                  NaN             NaN        16  ASM    222.857246   \n",
       "3               1792.0        5.011405  84000004  USA   2272.859351   \n",
       "4                535.0        2.138717  84000005  USA   3189.670370   \n",
       "5                  NaN        4.066421  84000006  USA   3492.893832   \n",
       "6               3955.0        5.698118  84000008  USA   2289.339188   \n",
       "7              10946.0        9.044775  84000009  USA   5349.302875   \n",
       "8                  NaN        3.783256  84000010  USA   4663.552976   \n",
       "9                  NaN        0.000000  84088888  USA           NaN   \n",
       "\n",
       "   Hospitalization_Rate  \n",
       "0             11.438860  \n",
       "1                   NaN  \n",
       "2                   NaN  \n",
       "3             12.022005  \n",
       "4             10.693584  \n",
       "5                   NaN  \n",
       "6             17.348774  \n",
       "7             28.054438  \n",
       "8                   NaN  \n",
       "9                   NaN  "
      ]
     },
     "execution_count": 87,
     "metadata": {},
     "output_type": "execute_result"
    }
   ],
   "source": [
    "df=pd.read_csv('covidevaluation_csv')\n",
    "df.head(10)"
   ]
  },
  {
   "cell_type": "markdown",
   "metadata": {},
   "source": [
    "# EDA "
   ]
  },
  {
   "cell_type": "code",
   "execution_count": 88,
   "metadata": {},
   "outputs": [
    {
     "data": {
      "text/plain": [
       "(58, 18)"
      ]
     },
     "execution_count": 88,
     "metadata": {},
     "output_type": "execute_result"
    }
   ],
   "source": [
    "#checking the shape of the data\n",
    "df.shape"
   ]
  },
  {
   "cell_type": "code",
   "execution_count": 89,
   "metadata": {},
   "outputs": [
    {
     "data": {
      "text/plain": [
       "Province_State           object\n",
       "Country_Region           object\n",
       "Last_Update              object\n",
       "Lat                     float64\n",
       "Long_                   float64\n",
       "Confirmed                 int64\n",
       "Deaths                    int64\n",
       "Recovered               float64\n",
       "Active                  float64\n",
       "FIPS                      int64\n",
       "Incident_Rate           float64\n",
       "People_Tested           float64\n",
       "People_Hospitalized     float64\n",
       "Mortality_Rate          float64\n",
       "UID                       int64\n",
       "ISO3                     object\n",
       "Testing_Rate            float64\n",
       "Hospitalization_Rate    float64\n",
       "dtype: object"
      ]
     },
     "execution_count": 89,
     "metadata": {},
     "output_type": "execute_result"
    }
   ],
   "source": [
    "#checking the types of data\n",
    "df.dtypes"
   ]
  },
  {
   "cell_type": "raw",
   "metadata": {},
   "source": [
    "key observation:\n",
    "    categorical-Province_State,Country_Region,Last_Update,ISO3\n",
    "    \n",
    "    float-Lat,Lo,ng_ ,Recovered,Active,Incident_Rate     , ,Incident_Rate,People_Tested,People_Hospitalized,Mortality_Rate,Testing_Rate,Hospitalization_Rate\n",
    "    \n",
    "    integers:Confirmed,Deaths ,FIPS,UID "
   ]
  },
  {
   "cell_type": "code",
   "execution_count": 90,
   "metadata": {},
   "outputs": [
    {
     "data": {
      "text/plain": [
       "Index(['Province_State', 'Country_Region', 'Last_Update', 'Lat', 'Long_',\n",
       "       'Confirmed', 'Deaths', 'Recovered', 'Active', 'FIPS', 'Incident_Rate',\n",
       "       'People_Tested', 'People_Hospitalized', 'Mortality_Rate', 'UID', 'ISO3',\n",
       "       'Testing_Rate', 'Hospitalization_Rate'],\n",
       "      dtype='object')"
      ]
     },
     "execution_count": 90,
     "metadata": {},
     "output_type": "execute_result"
    }
   ],
   "source": [
    "#cheking the columns about the data\n",
    "df.columns"
   ]
  },
  {
   "cell_type": "code",
   "execution_count": 91,
   "metadata": {},
   "outputs": [
    {
     "name": "stdout",
     "output_type": "stream",
     "text": [
      "<class 'pandas.core.frame.DataFrame'>\n",
      "RangeIndex: 58 entries, 0 to 57\n",
      "Data columns (total 18 columns):\n",
      " #   Column                Non-Null Count  Dtype  \n",
      "---  ------                --------------  -----  \n",
      " 0   Province_State        58 non-null     object \n",
      " 1   Country_Region        58 non-null     object \n",
      " 2   Last_Update           58 non-null     object \n",
      " 3   Lat                   56 non-null     float64\n",
      " 4   Long_                 56 non-null     float64\n",
      " 5   Confirmed             58 non-null     int64  \n",
      " 6   Deaths                58 non-null     int64  \n",
      " 7   Recovered             42 non-null     float64\n",
      " 8   Active                58 non-null     float64\n",
      " 9   FIPS                  58 non-null     int64  \n",
      " 10  Incident_Rate         56 non-null     float64\n",
      " 11  People_Tested         56 non-null     float64\n",
      " 12  People_Hospitalized   33 non-null     float64\n",
      " 13  Mortality_Rate        57 non-null     float64\n",
      " 14  UID                   58 non-null     int64  \n",
      " 15  ISO3                  58 non-null     object \n",
      " 16  Testing_Rate          56 non-null     float64\n",
      " 17  Hospitalization_Rate  33 non-null     float64\n",
      "dtypes: float64(10), int64(4), object(4)\n",
      "memory usage: 8.3+ KB\n"
     ]
    }
   ],
   "source": [
    "#checking the info about the data\n",
    "df.info()"
   ]
  },
  {
   "cell_type": "code",
   "execution_count": 92,
   "metadata": {},
   "outputs": [
    {
     "data": {
      "text/plain": [
       "Province_State           0\n",
       "Country_Region           0\n",
       "Last_Update              0\n",
       "Lat                      2\n",
       "Long_                    2\n",
       "Confirmed                0\n",
       "Deaths                   0\n",
       "Recovered               16\n",
       "Active                   0\n",
       "FIPS                     0\n",
       "Incident_Rate            2\n",
       "People_Tested            2\n",
       "People_Hospitalized     25\n",
       "Mortality_Rate           1\n",
       "UID                      0\n",
       "ISO3                     0\n",
       "Testing_Rate             2\n",
       "Hospitalization_Rate    25\n",
       "dtype: int64"
      ]
     },
     "execution_count": 92,
     "metadata": {},
     "output_type": "execute_result"
    }
   ],
   "source": [
    "#checking the null values in the data\n",
    "df.isnull().sum()"
   ]
  },
  {
   "cell_type": "raw",
   "metadata": {},
   "source": [
    "there are null values present in the dataset "
   ]
  },
  {
   "cell_type": "code",
   "execution_count": 93,
   "metadata": {},
   "outputs": [
    {
     "data": {
      "text/plain": [
       "<matplotlib.axes._subplots.AxesSubplot at 0x1e220800be0>"
      ]
     },
     "execution_count": 93,
     "metadata": {},
     "output_type": "execute_result"
    },
    {
     "data": {
      "image/png": "[encoded data removed]",
      "text/plain": [
       "<Figure size 432x288 with 2 Axes>"
      ]
     },
     "metadata": {
      "needs_background": "light"
     },
     "output_type": "display_data"
    }
   ],
   "source": [
    "#using heatmap for better representation of the null values\n",
    "sns.heatmap(df.isnull())"
   ]
  },
  {
   "cell_type": "raw",
   "metadata": {},
   "source": [
    "observations:\n",
    "    there are null valuis in LAT,Long, recovered, people hospitalized,incident rate,people tested,morality rate,hospitalization Rate"
   ]
  },
  {
   "cell_type": "code",
   "execution_count": 94,
   "metadata": {},
   "outputs": [],
   "source": [
    "#dropping the values\n",
    "df.drop(columns=['Lat'],axis=1, inplace=True)"
   ]
  },
  {
   "cell_type": "code",
   "execution_count": 95,
   "metadata": {},
   "outputs": [],
   "source": [
    "df.drop(columns=['Long_'],axis=1, inplace=True)"
   ]
  },
  {
   "cell_type": "code",
   "execution_count": 96,
   "metadata": {},
   "outputs": [],
   "source": [
    "#filling the null values \n",
    "df.fillna(method='ffill', inplace=True)"
   ]
  },
  {
   "cell_type": "code",
   "execution_count": 97,
   "metadata": {},
   "outputs": [
    {
     "data": {
      "text/plain": [
       "Province_State          0\n",
       "Country_Region          0\n",
       "Last_Update             0\n",
       "Confirmed               0\n",
       "Deaths                  0\n",
       "Recovered               1\n",
       "Active                  0\n",
       "FIPS                    0\n",
       "Incident_Rate           0\n",
       "People_Tested           0\n",
       "People_Hospitalized     0\n",
       "Mortality_Rate          0\n",
       "UID                     0\n",
       "ISO3                    0\n",
       "Testing_Rate            0\n",
       "Hospitalization_Rate    0\n",
       "dtype: int64"
      ]
     },
     "execution_count": 97,
     "metadata": {},
     "output_type": "execute_result"
    }
   ],
   "source": [
    "df.isnull().sum()"
   ]
  },
  {
   "cell_type": "code",
   "execution_count": 98,
   "metadata": {},
   "outputs": [],
   "source": [
    "df=df.replace(np.NaN,df['Recovered'].mean())"
   ]
  },
  {
   "cell_type": "code",
   "execution_count": 99,
   "metadata": {},
   "outputs": [
    {
     "data": {
      "text/html": [
       "<div>\n",
       "<style scoped>\n",
       "    .dataframe tbody tr th:only-of-type {\n",
       "        vertical-align: middle;\n",
       "    }\n",
       "\n",
       "    .dataframe tbody tr th {\n",
       "        vertical-align: top;\n",
       "    }\n",
       "\n",
       "    .dataframe thead th {\n",
       "        text-align: right;\n",
       "    }\n",
       "</style>\n",
       "<table border=\"1\" class=\"dataframe\">\n",
       "  <thead>\n",
       "    <tr style=\"text-align: right;\">\n",
       "      <th></th>\n",
       "      <th>Confirmed</th>\n",
       "      <th>Deaths</th>\n",
       "      <th>Recovered</th>\n",
       "      <th>Active</th>\n",
       "      <th>FIPS</th>\n",
       "      <th>Incident_Rate</th>\n",
       "      <th>People_Tested</th>\n",
       "      <th>People_Hospitalized</th>\n",
       "      <th>Mortality_Rate</th>\n",
       "      <th>UID</th>\n",
       "      <th>Testing_Rate</th>\n",
       "      <th>Hospitalization_Rate</th>\n",
       "    </tr>\n",
       "  </thead>\n",
       "  <tbody>\n",
       "    <tr>\n",
       "      <th>count</th>\n",
       "      <td>58.000000</td>\n",
       "      <td>58.000000</td>\n",
       "      <td>58.000000</td>\n",
       "      <td>58.000000</td>\n",
       "      <td>58.000000</td>\n",
       "      <td>58.000000</td>\n",
       "      <td>5.800000e+01</td>\n",
       "      <td>58.000000</td>\n",
       "      <td>58.000000</td>\n",
       "      <td>5.800000e+01</td>\n",
       "      <td>58.000000</td>\n",
       "      <td>58.000000</td>\n",
       "    </tr>\n",
       "    <tr>\n",
       "      <th>mean</th>\n",
       "      <td>26756.086207</td>\n",
       "      <td>1611.017241</td>\n",
       "      <td>5744.842105</td>\n",
       "      <td>20070.724138</td>\n",
       "      <td>3288.086207</td>\n",
       "      <td>403.539087</td>\n",
       "      <td>2.257956e+05</td>\n",
       "      <td>5569.086207</td>\n",
       "      <td>4.424378</td>\n",
       "      <td>7.676194e+07</td>\n",
       "      <td>3905.743113</td>\n",
       "      <td>14.926238</td>\n",
       "    </tr>\n",
       "    <tr>\n",
       "      <th>std</th>\n",
       "      <td>52562.031122</td>\n",
       "      <td>4084.750891</td>\n",
       "      <td>10175.135166</td>\n",
       "      <td>41294.705318</td>\n",
       "      <td>17408.350591</td>\n",
       "      <td>399.869065</td>\n",
       "      <td>2.953990e+05</td>\n",
       "      <td>13919.410810</td>\n",
       "      <td>2.131854</td>\n",
       "      <td>2.378302e+07</td>\n",
       "      <td>1901.693125</td>\n",
       "      <td>5.765947</td>\n",
       "    </tr>\n",
       "    <tr>\n",
       "      <th>min</th>\n",
       "      <td>0.000000</td>\n",
       "      <td>0.000000</td>\n",
       "      <td>13.000000</td>\n",
       "      <td>0.000000</td>\n",
       "      <td>1.000000</td>\n",
       "      <td>0.000000</td>\n",
       "      <td>1.240000e+02</td>\n",
       "      <td>65.000000</td>\n",
       "      <td>0.000000</td>\n",
       "      <td>1.600000e+01</td>\n",
       "      <td>97.702058</td>\n",
       "      <td>6.778043</td>\n",
       "    </tr>\n",
       "    <tr>\n",
       "      <th>25%</th>\n",
       "      <td>2596.000000</td>\n",
       "      <td>74.000000</td>\n",
       "      <td>1037.250000</td>\n",
       "      <td>812.500000</td>\n",
       "      <td>18.250000</td>\n",
       "      <td>154.909239</td>\n",
       "      <td>4.563500e+04</td>\n",
       "      <td>559.000000</td>\n",
       "      <td>2.952622</td>\n",
       "      <td>8.400001e+07</td>\n",
       "      <td>2741.843521</td>\n",
       "      <td>10.000000</td>\n",
       "    </tr>\n",
       "    <tr>\n",
       "      <th>50%</th>\n",
       "      <td>10148.500000</td>\n",
       "      <td>385.000000</td>\n",
       "      <td>2354.000000</td>\n",
       "      <td>5644.500000</td>\n",
       "      <td>32.500000</td>\n",
       "      <td>259.009335</td>\n",
       "      <td>1.386545e+05</td>\n",
       "      <td>1504.000000</td>\n",
       "      <td>4.382399</td>\n",
       "      <td>8.400003e+07</td>\n",
       "      <td>3501.526835</td>\n",
       "      <td>14.295576</td>\n",
       "    </tr>\n",
       "    <tr>\n",
       "      <th>75%</th>\n",
       "      <td>29395.500000</td>\n",
       "      <td>1394.250000</td>\n",
       "      <td>5219.000000</td>\n",
       "      <td>19291.250000</td>\n",
       "      <td>47.750000</td>\n",
       "      <td>489.346967</td>\n",
       "      <td>2.838782e+05</td>\n",
       "      <td>6059.000000</td>\n",
       "      <td>5.450908</td>\n",
       "      <td>8.400004e+07</td>\n",
       "      <td>4663.552976</td>\n",
       "      <td>18.316630</td>\n",
       "    </tr>\n",
       "    <tr>\n",
       "      <th>max</th>\n",
       "      <td>354370.000000</td>\n",
       "      <td>28636.000000</td>\n",
       "      <td>61886.000000</td>\n",
       "      <td>263848.000000</td>\n",
       "      <td>99999.000000</td>\n",
       "      <td>1821.620216</td>\n",
       "      <td>1.505836e+06</td>\n",
       "      <td>76410.000000</td>\n",
       "      <td>9.545549</td>\n",
       "      <td>8.410000e+07</td>\n",
       "      <td>11377.424693</td>\n",
       "      <td>28.054438</td>\n",
       "    </tr>\n",
       "  </tbody>\n",
       "</table>\n",
       "</div>"
      ],
      "text/plain": [
       "           Confirmed        Deaths     Recovered         Active          FIPS  \\\n",
       "count      58.000000     58.000000     58.000000      58.000000     58.000000   \n",
       "mean    26756.086207   1611.017241   5744.842105   20070.724138   3288.086207   \n",
       "std     52562.031122   4084.750891  10175.135166   41294.705318  17408.350591   \n",
       "min         0.000000      0.000000     13.000000       0.000000      1.000000   \n",
       "25%      2596.000000     74.000000   1037.250000     812.500000     18.250000   \n",
       "50%     10148.500000    385.000000   2354.000000    5644.500000     32.500000   \n",
       "75%     29395.500000   1394.250000   5219.000000   19291.250000     47.750000   \n",
       "max    354370.000000  28636.000000  61886.000000  263848.000000  99999.000000   \n",
       "\n",
       "       Incident_Rate  People_Tested  People_Hospitalized  Mortality_Rate  \\\n",
       "count      58.000000   5.800000e+01            58.000000       58.000000   \n",
       "mean      403.539087   2.257956e+05          5569.086207        4.424378   \n",
       "std       399.869065   2.953990e+05         13919.410810        2.131854   \n",
       "min         0.000000   1.240000e+02            65.000000        0.000000   \n",
       "25%       154.909239   4.563500e+04           559.000000        2.952622   \n",
       "50%       259.009335   1.386545e+05          1504.000000        4.382399   \n",
       "75%       489.346967   2.838782e+05          6059.000000        5.450908   \n",
       "max      1821.620216   1.505836e+06         76410.000000        9.545549   \n",
       "\n",
       "                UID  Testing_Rate  Hospitalization_Rate  \n",
       "count  5.800000e+01     58.000000             58.000000  \n",
       "mean   7.676194e+07   3905.743113             14.926238  \n",
       "std    2.378302e+07   1901.693125              5.765947  \n",
       "min    1.600000e+01     97.702058              6.778043  \n",
       "25%    8.400001e+07   2741.843521             10.000000  \n",
       "50%    8.400003e+07   3501.526835             14.295576  \n",
       "75%    8.400004e+07   4663.552976             18.316630  \n",
       "max    8.410000e+07  11377.424693             28.054438  "
      ]
     },
     "execution_count": 99,
     "metadata": {},
     "output_type": "execute_result"
    }
   ],
   "source": [
    "#describing the dataset\n",
    "df.describe()"
   ]
  },
  {
   "cell_type": "raw",
   "metadata": {},
   "source": [
    "key observations:\n",
    "    mean is highest in people tested\n",
    "    country region  has the lowest mean\n",
    "    std is hghest in confirmed \n",
    "    the lowest minimum is 0.000000\t\n",
    "    confirmed has the highest maximum with 354370.000000"
   ]
  },
  {
   "cell_type": "markdown",
   "metadata": {},
   "source": [
    "# correlations"
   ]
  },
  {
   "cell_type": "code",
   "execution_count": 100,
   "metadata": {},
   "outputs": [
    {
     "data": {
      "text/html": [
       "<div>\n",
       "<style scoped>\n",
       "    .dataframe tbody tr th:only-of-type {\n",
       "        vertical-align: middle;\n",
       "    }\n",
       "\n",
       "    .dataframe tbody tr th {\n",
       "        vertical-align: top;\n",
       "    }\n",
       "\n",
       "    .dataframe thead th {\n",
       "        text-align: right;\n",
       "    }\n",
       "</style>\n",
       "<table border=\"1\" class=\"dataframe\">\n",
       "  <thead>\n",
       "    <tr style=\"text-align: right;\">\n",
       "      <th></th>\n",
       "      <th>Confirmed</th>\n",
       "      <th>Deaths</th>\n",
       "      <th>Recovered</th>\n",
       "      <th>Active</th>\n",
       "      <th>FIPS</th>\n",
       "      <th>Incident_Rate</th>\n",
       "      <th>People_Tested</th>\n",
       "      <th>People_Hospitalized</th>\n",
       "      <th>Mortality_Rate</th>\n",
       "      <th>UID</th>\n",
       "      <th>Testing_Rate</th>\n",
       "      <th>Hospitalization_Rate</th>\n",
       "    </tr>\n",
       "  </thead>\n",
       "  <tbody>\n",
       "    <tr>\n",
       "      <th>Confirmed</th>\n",
       "      <td>1.000000</td>\n",
       "      <td>0.982191</td>\n",
       "      <td>0.780270</td>\n",
       "      <td>0.985218</td>\n",
       "      <td>-0.096696</td>\n",
       "      <td>0.691343</td>\n",
       "      <td>0.818936</td>\n",
       "      <td>0.581055</td>\n",
       "      <td>0.387956</td>\n",
       "      <td>0.153972</td>\n",
       "      <td>0.328842</td>\n",
       "      <td>0.080575</td>\n",
       "    </tr>\n",
       "    <tr>\n",
       "      <th>Deaths</th>\n",
       "      <td>0.982191</td>\n",
       "      <td>1.000000</td>\n",
       "      <td>0.800412</td>\n",
       "      <td>0.954378</td>\n",
       "      <td>-0.075053</td>\n",
       "      <td>0.695108</td>\n",
       "      <td>0.734953</td>\n",
       "      <td>0.611460</td>\n",
       "      <td>0.430364</td>\n",
       "      <td>0.120043</td>\n",
       "      <td>0.341529</td>\n",
       "      <td>0.119572</td>\n",
       "    </tr>\n",
       "    <tr>\n",
       "      <th>Recovered</th>\n",
       "      <td>0.780270</td>\n",
       "      <td>0.800412</td>\n",
       "      <td>1.000000</td>\n",
       "      <td>0.665159</td>\n",
       "      <td>-0.062070</td>\n",
       "      <td>0.517750</td>\n",
       "      <td>0.634625</td>\n",
       "      <td>0.572777</td>\n",
       "      <td>0.320228</td>\n",
       "      <td>0.162959</td>\n",
       "      <td>0.261484</td>\n",
       "      <td>0.099974</td>\n",
       "    </tr>\n",
       "    <tr>\n",
       "      <th>Active</th>\n",
       "      <td>0.985218</td>\n",
       "      <td>0.954378</td>\n",
       "      <td>0.665159</td>\n",
       "      <td>1.000000</td>\n",
       "      <td>-0.092276</td>\n",
       "      <td>0.684345</td>\n",
       "      <td>0.820928</td>\n",
       "      <td>0.536176</td>\n",
       "      <td>0.372782</td>\n",
       "      <td>0.146354</td>\n",
       "      <td>0.317932</td>\n",
       "      <td>0.068581</td>\n",
       "    </tr>\n",
       "    <tr>\n",
       "      <th>FIPS</th>\n",
       "      <td>-0.096696</td>\n",
       "      <td>-0.075053</td>\n",
       "      <td>-0.062070</td>\n",
       "      <td>-0.092276</td>\n",
       "      <td>1.000000</td>\n",
       "      <td>0.090614</td>\n",
       "      <td>0.005525</td>\n",
       "      <td>0.045707</td>\n",
       "      <td>-0.257254</td>\n",
       "      <td>0.058022</td>\n",
       "      <td>0.029722</td>\n",
       "      <td>0.254879</td>\n",
       "    </tr>\n",
       "    <tr>\n",
       "      <th>Incident_Rate</th>\n",
       "      <td>0.691343</td>\n",
       "      <td>0.695108</td>\n",
       "      <td>0.517750</td>\n",
       "      <td>0.684345</td>\n",
       "      <td>0.090614</td>\n",
       "      <td>1.000000</td>\n",
       "      <td>0.421597</td>\n",
       "      <td>0.369605</td>\n",
       "      <td>0.323635</td>\n",
       "      <td>0.267187</td>\n",
       "      <td>0.620879</td>\n",
       "      <td>0.288356</td>\n",
       "    </tr>\n",
       "    <tr>\n",
       "      <th>People_Tested</th>\n",
       "      <td>0.818936</td>\n",
       "      <td>0.734953</td>\n",
       "      <td>0.634625</td>\n",
       "      <td>0.820928</td>\n",
       "      <td>0.005525</td>\n",
       "      <td>0.421597</td>\n",
       "      <td>1.000000</td>\n",
       "      <td>0.440057</td>\n",
       "      <td>0.244309</td>\n",
       "      <td>0.234060</td>\n",
       "      <td>0.224053</td>\n",
       "      <td>0.019366</td>\n",
       "    </tr>\n",
       "    <tr>\n",
       "      <th>People_Hospitalized</th>\n",
       "      <td>0.581055</td>\n",
       "      <td>0.611460</td>\n",
       "      <td>0.572777</td>\n",
       "      <td>0.536176</td>\n",
       "      <td>0.045707</td>\n",
       "      <td>0.369605</td>\n",
       "      <td>0.440057</td>\n",
       "      <td>1.000000</td>\n",
       "      <td>0.165297</td>\n",
       "      <td>0.079046</td>\n",
       "      <td>0.158636</td>\n",
       "      <td>0.367142</td>\n",
       "    </tr>\n",
       "    <tr>\n",
       "      <th>Mortality_Rate</th>\n",
       "      <td>0.387956</td>\n",
       "      <td>0.430364</td>\n",
       "      <td>0.320228</td>\n",
       "      <td>0.372782</td>\n",
       "      <td>-0.257254</td>\n",
       "      <td>0.323635</td>\n",
       "      <td>0.244309</td>\n",
       "      <td>0.165297</td>\n",
       "      <td>1.000000</td>\n",
       "      <td>-0.180381</td>\n",
       "      <td>0.174703</td>\n",
       "      <td>0.139714</td>\n",
       "    </tr>\n",
       "    <tr>\n",
       "      <th>UID</th>\n",
       "      <td>0.153972</td>\n",
       "      <td>0.120043</td>\n",
       "      <td>0.162959</td>\n",
       "      <td>0.146354</td>\n",
       "      <td>0.058022</td>\n",
       "      <td>0.267187</td>\n",
       "      <td>0.234060</td>\n",
       "      <td>0.079046</td>\n",
       "      <td>-0.180381</td>\n",
       "      <td>1.000000</td>\n",
       "      <td>0.259695</td>\n",
       "      <td>0.122185</td>\n",
       "    </tr>\n",
       "    <tr>\n",
       "      <th>Testing_Rate</th>\n",
       "      <td>0.328842</td>\n",
       "      <td>0.341529</td>\n",
       "      <td>0.261484</td>\n",
       "      <td>0.317932</td>\n",
       "      <td>0.029722</td>\n",
       "      <td>0.620879</td>\n",
       "      <td>0.224053</td>\n",
       "      <td>0.158636</td>\n",
       "      <td>0.174703</td>\n",
       "      <td>0.259695</td>\n",
       "      <td>1.000000</td>\n",
       "      <td>0.001493</td>\n",
       "    </tr>\n",
       "    <tr>\n",
       "      <th>Hospitalization_Rate</th>\n",
       "      <td>0.080575</td>\n",
       "      <td>0.119572</td>\n",
       "      <td>0.099974</td>\n",
       "      <td>0.068581</td>\n",
       "      <td>0.254879</td>\n",
       "      <td>0.288356</td>\n",
       "      <td>0.019366</td>\n",
       "      <td>0.367142</td>\n",
       "      <td>0.139714</td>\n",
       "      <td>0.122185</td>\n",
       "      <td>0.001493</td>\n",
       "      <td>1.000000</td>\n",
       "    </tr>\n",
       "  </tbody>\n",
       "</table>\n",
       "</div>"
      ],
      "text/plain": [
       "                      Confirmed    Deaths  Recovered    Active      FIPS  \\\n",
       "Confirmed              1.000000  0.982191   0.780270  0.985218 -0.096696   \n",
       "Deaths                 0.982191  1.000000   0.800412  0.954378 -0.075053   \n",
       "Recovered              0.780270  0.800412   1.000000  0.665159 -0.062070   \n",
       "Active                 0.985218  0.954378   0.665159  1.000000 -0.092276   \n",
       "FIPS                  -0.096696 -0.075053  -0.062070 -0.092276  1.000000   \n",
       "Incident_Rate          0.691343  0.695108   0.517750  0.684345  0.090614   \n",
       "People_Tested          0.818936  0.734953   0.634625  0.820928  0.005525   \n",
       "People_Hospitalized    0.581055  0.611460   0.572777  0.536176  0.045707   \n",
       "Mortality_Rate         0.387956  0.430364   0.320228  0.372782 -0.257254   \n",
       "UID                    0.153972  0.120043   0.162959  0.146354  0.058022   \n",
       "Testing_Rate           0.328842  0.341529   0.261484  0.317932  0.029722   \n",
       "Hospitalization_Rate   0.080575  0.119572   0.099974  0.068581  0.254879   \n",
       "\n",
       "                      Incident_Rate  People_Tested  People_Hospitalized  \\\n",
       "Confirmed                  0.691343       0.818936             0.581055   \n",
       "Deaths                     0.695108       0.734953             0.611460   \n",
       "Recovered                  0.517750       0.634625             0.572777   \n",
       "Active                     0.684345       0.820928             0.536176   \n",
       "FIPS                       0.090614       0.005525             0.045707   \n",
       "Incident_Rate              1.000000       0.421597             0.369605   \n",
       "People_Tested              0.421597       1.000000             0.440057   \n",
       "People_Hospitalized        0.369605       0.440057             1.000000   \n",
       "Mortality_Rate             0.323635       0.244309             0.165297   \n",
       "UID                        0.267187       0.234060             0.079046   \n",
       "Testing_Rate               0.620879       0.224053             0.158636   \n",
       "Hospitalization_Rate       0.288356       0.019366             0.367142   \n",
       "\n",
       "                      Mortality_Rate       UID  Testing_Rate  \\\n",
       "Confirmed                   0.387956  0.153972      0.328842   \n",
       "Deaths                      0.430364  0.120043      0.341529   \n",
       "Recovered                   0.320228  0.162959      0.261484   \n",
       "Active                      0.372782  0.146354      0.317932   \n",
       "FIPS                       -0.257254  0.058022      0.029722   \n",
       "Incident_Rate               0.323635  0.267187      0.620879   \n",
       "People_Tested               0.244309  0.234060      0.224053   \n",
       "People_Hospitalized         0.165297  0.079046      0.158636   \n",
       "Mortality_Rate              1.000000 -0.180381      0.174703   \n",
       "UID                        -0.180381  1.000000      0.259695   \n",
       "Testing_Rate                0.174703  0.259695      1.000000   \n",
       "Hospitalization_Rate        0.139714  0.122185      0.001493   \n",
       "\n",
       "                      Hospitalization_Rate  \n",
       "Confirmed                         0.080575  \n",
       "Deaths                            0.119572  \n",
       "Recovered                         0.099974  \n",
       "Active                            0.068581  \n",
       "FIPS                              0.254879  \n",
       "Incident_Rate                     0.288356  \n",
       "People_Tested                     0.019366  \n",
       "People_Hospitalized               0.367142  \n",
       "Mortality_Rate                    0.139714  \n",
       "UID                               0.122185  \n",
       "Testing_Rate                      0.001493  \n",
       "Hospitalization_Rate              1.000000  "
      ]
     },
     "execution_count": 100,
     "metadata": {},
     "output_type": "execute_result"
    }
   ],
   "source": [
    "#checking the correlation between columns\n",
    "dfcor=df.corr()\n",
    "dfcor"
   ]
  },
  {
   "cell_type": "code",
   "execution_count": 101,
   "metadata": {},
   "outputs": [
    {
     "data": {
      "text/plain": [
       "<matplotlib.axes._subplots.AxesSubplot at 0x1e220f60af0>"
      ]
     },
     "execution_count": 101,
     "metadata": {},
     "output_type": "execute_result"
    },
    {
     "data": {
      "image/png": "[encoded data removed]",
      "text/plain": [
       "<Figure size 1080x432 with 2 Axes>"
      ]
     },
     "metadata": {
      "needs_background": "light"
     },
     "output_type": "display_data"
    }
   ],
   "source": [
    "#plotting the heatmap for better underatanding of correlations\n",
    "plt.figure(figsize=(15,6))\n",
    "sns.heatmap(dfcor,cmap='Blues',annot=True)"
   ]
  },
  {
   "cell_type": "raw",
   "metadata": {},
   "source": [
    "key observation:\n",
    "    darker color represents higher correaltions and lighter color represnts lighter correlations\n",
    "    confirmed has highest correaltions with deaths, receovered, active, and people tested \n",
    "    confiremd has lowest correaltion with lat\n",
    "    death has highest correlation with confiremd, receovered and active\n",
    "    incident rate has highest correaltions with testing rate\n",
    "    UID has highest correlations with LAT\n",
    "    Long_and UID has the highest negative correaltions\n",
    "    people tested has highest correaltions with active, confirmed, deaths and recovered"
   ]
  },
  {
   "cell_type": "code",
   "execution_count": 102,
   "metadata": {},
   "outputs": [
    {
     "data": {
      "text/plain": [
       "Index(['Province_State', 'Country_Region', 'Last_Update', 'Confirmed',\n",
       "       'Deaths', 'Recovered', 'Active', 'FIPS', 'Incident_Rate',\n",
       "       'People_Tested', 'People_Hospitalized', 'Mortality_Rate', 'UID', 'ISO3',\n",
       "       'Testing_Rate', 'Hospitalization_Rate'],\n",
       "      dtype='object')"
      ]
     },
     "execution_count": 102,
     "metadata": {},
     "output_type": "execute_result"
    }
   ],
   "source": [
    "df.columns"
   ]
  },
  {
   "cell_type": "markdown",
   "metadata": {},
   "source": [
    "# data preprocessing"
   ]
  },
  {
   "cell_type": "code",
   "execution_count": 103,
   "metadata": {},
   "outputs": [
    {
     "data": {
      "text/plain": [
       "Province_State           object\n",
       "Country_Region           object\n",
       "Last_Update              object\n",
       "Confirmed                 int64\n",
       "Deaths                    int64\n",
       "Recovered               float64\n",
       "Active                  float64\n",
       "FIPS                      int64\n",
       "Incident_Rate           float64\n",
       "People_Tested           float64\n",
       "People_Hospitalized     float64\n",
       "Mortality_Rate          float64\n",
       "UID                       int64\n",
       "ISO3                     object\n",
       "Testing_Rate            float64\n",
       "Hospitalization_Rate    float64\n",
       "dtype: object"
      ]
     },
     "execution_count": 103,
     "metadata": {},
     "output_type": "execute_result"
    }
   ],
   "source": [
    "df.dtypes"
   ]
  },
  {
   "cell_type": "code",
   "execution_count": 104,
   "metadata": {},
   "outputs": [],
   "source": [
    "#trasnforming the non numerical data into numerical\n",
    "from sklearn.preprocessing import LabelEncoder\n",
    "le=LabelEncoder()\n",
    "\n",
    "list1=['Province_State','Country_Region','Last_Update','ISO3']\n",
    "for val in list1:\n",
    "    df[val]=le.fit_transform(df[val])\n"
   ]
  },
  {
   "cell_type": "markdown",
   "metadata": {},
   "source": [
    "# Visualizations"
   ]
  },
  {
   "cell_type": "code",
   "execution_count": 105,
   "metadata": {},
   "outputs": [
    {
     "data": {
      "text/plain": [
       "Index(['Province_State', 'Country_Region', 'Last_Update', 'Confirmed',\n",
       "       'Deaths', 'Recovered', 'Active', 'FIPS', 'Incident_Rate',\n",
       "       'People_Tested', 'People_Hospitalized', 'Mortality_Rate', 'UID', 'ISO3',\n",
       "       'Testing_Rate', 'Hospitalization_Rate'],\n",
       "      dtype='object')"
      ]
     },
     "execution_count": 105,
     "metadata": {},
     "output_type": "execute_result"
    }
   ],
   "source": [
    "df.columns"
   ]
  },
  {
   "cell_type": "markdown",
   "metadata": {},
   "source": [
    "univariate anlaysis"
   ]
  },
  {
   "cell_type": "code",
   "execution_count": 106,
   "metadata": {},
   "outputs": [],
   "source": [
    "import matplotlib\n",
    "import matplotlib.pyplot as plt\n",
    "import numpy as np"
   ]
  },
  {
   "cell_type": "code",
   "execution_count": 107,
   "metadata": {},
   "outputs": [
    {
     "data": {
      "text/plain": [
       "<matplotlib.axes._subplots.AxesSubplot at 0x1e22228e280>"
      ]
     },
     "execution_count": 107,
     "metadata": {},
     "output_type": "execute_result"
    },
    {
     "data": {
      "image/png": "[encoded data removed]",
      "text/plain": [
       "<Figure size 432x288 with 1 Axes>"
      ]
     },
     "metadata": {
      "needs_background": "light"
     },
     "output_type": "display_data"
    }
   ],
   "source": [
    "df['Province_State'].plot.hist()"
   ]
  },
  {
   "cell_type": "code",
   "execution_count": 108,
   "metadata": {},
   "outputs": [
    {
     "data": {
      "text/plain": [
       "<matplotlib.axes._subplots.AxesSubplot at 0x1e222473790>"
      ]
     },
     "execution_count": 108,
     "metadata": {},
     "output_type": "execute_result"
    },
    {
     "data": {
      "image/png": "[encoded data removed]",
      "text/plain": [
       "<Figure size 432x288 with 1 Axes>"
      ]
     },
     "metadata": {
      "needs_background": "light"
     },
     "output_type": "display_data"
    }
   ],
   "source": [
    "df['Recovered'].plot.hist()"
   ]
  },
  {
   "cell_type": "code",
   "execution_count": 109,
   "metadata": {},
   "outputs": [
    {
     "data": {
      "text/plain": [
       "<matplotlib.axes._subplots.AxesSubplot at 0x1e2234bc310>"
      ]
     },
     "execution_count": 109,
     "metadata": {},
     "output_type": "execute_result"
    },
    {
     "data": {
      "image/png": "[encoded data removed]",
      "text/plain": [
       "<Figure size 432x288 with 1 Axes>"
      ]
     },
     "metadata": {
      "needs_background": "light"
     },
     "output_type": "display_data"
    }
   ],
   "source": [
    "df['Deaths'].plot.hist()"
   ]
  },
  {
   "cell_type": "code",
   "execution_count": 111,
   "metadata": {},
   "outputs": [
    {
     "data": {
      "text/plain": [
       "<matplotlib.axes._subplots.AxesSubplot at 0x1e2235167f0>"
      ]
     },
     "execution_count": 111,
     "metadata": {},
     "output_type": "execute_result"
    },
    {
     "data": {
      "image/png": "[encoded data removed]",
      "text/plain": [
       "<Figure size 432x288 with 1 Axes>"
      ]
     },
     "metadata": {
      "needs_background": "light"
     },
     "output_type": "display_data"
    }
   ],
   "source": [
    "df['Country_Region'].plot.hist()"
   ]
  },
  {
   "cell_type": "code",
   "execution_count": 114,
   "metadata": {},
   "outputs": [
    {
     "data": {
      "text/plain": [
       "<matplotlib.axes._subplots.AxesSubplot at 0x1e223579eb0>"
      ]
     },
     "execution_count": 114,
     "metadata": {},
     "output_type": "execute_result"
    },
    {
     "data": {
      "image/png": "[encoded data removed]",
      "text/plain": [
       "<Figure size 432x288 with 1 Axes>"
      ]
     },
     "metadata": {
      "needs_background": "light"
     },
     "output_type": "display_data"
    }
   ],
   "source": [
    "df['Confirmed'].plot.hist()"
   ]
  },
  {
   "cell_type": "code",
   "execution_count": 115,
   "metadata": {},
   "outputs": [
    {
     "data": {
      "text/plain": [
       "Index(['Province_State', 'Country_Region', 'Last_Update', 'Confirmed',\n",
       "       'Deaths', 'Recovered', 'Active', 'FIPS', 'Incident_Rate',\n",
       "       'People_Tested', 'People_Hospitalized', 'Mortality_Rate', 'UID', 'ISO3',\n",
       "       'Testing_Rate', 'Hospitalization_Rate'],\n",
       "      dtype='object')"
      ]
     },
     "execution_count": 115,
     "metadata": {},
     "output_type": "execute_result"
    }
   ],
   "source": [
    "df.columns"
   ]
  },
  {
   "cell_type": "code",
   "execution_count": 116,
   "metadata": {},
   "outputs": [
    {
     "data": {
      "image/png": "[encoded data removed]",
      "text/plain": [
       "<Figure size 432x288 with 1 Axes>"
      ]
     },
     "metadata": {
      "needs_background": "light"
     },
     "output_type": "display_data"
    }
   ],
   "source": [
    "#bivariate analysis using scatterplot\n",
    "\n",
    "plt.scatter(x='Province_State', y='Deaths', data=df)\n",
    "plt.show()"
   ]
  },
  {
   "cell_type": "code",
   "execution_count": 117,
   "metadata": {},
   "outputs": [
    {
     "data": {
      "image/png": "[encoded data removed]",
      "text/plain": [
       "<Figure size 432x288 with 1 Axes>"
      ]
     },
     "metadata": {
      "needs_background": "light"
     },
     "output_type": "display_data"
    }
   ],
   "source": [
    "plt.scatter(x='Country_Region', y='Deaths', data=df)\n",
    "plt.show()"
   ]
  },
  {
   "cell_type": "code",
   "execution_count": 118,
   "metadata": {},
   "outputs": [
    {
     "data": {
      "image/png": "[encoded data removed]",
      "text/plain": [
       "<Figure size 432x288 with 1 Axes>"
      ]
     },
     "metadata": {
      "needs_background": "light"
     },
     "output_type": "display_data"
    }
   ],
   "source": [
    "plt.scatter(x='Confirmed', y='Deaths', data=df)\n",
    "plt.show()"
   ]
  },
  {
   "cell_type": "code",
   "execution_count": 119,
   "metadata": {},
   "outputs": [
    {
     "data": {
      "image/png": "[encoded data removed]",
      "text/plain": [
       "<Figure size 432x288 with 1 Axes>"
      ]
     },
     "metadata": {
      "needs_background": "light"
     },
     "output_type": "display_data"
    }
   ],
   "source": [
    "plt.scatter(x='Recovered', y='Deaths', data=df)\n",
    "plt.show()"
   ]
  },
  {
   "cell_type": "code",
   "execution_count": 120,
   "metadata": {},
   "outputs": [
    {
     "data": {
      "image/png": "[encoded data removed]",
      "text/plain": [
       "<Figure size 432x288 with 1 Axes>"
      ]
     },
     "metadata": {
      "needs_background": "light"
     },
     "output_type": "display_data"
    }
   ],
   "source": [
    "plt.scatter(x='Active', y='Deaths', data=df)\n",
    "plt.show()"
   ]
  },
  {
   "cell_type": "code",
   "execution_count": 121,
   "metadata": {},
   "outputs": [
    {
     "data": {
      "image/png": "[encoded data removed]",
      "text/plain": [
       "<Figure size 432x288 with 1 Axes>"
      ]
     },
     "metadata": {
      "needs_background": "light"
     },
     "output_type": "display_data"
    }
   ],
   "source": [
    "plt.scatter(x='FIPS', y='Deaths', data=df)\n",
    "plt.show()"
   ]
  },
  {
   "cell_type": "code",
   "execution_count": 122,
   "metadata": {},
   "outputs": [
    {
     "data": {
      "image/png": "[encoded data removed]",
      "text/plain": [
       "<Figure size 432x288 with 1 Axes>"
      ]
     },
     "metadata": {
      "needs_background": "light"
     },
     "output_type": "display_data"
    }
   ],
   "source": [
    "plt.scatter(x='Incident_Rate', y='Deaths', data=df)\n",
    "plt.show()"
   ]
  },
  {
   "cell_type": "code",
   "execution_count": 123,
   "metadata": {},
   "outputs": [
    {
     "data": {
      "image/png": "[encoded data removed]",
      "text/plain": [
       "<Figure size 432x288 with 1 Axes>"
      ]
     },
     "metadata": {
      "needs_background": "light"
     },
     "output_type": "display_data"
    }
   ],
   "source": [
    "plt.scatter(x='People_Tested', y='Deaths', data=df)\n",
    "plt.show()"
   ]
  },
  {
   "cell_type": "code",
   "execution_count": 124,
   "metadata": {},
   "outputs": [
    {
     "data": {
      "image/png": "[encoded data removed]",
      "text/plain": [
       "<Figure size 432x288 with 1 Axes>"
      ]
     },
     "metadata": {
      "needs_background": "light"
     },
     "output_type": "display_data"
    }
   ],
   "source": [
    "plt.scatter(x='People_Hospitalized', y='Deaths', data=df)\n",
    "plt.show()"
   ]
  },
  {
   "cell_type": "code",
   "execution_count": 125,
   "metadata": {},
   "outputs": [
    {
     "data": {
      "image/png": "[encoded data removed]",
      "text/plain": [
       "<Figure size 432x288 with 1 Axes>"
      ]
     },
     "metadata": {
      "needs_background": "light"
     },
     "output_type": "display_data"
    }
   ],
   "source": [
    "plt.scatter(x='Testing_Rate', y='Deaths', data=df)\n",
    "plt.show()"
   ]
  },
  {
   "cell_type": "code",
   "execution_count": 126,
   "metadata": {},
   "outputs": [
    {
     "data": {
      "image/png": "[encoded data removed]",
      "text/plain": [
       "<Figure size 432x288 with 1 Axes>"
      ]
     },
     "metadata": {
      "needs_background": "light"
     },
     "output_type": "display_data"
    }
   ],
   "source": [
    "plt.scatter(x='Hospitalization_Rate', y='Deaths', data=df)\n",
    "plt.show()"
   ]
  },
  {
   "cell_type": "code",
   "execution_count": 127,
   "metadata": {},
   "outputs": [
    {
     "data": {
      "text/plain": [
       "Index(['Province_State', 'Country_Region', 'Last_Update', 'Confirmed',\n",
       "       'Deaths', 'Recovered', 'Active', 'FIPS', 'Incident_Rate',\n",
       "       'People_Tested', 'People_Hospitalized', 'Mortality_Rate', 'UID', 'ISO3',\n",
       "       'Testing_Rate', 'Hospitalization_Rate'],\n",
       "      dtype='object')"
      ]
     },
     "execution_count": 127,
     "metadata": {},
     "output_type": "execute_result"
    }
   ],
   "source": [
    "df.columns"
   ]
  },
  {
   "cell_type": "code",
   "execution_count": 128,
   "metadata": {},
   "outputs": [
    {
     "data": {
      "text/plain": [
       "<matplotlib.axes._subplots.AxesSubplot at 0x1e22378c460>"
      ]
     },
     "execution_count": 128,
     "metadata": {},
     "output_type": "execute_result"
    },
    {
     "data": {
      "image/png": "[encoded data removed]",
      "text/plain": [
       "<Figure size 432x288 with 1 Axes>"
      ]
     },
     "metadata": {
      "needs_background": "light"
     },
     "output_type": "display_data"
    }
   ],
   "source": [
    "#usinng the box plot\n",
    "sns.boxplot(df['Province_State'])"
   ]
  },
  {
   "cell_type": "code",
   "execution_count": 129,
   "metadata": {},
   "outputs": [
    {
     "data": {
      "text/plain": [
       "<matplotlib.axes._subplots.AxesSubplot at 0x1e2237def10>"
      ]
     },
     "execution_count": 129,
     "metadata": {},
     "output_type": "execute_result"
    },
    {
     "data": {
      "image/png": "[encoded data removed]",
      "text/plain": [
       "<Figure size 432x288 with 1 Axes>"
      ]
     },
     "metadata": {
      "needs_background": "light"
     },
     "output_type": "display_data"
    }
   ],
   "source": [
    "sns.boxplot(df['Country_Region'])"
   ]
  },
  {
   "cell_type": "code",
   "execution_count": 130,
   "metadata": {},
   "outputs": [
    {
     "data": {
      "text/plain": [
       "<matplotlib.axes._subplots.AxesSubplot at 0x1e223831130>"
      ]
     },
     "execution_count": 130,
     "metadata": {},
     "output_type": "execute_result"
    },
    {
     "data": {
      "image/png": "[encoded data removed]",
      "text/plain": [
       "<Figure size 432x288 with 1 Axes>"
      ]
     },
     "metadata": {
      "needs_background": "light"
     },
     "output_type": "display_data"
    }
   ],
   "source": [
    "sns.boxplot(df['Last_Update'])"
   ]
  },
  {
   "cell_type": "code",
   "execution_count": 133,
   "metadata": {},
   "outputs": [
    {
     "data": {
      "text/plain": [
       "<matplotlib.axes._subplots.AxesSubplot at 0x1e223887d60>"
      ]
     },
     "execution_count": 133,
     "metadata": {},
     "output_type": "execute_result"
    },
    {
     "data": {
      "image/png": "[encoded data removed]",
      "text/plain": [
       "<Figure size 432x288 with 1 Axes>"
      ]
     },
     "metadata": {
      "needs_background": "light"
     },
     "output_type": "display_data"
    }
   ],
   "source": [
    "sns.boxplot(df['Confirmed'])"
   ]
  },
  {
   "cell_type": "code",
   "execution_count": 134,
   "metadata": {},
   "outputs": [
    {
     "data": {
      "text/plain": [
       "<matplotlib.axes._subplots.AxesSubplot at 0x1e2238ded60>"
      ]
     },
     "execution_count": 134,
     "metadata": {},
     "output_type": "execute_result"
    },
    {
     "data": {
      "image/png": "[encoded data removed]",
      "text/plain": [
       "<Figure size 432x288 with 1 Axes>"
      ]
     },
     "metadata": {
      "needs_background": "light"
     },
     "output_type": "display_data"
    }
   ],
   "source": [
    "sns.boxplot(df['Deaths'])"
   ]
  },
  {
   "cell_type": "code",
   "execution_count": 135,
   "metadata": {},
   "outputs": [
    {
     "data": {
      "text/plain": [
       "<matplotlib.axes._subplots.AxesSubplot at 0x1e22393bac0>"
      ]
     },
     "execution_count": 135,
     "metadata": {},
     "output_type": "execute_result"
    },
    {
     "data": {
      "image/png": "[encoded data removed]",
      "text/plain": [
       "<Figure size 432x288 with 1 Axes>"
      ]
     },
     "metadata": {
      "needs_background": "light"
     },
     "output_type": "display_data"
    }
   ],
   "source": [
    "sns.boxplot(df['Recovered'])"
   ]
  },
  {
   "cell_type": "code",
   "execution_count": 136,
   "metadata": {},
   "outputs": [
    {
     "data": {
      "text/plain": [
       "<matplotlib.axes._subplots.AxesSubplot at 0x1e2239954c0>"
      ]
     },
     "execution_count": 136,
     "metadata": {},
     "output_type": "execute_result"
    },
    {
     "data": {
      "image/png": "[encoded data removed]",
      "text/plain": [
       "<Figure size 432x288 with 1 Axes>"
      ]
     },
     "metadata": {
      "needs_background": "light"
     },
     "output_type": "display_data"
    }
   ],
   "source": [
    "sns.boxplot(df['Active'])"
   ]
  },
  {
   "cell_type": "code",
   "execution_count": 137,
   "metadata": {},
   "outputs": [
    {
     "data": {
      "text/plain": [
       "<matplotlib.axes._subplots.AxesSubplot at 0x1e2239e5070>"
      ]
     },
     "execution_count": 137,
     "metadata": {},
     "output_type": "execute_result"
    },
    {
     "data": {
      "image/png": "[encoded data removed]",
      "text/plain": [
       "<Figure size 432x288 with 1 Axes>"
      ]
     },
     "metadata": {
      "needs_background": "light"
     },
     "output_type": "display_data"
    }
   ],
   "source": [
    "sns.boxplot(df['FIPS'])"
   ]
  },
  {
   "cell_type": "code",
   "execution_count": 138,
   "metadata": {},
   "outputs": [
    {
     "data": {
      "text/plain": [
       "<matplotlib.axes._subplots.AxesSubplot at 0x1e223a3e580>"
      ]
     },
     "execution_count": 138,
     "metadata": {},
     "output_type": "execute_result"
    },
    {
     "data": {
      "image/png": "[encoded data removed]",
      "text/plain": [
       "<Figure size 432x288 with 1 Axes>"
      ]
     },
     "metadata": {
      "needs_background": "light"
     },
     "output_type": "display_data"
    }
   ],
   "source": [
    "sns.boxplot(df['Incident_Rate'])"
   ]
  },
  {
   "cell_type": "code",
   "execution_count": 139,
   "metadata": {},
   "outputs": [
    {
     "data": {
      "text/plain": [
       "<matplotlib.axes._subplots.AxesSubplot at 0x1e223a95640>"
      ]
     },
     "execution_count": 139,
     "metadata": {},
     "output_type": "execute_result"
    },
    {
     "data": {
      "image/png": "[encoded data removed]",
      "text/plain": [
       "<Figure size 432x288 with 1 Axes>"
      ]
     },
     "metadata": {
      "needs_background": "light"
     },
     "output_type": "display_data"
    }
   ],
   "source": [
    "sns.boxplot(df['People_Tested'])"
   ]
  },
  {
   "cell_type": "code",
   "execution_count": 140,
   "metadata": {},
   "outputs": [
    {
     "data": {
      "text/plain": [
       "<matplotlib.axes._subplots.AxesSubplot at 0x1e2237706d0>"
      ]
     },
     "execution_count": 140,
     "metadata": {},
     "output_type": "execute_result"
    },
    {
     "data": {
      "image/png": "[encoded data removed]",
      "text/plain": [
       "<Figure size 432x288 with 1 Axes>"
      ]
     },
     "metadata": {
      "needs_background": "light"
     },
     "output_type": "display_data"
    }
   ],
   "source": [
    "sns.boxplot(df['People_Hospitalized'])"
   ]
  },
  {
   "cell_type": "code",
   "execution_count": 141,
   "metadata": {},
   "outputs": [
    {
     "data": {
      "text/plain": [
       "<matplotlib.axes._subplots.AxesSubplot at 0x1e2237371f0>"
      ]
     },
     "execution_count": 141,
     "metadata": {},
     "output_type": "execute_result"
    },
    {
     "data": {
      "image/png": "[encoded data removed]",
      "text/plain": [
       "<Figure size 432x288 with 1 Axes>"
      ]
     },
     "metadata": {
      "needs_background": "light"
     },
     "output_type": "display_data"
    }
   ],
   "source": [
    "sns.boxplot(df['Mortality_Rate'])"
   ]
  },
  {
   "cell_type": "code",
   "execution_count": 142,
   "metadata": {},
   "outputs": [
    {
     "data": {
      "text/plain": [
       "<matplotlib.axes._subplots.AxesSubplot at 0x1e223630f10>"
      ]
     },
     "execution_count": 142,
     "metadata": {},
     "output_type": "execute_result"
    },
    {
     "data": {
      "image/png": "[encoded data removed]",
      "text/plain": [
       "<Figure size 432x288 with 1 Axes>"
      ]
     },
     "metadata": {
      "needs_background": "light"
     },
     "output_type": "display_data"
    }
   ],
   "source": [
    "sns.boxplot(df['UID'])"
   ]
  },
  {
   "cell_type": "code",
   "execution_count": 143,
   "metadata": {},
   "outputs": [
    {
     "data": {
      "text/plain": [
       "<matplotlib.axes._subplots.AxesSubplot at 0x1e2220e8f70>"
      ]
     },
     "execution_count": 143,
     "metadata": {},
     "output_type": "execute_result"
    },
    {
     "data": {
      "image/png": "[encoded data removed]",
      "text/plain": [
       "<Figure size 432x288 with 1 Axes>"
      ]
     },
     "metadata": {
      "needs_background": "light"
     },
     "output_type": "display_data"
    }
   ],
   "source": [
    "sns.boxplot(df['ISO3'])"
   ]
  },
  {
   "cell_type": "code",
   "execution_count": 144,
   "metadata": {},
   "outputs": [
    {
     "data": {
      "text/plain": [
       "<matplotlib.axes._subplots.AxesSubplot at 0x1e222468280>"
      ]
     },
     "execution_count": 144,
     "metadata": {},
     "output_type": "execute_result"
    },
    {
     "data": {
      "image/png": "[encoded data removed]",
      "text/plain": [
       "<Figure size 432x288 with 1 Axes>"
      ]
     },
     "metadata": {
      "needs_background": "light"
     },
     "output_type": "display_data"
    }
   ],
   "source": [
    "sns.boxplot(df['Testing_Rate'])"
   ]
  },
  {
   "cell_type": "code",
   "execution_count": 145,
   "metadata": {},
   "outputs": [
    {
     "data": {
      "text/plain": [
       "<matplotlib.axes._subplots.AxesSubplot at 0x1e221a54400>"
      ]
     },
     "execution_count": 145,
     "metadata": {},
     "output_type": "execute_result"
    },
    {
     "data": {
      "image/png": "[encoded data removed]",
      "text/plain": [
       "<Figure size 432x288 with 1 Axes>"
      ]
     },
     "metadata": {
      "needs_background": "light"
     },
     "output_type": "display_data"
    }
   ],
   "source": [
    "sns.boxplot(df['Hospitalization_Rate'])"
   ]
  },
  {
   "cell_type": "markdown",
   "metadata": {},
   "source": [
    "key observation:\n",
    "    there are outliers present in 14 columns we will be treating this outliers\n"
   ]
  },
  {
   "cell_type": "markdown",
   "metadata": {},
   "source": [
    "# checking for skewness"
   ]
  },
  {
   "cell_type": "code",
   "execution_count": 146,
   "metadata": {},
   "outputs": [
    {
     "data": {
      "text/plain": [
       "Province_State          0.000000\n",
       "Country_Region          0.000000\n",
       "Last_Update             0.000000\n",
       "Confirmed               4.708614\n",
       "Deaths                  5.489201\n",
       "Recovered               3.708100\n",
       "Active                  4.180953\n",
       "FIPS                    5.269070\n",
       "Incident_Rate           1.892973\n",
       "People_Tested           2.775711\n",
       "People_Hospitalized     4.768053\n",
       "Mortality_Rate          0.520412\n",
       "UID                    -3.027480\n",
       "ISO3                   -4.126625\n",
       "Testing_Rate            1.290053\n",
       "Hospitalization_Rate    0.690799\n",
       "dtype: float64"
      ]
     },
     "execution_count": 146,
     "metadata": {},
     "output_type": "execute_result"
    }
   ],
   "source": [
    "df.skew()"
   ]
  },
  {
   "cell_type": "code",
   "execution_count": 147,
   "metadata": {},
   "outputs": [],
   "source": [
    "from scipy.stats import skew"
   ]
  },
  {
   "cell_type": "code",
   "execution_count": 148,
   "metadata": {
    "scrolled": false
   },
   "outputs": [
    {
     "name": "stdout",
     "output_type": "stream",
     "text": [
      "Province_State\n",
      "0.0\n"
     ]
    },
    {
     "data": {
      "image/png": "[encoded data removed]",
      "text/plain": [
       "<Figure size 432x288 with 1 Axes>"
      ]
     },
     "metadata": {
      "needs_background": "light"
     },
     "output_type": "display_data"
    },
    {
     "name": "stdout",
     "output_type": "stream",
     "text": [
      "Country_Region\n",
      "0.0\n"
     ]
    },
    {
     "data": {
      "image/png": "[encoded data removed]",
      "text/plain": [
       "<Figure size 432x288 with 1 Axes>"
      ]
     },
     "metadata": {
      "needs_background": "light"
     },
     "output_type": "display_data"
    },
    {
     "name": "stdout",
     "output_type": "stream",
     "text": [
      "Last_Update\n",
      "0.0\n"
     ]
    },
    {
     "data": {
      "image/png": "[encoded data removed]",
      "text/plain": [
       "<Figure size 432x288 with 1 Axes>"
      ]
     },
     "metadata": {
      "needs_background": "light"
     },
     "output_type": "display_data"
    },
    {
     "name": "stdout",
     "output_type": "stream",
     "text": [
      "Confirmed\n",
      "4.585954300846335\n"
     ]
    },
    {
     "data": {
      "image/png": "[encoded data removed]",
      "text/plain": [
       "<Figure size 432x288 with 1 Axes>"
      ]
     },
     "metadata": {
      "needs_background": "light"
     },
     "output_type": "display_data"
    },
    {
     "name": "stdout",
     "output_type": "stream",
     "text": [
      "Deaths\n",
      "5.346206359289038\n"
     ]
    },
    {
     "data": {
      "image/png": "[encoded data removed]",
      "text/plain": [
       "<Figure size 432x288 with 1 Axes>"
      ]
     },
     "metadata": {
      "needs_background": "light"
     },
     "output_type": "display_data"
    },
    {
     "name": "stdout",
     "output_type": "stream",
     "text": [
      "Recovered\n",
      "3.6115036373929095\n"
     ]
    },
    {
     "data": {
      "image/png": "[encoded data removed]",
      "text/plain": [
       "<Figure size 432x288 with 1 Axes>"
      ]
     },
     "metadata": {
      "needs_background": "light"
     },
     "output_type": "display_data"
    },
    {
     "name": "stdout",
     "output_type": "stream",
     "text": [
      "Active\n",
      "4.072038573032571\n"
     ]
    },
    {
     "data": {
      "image/png": "[encoded data removed]",
      "text/plain": [
       "<Figure size 432x288 with 1 Axes>"
      ]
     },
     "metadata": {
      "needs_background": "light"
     },
     "output_type": "display_data"
    },
    {
     "name": "stdout",
     "output_type": "stream",
     "text": [
      "FIPS\n",
      "5.131810103984043\n"
     ]
    },
    {
     "data": {
      "image/png": "[encoded data removed]",
      "text/plain": [
       "<Figure size 432x288 with 1 Axes>"
      ]
     },
     "metadata": {
      "needs_background": "light"
     },
     "output_type": "display_data"
    },
    {
     "name": "stdout",
     "output_type": "stream",
     "text": [
      "Incident_Rate\n",
      "1.8436603579982962\n"
     ]
    },
    {
     "data": {
      "image/png": "[encoded data removed]",
      "text/plain": [
       "<Figure size 432x288 with 1 Axes>"
      ]
     },
     "metadata": {
      "needs_background": "light"
     },
     "output_type": "display_data"
    },
    {
     "name": "stdout",
     "output_type": "stream",
     "text": [
      "People_Tested\n",
      "2.7034034848181085\n"
     ]
    },
    {
     "data": {
      "image/png": "[encoded data removed]",
      "text/plain": [
       "<Figure size 432x288 with 1 Axes>"
      ]
     },
     "metadata": {
      "needs_background": "light"
     },
     "output_type": "display_data"
    },
    {
     "name": "stdout",
     "output_type": "stream",
     "text": [
      "People_Hospitalized\n",
      "4.643844880237391\n"
     ]
    },
    {
     "data": {
      "image/png": "[encoded data removed]",
      "text/plain": [
       "<Figure size 432x288 with 1 Axes>"
      ]
     },
     "metadata": {
      "needs_background": "light"
     },
     "output_type": "display_data"
    },
    {
     "name": "stdout",
     "output_type": "stream",
     "text": [
      "Mortality_Rate\n",
      "0.5068550344548032\n"
     ]
    },
    {
     "data": {
      "image/png": "[encoded data removed]",
      "text/plain": [
       "<Figure size 432x288 with 1 Axes>"
      ]
     },
     "metadata": {
      "needs_background": "light"
     },
     "output_type": "display_data"
    },
    {
     "name": "stdout",
     "output_type": "stream",
     "text": [
      "UID\n",
      "-2.9486137049079275\n"
     ]
    },
    {
     "data": {
      "image/png": "[encoded data removed]",
      "text/plain": [
       "<Figure size 432x288 with 1 Axes>"
      ]
     },
     "metadata": {
      "needs_background": "light"
     },
     "output_type": "display_data"
    },
    {
     "name": "stdout",
     "output_type": "stream",
     "text": [
      "ISO3\n",
      "-4.019125990695887\n"
     ]
    },
    {
     "data": {
      "image/png": "[encoded data removed]",
      "text/plain": [
       "<Figure size 432x288 with 1 Axes>"
      ]
     },
     "metadata": {
      "needs_background": "light"
     },
     "output_type": "display_data"
    },
    {
     "name": "stdout",
     "output_type": "stream",
     "text": [
      "Testing_Rate\n",
      "1.2564465801199136\n"
     ]
    },
    {
     "data": {
      "image/png": "[encoded data removed]",
      "text/plain": [
       "<Figure size 432x288 with 1 Axes>"
      ]
     },
     "metadata": {
      "needs_background": "light"
     },
     "output_type": "display_data"
    },
    {
     "name": "stdout",
     "output_type": "stream",
     "text": [
      "Hospitalization_Rate\n",
      "0.6728034340257406\n"
     ]
    },
    {
     "data": {
      "image/png": "[encoded data removed]",
      "text/plain": [
       "<Figure size 432x288 with 1 Axes>"
      ]
     },
     "metadata": {
      "needs_background": "light"
     },
     "output_type": "display_data"
    }
   ],
   "source": [
    "for col in df:\n",
    "    print(col)\n",
    "    print(skew(df[col]))\n",
    "    \n",
    "    plt.figure()\n",
    "    sns.distplot(df[col])\n",
    "    plt.show()"
   ]
  },
  {
   "cell_type": "raw",
   "metadata": {},
   "source": [
    "there is huge skewness present along with the the target variable which is death due to covid"
   ]
  },
  {
   "cell_type": "code",
   "execution_count": 149,
   "metadata": {},
   "outputs": [
    {
     "data": {
      "text/plain": [
       "Province_State          0.000000\n",
       "Country_Region          0.000000\n",
       "Last_Update             0.000000\n",
       "Confirmed               4.708614\n",
       "Deaths                  5.489201\n",
       "Recovered               3.708100\n",
       "Active                  4.180953\n",
       "FIPS                    5.269070\n",
       "Incident_Rate           1.892973\n",
       "People_Tested           2.775711\n",
       "People_Hospitalized     4.768053\n",
       "Mortality_Rate          0.520412\n",
       "UID                    -3.027480\n",
       "ISO3                   -4.126625\n",
       "Testing_Rate            1.290053\n",
       "Hospitalization_Rate    0.690799\n",
       "dtype: float64"
      ]
     },
     "execution_count": 149,
     "metadata": {},
     "output_type": "execute_result"
    }
   ],
   "source": [
    "df.skew()"
   ]
  },
  {
   "cell_type": "code",
   "execution_count": 150,
   "metadata": {},
   "outputs": [],
   "source": [
    "#treating skewness via Square root method and cube root method\n",
    "df.skew()\n",
    "for col in df.skew().index:\n",
    "    if col in df.describe().columns:\n",
    "        if df[col].skew()>0.65:\n",
    "            df[col]=np.sqrt(df[col])\n",
    "        if df[col].skew()<-0.65:\n",
    "            df[col]=np.cbrt(df[col])"
   ]
  },
  {
   "cell_type": "markdown",
   "metadata": {},
   "source": [
    "# treating outliers"
   ]
  },
  {
   "cell_type": "code",
   "execution_count": 151,
   "metadata": {},
   "outputs": [],
   "source": [
    "#using z-score method to remove outliers\n",
    "from scipy.stats import zscore\n",
    "z=np.abs(zscore(df))\n",
    "threshold=3\n",
    "df_new=df[(z<3).all(axis=1)]"
   ]
  },
  {
   "cell_type": "code",
   "execution_count": 152,
   "metadata": {},
   "outputs": [
    {
     "name": "stdout",
     "output_type": "stream",
     "text": [
      "(array([ 2,  2,  5,  9, 13, 14, 36, 36, 36, 36, 36, 36, 37, 39, 44, 44, 52],\n",
      "      dtype=int64), array([12, 13,  9,  7,  7, 12,  3,  4,  5,  6,  9, 10, 10, 12, 12, 14, 12],\n",
      "      dtype=int64))\n"
     ]
    }
   ],
   "source": [
    "threshold=3\n",
    "print(np.where(z>3))"
   ]
  },
  {
   "cell_type": "markdown",
   "metadata": {},
   "source": [
    "# preparing dataset for scaling"
   ]
  },
  {
   "cell_type": "code",
   "execution_count": 153,
   "metadata": {},
   "outputs": [],
   "source": [
    "x=df.drop('Deaths', axis=1)\n",
    "y=df['Deaths'] #target variable"
   ]
  },
  {
   "cell_type": "code",
   "execution_count": 154,
   "metadata": {},
   "outputs": [
    {
     "data": {
      "text/html": [
       "<div>\n",
       "<style scoped>\n",
       "    .dataframe tbody tr th:only-of-type {\n",
       "        vertical-align: middle;\n",
       "    }\n",
       "\n",
       "    .dataframe tbody tr th {\n",
       "        vertical-align: top;\n",
       "    }\n",
       "\n",
       "    .dataframe thead th {\n",
       "        text-align: right;\n",
       "    }\n",
       "</style>\n",
       "<table border=\"1\" class=\"dataframe\">\n",
       "  <thead>\n",
       "    <tr style=\"text-align: right;\">\n",
       "      <th></th>\n",
       "      <th>Province_State</th>\n",
       "      <th>Country_Region</th>\n",
       "      <th>Last_Update</th>\n",
       "      <th>Confirmed</th>\n",
       "      <th>Recovered</th>\n",
       "      <th>Active</th>\n",
       "      <th>FIPS</th>\n",
       "      <th>Incident_Rate</th>\n",
       "      <th>People_Tested</th>\n",
       "      <th>People_Hospitalized</th>\n",
       "      <th>Mortality_Rate</th>\n",
       "      <th>UID</th>\n",
       "      <th>ISO3</th>\n",
       "      <th>Testing_Rate</th>\n",
       "      <th>Hospitalization_Rate</th>\n",
       "    </tr>\n",
       "  </thead>\n",
       "  <tbody>\n",
       "    <tr>\n",
       "      <th>0</th>\n",
       "      <td>0</td>\n",
       "      <td>0</td>\n",
       "      <td>0</td>\n",
       "      <td>114.245350</td>\n",
       "      <td>75.794737</td>\n",
       "      <td>111.937483</td>\n",
       "      <td>1.000000</td>\n",
       "      <td>16.315463</td>\n",
       "      <td>405.524352</td>\n",
       "      <td>38.639358</td>\n",
       "      <td>3.999387</td>\n",
       "      <td>437.951916</td>\n",
       "      <td>1.587401</td>\n",
       "      <td>57.913232</td>\n",
       "      <td>3.382138</td>\n",
       "    </tr>\n",
       "    <tr>\n",
       "      <th>1</th>\n",
       "      <td>1</td>\n",
       "      <td>0</td>\n",
       "      <td>0</td>\n",
       "      <td>20.024984</td>\n",
       "      <td>18.761663</td>\n",
       "      <td>6.244998</td>\n",
       "      <td>1.414214</td>\n",
       "      <td>7.403749</td>\n",
       "      <td>192.470777</td>\n",
       "      <td>38.639358</td>\n",
       "      <td>2.493766</td>\n",
       "      <td>437.951917</td>\n",
       "      <td>1.587401</td>\n",
       "      <td>71.161366</td>\n",
       "      <td>3.382138</td>\n",
       "    </tr>\n",
       "    <tr>\n",
       "      <th>2</th>\n",
       "      <td>2</td>\n",
       "      <td>0</td>\n",
       "      <td>0</td>\n",
       "      <td>0.000000</td>\n",
       "      <td>18.761663</td>\n",
       "      <td>0.000000</td>\n",
       "      <td>7.745967</td>\n",
       "      <td>0.000000</td>\n",
       "      <td>11.135529</td>\n",
       "      <td>38.639358</td>\n",
       "      <td>2.493766</td>\n",
       "      <td>2.519842</td>\n",
       "      <td>0.000000</td>\n",
       "      <td>14.928404</td>\n",
       "      <td>3.382138</td>\n",
       "    </tr>\n",
       "    <tr>\n",
       "      <th>3</th>\n",
       "      <td>3</td>\n",
       "      <td>0</td>\n",
       "      <td>0</td>\n",
       "      <td>122.090131</td>\n",
       "      <td>61.424751</td>\n",
       "      <td>101.911727</td>\n",
       "      <td>2.000000</td>\n",
       "      <td>14.310445</td>\n",
       "      <td>406.737016</td>\n",
       "      <td>42.332021</td>\n",
       "      <td>5.011405</td>\n",
       "      <td>437.951921</td>\n",
       "      <td>1.587401</td>\n",
       "      <td>47.674515</td>\n",
       "      <td>3.467276</td>\n",
       "    </tr>\n",
       "    <tr>\n",
       "      <th>4</th>\n",
       "      <td>4</td>\n",
       "      <td>0</td>\n",
       "      <td>0</td>\n",
       "      <td>70.731888</td>\n",
       "      <td>62.064483</td>\n",
       "      <td>32.310989</td>\n",
       "      <td>2.236068</td>\n",
       "      <td>12.875667</td>\n",
       "      <td>310.254734</td>\n",
       "      <td>23.130067</td>\n",
       "      <td>2.138717</td>\n",
       "      <td>437.951923</td>\n",
       "      <td>1.587401</td>\n",
       "      <td>56.477167</td>\n",
       "      <td>3.270105</td>\n",
       "    </tr>\n",
       "    <tr>\n",
       "      <th>5</th>\n",
       "      <td>5</td>\n",
       "      <td>0</td>\n",
       "      <td>0</td>\n",
       "      <td>293.252451</td>\n",
       "      <td>62.064483</td>\n",
       "      <td>287.228132</td>\n",
       "      <td>2.449490</td>\n",
       "      <td>14.752850</td>\n",
       "      <td>1174.785087</td>\n",
       "      <td>23.130067</td>\n",
       "      <td>4.066421</td>\n",
       "      <td>437.951924</td>\n",
       "      <td>1.587401</td>\n",
       "      <td>59.100709</td>\n",
       "      <td>3.270105</td>\n",
       "    </tr>\n",
       "    <tr>\n",
       "      <th>6</th>\n",
       "      <td>6</td>\n",
       "      <td>0</td>\n",
       "      <td>0</td>\n",
       "      <td>150.986754</td>\n",
       "      <td>58.974571</td>\n",
       "      <td>134.238594</td>\n",
       "      <td>2.828427</td>\n",
       "      <td>19.896435</td>\n",
       "      <td>363.093652</td>\n",
       "      <td>62.888791</td>\n",
       "      <td>5.698118</td>\n",
       "      <td>437.951928</td>\n",
       "      <td>1.587401</td>\n",
       "      <td>47.847039</td>\n",
       "      <td>4.165186</td>\n",
       "    </tr>\n",
       "    <tr>\n",
       "      <th>7</th>\n",
       "      <td>7</td>\n",
       "      <td>0</td>\n",
       "      <td>0</td>\n",
       "      <td>197.527213</td>\n",
       "      <td>79.145436</td>\n",
       "      <td>170.950285</td>\n",
       "      <td>3.000000</td>\n",
       "      <td>33.081081</td>\n",
       "      <td>436.712720</td>\n",
       "      <td>104.623133</td>\n",
       "      <td>9.044775</td>\n",
       "      <td>437.951930</td>\n",
       "      <td>1.587401</td>\n",
       "      <td>73.138929</td>\n",
       "      <td>5.296644</td>\n",
       "    </tr>\n",
       "    <tr>\n",
       "      <th>8</th>\n",
       "      <td>8</td>\n",
       "      <td>0</td>\n",
       "      <td>0</td>\n",
       "      <td>90.520716</td>\n",
       "      <td>62.968246</td>\n",
       "      <td>62.601917</td>\n",
       "      <td>3.162278</td>\n",
       "      <td>29.008223</td>\n",
       "      <td>213.100915</td>\n",
       "      <td>104.623133</td>\n",
       "      <td>3.783256</td>\n",
       "      <td>437.951931</td>\n",
       "      <td>1.587401</td>\n",
       "      <td>68.290211</td>\n",
       "      <td>5.296644</td>\n",
       "    </tr>\n",
       "    <tr>\n",
       "      <th>9</th>\n",
       "      <td>9</td>\n",
       "      <td>0</td>\n",
       "      <td>0</td>\n",
       "      <td>7.000000</td>\n",
       "      <td>62.968246</td>\n",
       "      <td>7.000000</td>\n",
       "      <td>298.140906</td>\n",
       "      <td>29.008223</td>\n",
       "      <td>213.100915</td>\n",
       "      <td>104.623133</td>\n",
       "      <td>0.000000</td>\n",
       "      <td>438.106338</td>\n",
       "      <td>1.587401</td>\n",
       "      <td>68.290211</td>\n",
       "      <td>5.296644</td>\n",
       "    </tr>\n",
       "    <tr>\n",
       "      <th>10</th>\n",
       "      <td>10</td>\n",
       "      <td>0</td>\n",
       "      <td>0</td>\n",
       "      <td>86.896490</td>\n",
       "      <td>32.542280</td>\n",
       "      <td>78.006410</td>\n",
       "      <td>3.316625</td>\n",
       "      <td>32.709741</td>\n",
       "      <td>201.044771</td>\n",
       "      <td>104.623133</td>\n",
       "      <td>5.390015</td>\n",
       "      <td>437.951933</td>\n",
       "      <td>1.587401</td>\n",
       "      <td>75.677652</td>\n",
       "      <td>5.296644</td>\n",
       "    </tr>\n",
       "    <tr>\n",
       "      <th>11</th>\n",
       "      <td>11</td>\n",
       "      <td>0</td>\n",
       "      <td>0</td>\n",
       "      <td>217.878406</td>\n",
       "      <td>32.542280</td>\n",
       "      <td>213.014084</td>\n",
       "      <td>3.464102</td>\n",
       "      <td>14.866883</td>\n",
       "      <td>878.264197</td>\n",
       "      <td>94.519839</td>\n",
       "      <td>4.415327</td>\n",
       "      <td>437.951935</td>\n",
       "      <td>1.587401</td>\n",
       "      <td>59.928157</td>\n",
       "      <td>4.338192</td>\n",
       "    </tr>\n",
       "    <tr>\n",
       "      <th>12</th>\n",
       "      <td>12</td>\n",
       "      <td>0</td>\n",
       "      <td>0</td>\n",
       "      <td>199.501880</td>\n",
       "      <td>32.542280</td>\n",
       "      <td>195.202459</td>\n",
       "      <td>3.605551</td>\n",
       "      <td>19.361430</td>\n",
       "      <td>634.775551</td>\n",
       "      <td>84.303025</td>\n",
       "      <td>4.263712</td>\n",
       "      <td>437.951937</td>\n",
       "      <td>1.587401</td>\n",
       "      <td>61.604244</td>\n",
       "      <td>4.225676</td>\n",
       "    </tr>\n",
       "    <tr>\n",
       "      <th>13</th>\n",
       "      <td>13</td>\n",
       "      <td>0</td>\n",
       "      <td>0</td>\n",
       "      <td>10.148892</td>\n",
       "      <td>32.542280</td>\n",
       "      <td>10.000000</td>\n",
       "      <td>316.226185</td>\n",
       "      <td>19.361430</td>\n",
       "      <td>634.775551</td>\n",
       "      <td>84.303025</td>\n",
       "      <td>2.912621</td>\n",
       "      <td>438.125634</td>\n",
       "      <td>1.587401</td>\n",
       "      <td>61.604244</td>\n",
       "      <td>4.225676</td>\n",
       "    </tr>\n",
       "    <tr>\n",
       "      <th>14</th>\n",
       "      <td>14</td>\n",
       "      <td>0</td>\n",
       "      <td>0</td>\n",
       "      <td>12.409674</td>\n",
       "      <td>11.180340</td>\n",
       "      <td>4.898979</td>\n",
       "      <td>8.124038</td>\n",
       "      <td>9.683569</td>\n",
       "      <td>70.512410</td>\n",
       "      <td>84.303025</td>\n",
       "      <td>3.246753</td>\n",
       "      <td>6.811285</td>\n",
       "      <td>1.000000</td>\n",
       "      <td>55.022540</td>\n",
       "      <td>4.225676</td>\n",
       "    </tr>\n",
       "    <tr>\n",
       "      <th>15</th>\n",
       "      <td>15</td>\n",
       "      <td>0</td>\n",
       "      <td>0</td>\n",
       "      <td>25.357445</td>\n",
       "      <td>24.041631</td>\n",
       "      <td>6.928203</td>\n",
       "      <td>3.872983</td>\n",
       "      <td>6.738969</td>\n",
       "      <td>215.183643</td>\n",
       "      <td>9.055385</td>\n",
       "      <td>2.643857</td>\n",
       "      <td>437.951940</td>\n",
       "      <td>1.587401</td>\n",
       "      <td>57.186993</td>\n",
       "      <td>3.571095</td>\n",
       "    </tr>\n",
       "    <tr>\n",
       "      <th>16</th>\n",
       "      <td>16</td>\n",
       "      <td>0</td>\n",
       "      <td>0</td>\n",
       "      <td>50.059964</td>\n",
       "      <td>40.841156</td>\n",
       "      <td>27.586228</td>\n",
       "      <td>4.000000</td>\n",
       "      <td>11.841872</td>\n",
       "      <td>196.384826</td>\n",
       "      <td>14.662878</td>\n",
       "      <td>3.072626</td>\n",
       "      <td>437.951942</td>\n",
       "      <td>1.587401</td>\n",
       "      <td>46.455566</td>\n",
       "      <td>2.929063</td>\n",
       "    </tr>\n",
       "    <tr>\n",
       "      <th>17</th>\n",
       "      <td>17</td>\n",
       "      <td>0</td>\n",
       "      <td>0</td>\n",
       "      <td>316.887993</td>\n",
       "      <td>40.841156</td>\n",
       "      <td>309.665949</td>\n",
       "      <td>4.123106</td>\n",
       "      <td>28.150510</td>\n",
       "      <td>801.693832</td>\n",
       "      <td>14.662878</td>\n",
       "      <td>4.506164</td>\n",
       "      <td>437.951944</td>\n",
       "      <td>1.587401</td>\n",
       "      <td>71.217878</td>\n",
       "      <td>2.929063</td>\n",
       "    </tr>\n",
       "    <tr>\n",
       "      <th>18</th>\n",
       "      <td>18</td>\n",
       "      <td>0</td>\n",
       "      <td>0</td>\n",
       "      <td>171.096464</td>\n",
       "      <td>40.841156</td>\n",
       "      <td>165.559657</td>\n",
       "      <td>4.242641</td>\n",
       "      <td>20.852682</td>\n",
       "      <td>442.422875</td>\n",
       "      <td>66.249528</td>\n",
       "      <td>6.367425</td>\n",
       "      <td>437.951945</td>\n",
       "      <td>1.587401</td>\n",
       "      <td>53.921064</td>\n",
       "      <td>3.872057</td>\n",
       "    </tr>\n",
       "    <tr>\n",
       "      <th>19</th>\n",
       "      <td>19</td>\n",
       "      <td>0</td>\n",
       "      <td>0</td>\n",
       "      <td>124.979998</td>\n",
       "      <td>91.443972</td>\n",
       "      <td>82.855296</td>\n",
       "      <td>4.358899</td>\n",
       "      <td>22.250307</td>\n",
       "      <td>332.788221</td>\n",
       "      <td>66.249528</td>\n",
       "      <td>2.516005</td>\n",
       "      <td>437.951947</td>\n",
       "      <td>1.587401</td>\n",
       "      <td>59.246602</td>\n",
       "      <td>3.872057</td>\n",
       "    </tr>\n",
       "    <tr>\n",
       "      <th>20</th>\n",
       "      <td>20</td>\n",
       "      <td>0</td>\n",
       "      <td>0</td>\n",
       "      <td>92.233400</td>\n",
       "      <td>21.748563</td>\n",
       "      <td>88.498588</td>\n",
       "      <td>4.472136</td>\n",
       "      <td>17.088131</td>\n",
       "      <td>266.838903</td>\n",
       "      <td>27.568098</td>\n",
       "      <td>2.374515</td>\n",
       "      <td>437.951949</td>\n",
       "      <td>1.587401</td>\n",
       "      <td>49.437386</td>\n",
       "      <td>2.988950</td>\n",
       "    </tr>\n",
       "    <tr>\n",
       "      <th>21</th>\n",
       "      <td>21</td>\n",
       "      <td>0</td>\n",
       "      <td>0</td>\n",
       "      <td>90.371456</td>\n",
       "      <td>53.160135</td>\n",
       "      <td>70.462756</td>\n",
       "      <td>4.582576</td>\n",
       "      <td>13.520433</td>\n",
       "      <td>392.410499</td>\n",
       "      <td>44.833024</td>\n",
       "      <td>4.603894</td>\n",
       "      <td>437.951950</td>\n",
       "      <td>1.587401</td>\n",
       "      <td>58.708357</td>\n",
       "      <td>4.960972</td>\n",
       "    </tr>\n",
       "    <tr>\n",
       "      <th>22</th>\n",
       "      <td>22</td>\n",
       "      <td>0</td>\n",
       "      <td>0</td>\n",
       "      <td>187.925517</td>\n",
       "      <td>162.015431</td>\n",
       "      <td>80.367904</td>\n",
       "      <td>4.690416</td>\n",
       "      <td>27.562309</td>\n",
       "      <td>534.761629</td>\n",
       "      <td>44.833024</td>\n",
       "      <td>7.384755</td>\n",
       "      <td>437.951952</td>\n",
       "      <td>1.587401</td>\n",
       "      <td>78.431422</td>\n",
       "      <td>4.960972</td>\n",
       "    </tr>\n",
       "    <tr>\n",
       "      <th>23</th>\n",
       "      <td>23</td>\n",
       "      <td>0</td>\n",
       "      <td>0</td>\n",
       "      <td>42.649736</td>\n",
       "      <td>33.166248</td>\n",
       "      <td>25.416530</td>\n",
       "      <td>4.795832</td>\n",
       "      <td>11.632752</td>\n",
       "      <td>193.051807</td>\n",
       "      <td>15.198684</td>\n",
       "      <td>4.013194</td>\n",
       "      <td>437.951954</td>\n",
       "      <td>1.587401</td>\n",
       "      <td>52.655045</td>\n",
       "      <td>3.563606</td>\n",
       "    </tr>\n",
       "    <tr>\n",
       "      <th>24</th>\n",
       "      <td>24</td>\n",
       "      <td>0</td>\n",
       "      <td>0</td>\n",
       "      <td>205.725545</td>\n",
       "      <td>54.708317</td>\n",
       "      <td>192.891161</td>\n",
       "      <td>4.898979</td>\n",
       "      <td>26.458526</td>\n",
       "      <td>464.036636</td>\n",
       "      <td>85.982556</td>\n",
       "      <td>5.016185</td>\n",
       "      <td>437.951956</td>\n",
       "      <td>1.587401</td>\n",
       "      <td>59.680121</td>\n",
       "      <td>4.179479</td>\n",
       "    </tr>\n",
       "    <tr>\n",
       "      <th>25</th>\n",
       "      <td>25</td>\n",
       "      <td>0</td>\n",
       "      <td>0</td>\n",
       "      <td>298.278393</td>\n",
       "      <td>54.708317</td>\n",
       "      <td>287.930547</td>\n",
       "      <td>5.000000</td>\n",
       "      <td>35.928022</td>\n",
       "      <td>699.966428</td>\n",
       "      <td>94.323910</td>\n",
       "      <td>6.818029</td>\n",
       "      <td>437.951957</td>\n",
       "      <td>1.587401</td>\n",
       "      <td>84.311871</td>\n",
       "      <td>3.162278</td>\n",
       "    </tr>\n",
       "    <tr>\n",
       "      <th>26</th>\n",
       "      <td>26</td>\n",
       "      <td>0</td>\n",
       "      <td>0</td>\n",
       "      <td>230.236835</td>\n",
       "      <td>168.029759</td>\n",
       "      <td>140.410114</td>\n",
       "      <td>5.099020</td>\n",
       "      <td>23.038828</td>\n",
       "      <td>661.114211</td>\n",
       "      <td>94.323910</td>\n",
       "      <td>9.545549</td>\n",
       "      <td>437.951959</td>\n",
       "      <td>1.587401</td>\n",
       "      <td>66.154909</td>\n",
       "      <td>3.162278</td>\n",
       "    </tr>\n",
       "    <tr>\n",
       "      <th>27</th>\n",
       "      <td>27</td>\n",
       "      <td>0</td>\n",
       "      <td>0</td>\n",
       "      <td>132.928552</td>\n",
       "      <td>110.575766</td>\n",
       "      <td>68.242216</td>\n",
       "      <td>5.196152</td>\n",
       "      <td>17.700800</td>\n",
       "      <td>409.069676</td>\n",
       "      <td>48.041649</td>\n",
       "      <td>4.448217</td>\n",
       "      <td>437.951961</td>\n",
       "      <td>1.587401</td>\n",
       "      <td>54.471822</td>\n",
       "      <td>3.614096</td>\n",
       "    </tr>\n",
       "    <tr>\n",
       "      <th>28</th>\n",
       "      <td>28</td>\n",
       "      <td>0</td>\n",
       "      <td>0</td>\n",
       "      <td>109.393784</td>\n",
       "      <td>87.641314</td>\n",
       "      <td>60.959003</td>\n",
       "      <td>5.291503</td>\n",
       "      <td>20.052352</td>\n",
       "      <td>347.390270</td>\n",
       "      <td>43.600459</td>\n",
       "      <td>4.763099</td>\n",
       "      <td>437.951963</td>\n",
       "      <td>1.587401</td>\n",
       "      <td>63.678132</td>\n",
       "      <td>3.985643</td>\n",
       "    </tr>\n",
       "    <tr>\n",
       "      <th>29</th>\n",
       "      <td>29</td>\n",
       "      <td>0</td>\n",
       "      <td>0</td>\n",
       "      <td>107.368524</td>\n",
       "      <td>87.641314</td>\n",
       "      <td>104.345580</td>\n",
       "      <td>5.385165</td>\n",
       "      <td>13.705150</td>\n",
       "      <td>402.472359</td>\n",
       "      <td>43.600459</td>\n",
       "      <td>5.551700</td>\n",
       "      <td>437.951964</td>\n",
       "      <td>1.587401</td>\n",
       "      <td>51.373938</td>\n",
       "      <td>3.985643</td>\n",
       "    </tr>\n",
       "    <tr>\n",
       "      <th>30</th>\n",
       "      <td>30</td>\n",
       "      <td>0</td>\n",
       "      <td>0</td>\n",
       "      <td>21.863211</td>\n",
       "      <td>20.976177</td>\n",
       "      <td>4.690416</td>\n",
       "      <td>5.477226</td>\n",
       "      <td>6.687599</td>\n",
       "      <td>172.412297</td>\n",
       "      <td>8.062258</td>\n",
       "      <td>3.347280</td>\n",
       "      <td>437.951966</td>\n",
       "      <td>1.587401</td>\n",
       "      <td>52.738101</td>\n",
       "      <td>3.687591</td>\n",
       "    </tr>\n",
       "    <tr>\n",
       "      <th>31</th>\n",
       "      <td>31</td>\n",
       "      <td>0</td>\n",
       "      <td>0</td>\n",
       "      <td>105.460893</td>\n",
       "      <td>20.976177</td>\n",
       "      <td>104.804580</td>\n",
       "      <td>5.567764</td>\n",
       "      <td>23.978246</td>\n",
       "      <td>268.579597</td>\n",
       "      <td>8.062258</td>\n",
       "      <td>1.240784</td>\n",
       "      <td>437.951968</td>\n",
       "      <td>1.587401</td>\n",
       "      <td>61.065930</td>\n",
       "      <td>3.687591</td>\n",
       "    </tr>\n",
       "    <tr>\n",
       "      <th>32</th>\n",
       "      <td>32</td>\n",
       "      <td>0</td>\n",
       "      <td>0</td>\n",
       "      <td>85.953476</td>\n",
       "      <td>18.330303</td>\n",
       "      <td>81.700673</td>\n",
       "      <td>5.656854</td>\n",
       "      <td>15.487349</td>\n",
       "      <td>301.945359</td>\n",
       "      <td>8.062258</td>\n",
       "      <td>5.102870</td>\n",
       "      <td>437.951970</td>\n",
       "      <td>1.587401</td>\n",
       "      <td>54.405399</td>\n",
       "      <td>3.687591</td>\n",
       "    </tr>\n",
       "    <tr>\n",
       "      <th>33</th>\n",
       "      <td>33</td>\n",
       "      <td>0</td>\n",
       "      <td>0</td>\n",
       "      <td>62.193247</td>\n",
       "      <td>35.707142</td>\n",
       "      <td>49.020404</td>\n",
       "      <td>5.744563</td>\n",
       "      <td>16.866304</td>\n",
       "      <td>225.583687</td>\n",
       "      <td>19.570386</td>\n",
       "      <td>4.912099</td>\n",
       "      <td>437.951971</td>\n",
       "      <td>1.587401</td>\n",
       "      <td>61.176466</td>\n",
       "      <td>3.146706</td>\n",
       "    </tr>\n",
       "    <tr>\n",
       "      <th>34</th>\n",
       "      <td>34</td>\n",
       "      <td>0</td>\n",
       "      <td>0</td>\n",
       "      <td>388.298854</td>\n",
       "      <td>154.741720</td>\n",
       "      <td>340.708086</td>\n",
       "      <td>5.830952</td>\n",
       "      <td>41.200841</td>\n",
       "      <td>728.932782</td>\n",
       "      <td>19.570386</td>\n",
       "      <td>7.129119</td>\n",
       "      <td>437.951973</td>\n",
       "      <td>1.587401</td>\n",
       "      <td>77.344147</td>\n",
       "      <td>3.146706</td>\n",
       "    </tr>\n",
       "    <tr>\n",
       "      <th>35</th>\n",
       "      <td>35</td>\n",
       "      <td>0</td>\n",
       "      <td>0</td>\n",
       "      <td>79.479557</td>\n",
       "      <td>43.382024</td>\n",
       "      <td>64.436015</td>\n",
       "      <td>5.916080</td>\n",
       "      <td>17.356971</td>\n",
       "      <td>377.155140</td>\n",
       "      <td>33.749074</td>\n",
       "      <td>4.479975</td>\n",
       "      <td>437.951975</td>\n",
       "      <td>1.587401</td>\n",
       "      <td>82.364208</td>\n",
       "      <td>4.246258</td>\n",
       "    </tr>\n",
       "    <tr>\n",
       "      <th>36</th>\n",
       "      <td>36</td>\n",
       "      <td>0</td>\n",
       "      <td>0</td>\n",
       "      <td>595.289845</td>\n",
       "      <td>248.768969</td>\n",
       "      <td>513.661367</td>\n",
       "      <td>6.000000</td>\n",
       "      <td>42.680443</td>\n",
       "      <td>1227.125095</td>\n",
       "      <td>276.423588</td>\n",
       "      <td>8.080819</td>\n",
       "      <td>437.951977</td>\n",
       "      <td>1.587401</td>\n",
       "      <td>87.981079</td>\n",
       "      <td>4.643513</td>\n",
       "    </tr>\n",
       "    <tr>\n",
       "      <th>37</th>\n",
       "      <td>37</td>\n",
       "      <td>0</td>\n",
       "      <td>0</td>\n",
       "      <td>142.344652</td>\n",
       "      <td>107.874928</td>\n",
       "      <td>88.876319</td>\n",
       "      <td>6.082763</td>\n",
       "      <td>13.899305</td>\n",
       "      <td>526.880442</td>\n",
       "      <td>276.423588</td>\n",
       "      <td>3.583062</td>\n",
       "      <td>437.951978</td>\n",
       "      <td>1.587401</td>\n",
       "      <td>51.447467</td>\n",
       "      <td>4.643513</td>\n",
       "    </tr>\n",
       "    <tr>\n",
       "      <th>38</th>\n",
       "      <td>38</td>\n",
       "      <td>0</td>\n",
       "      <td>0</td>\n",
       "      <td>45.771170</td>\n",
       "      <td>36.083237</td>\n",
       "      <td>27.276363</td>\n",
       "      <td>6.164414</td>\n",
       "      <td>16.580471</td>\n",
       "      <td>243.310501</td>\n",
       "      <td>11.916375</td>\n",
       "      <td>2.338902</td>\n",
       "      <td>437.951980</td>\n",
       "      <td>1.587401</td>\n",
       "      <td>88.138509</td>\n",
       "      <td>2.603467</td>\n",
       "    </tr>\n",
       "    <tr>\n",
       "      <th>39</th>\n",
       "      <td>39</td>\n",
       "      <td>0</td>\n",
       "      <td>0</td>\n",
       "      <td>4.582576</td>\n",
       "      <td>3.605551</td>\n",
       "      <td>2.449490</td>\n",
       "      <td>8.306624</td>\n",
       "      <td>6.171071</td>\n",
       "      <td>61.781874</td>\n",
       "      <td>11.916375</td>\n",
       "      <td>9.523810</td>\n",
       "      <td>8.339551</td>\n",
       "      <td>1.259921</td>\n",
       "      <td>83.197820</td>\n",
       "      <td>2.603467</td>\n",
       "    </tr>\n",
       "    <tr>\n",
       "      <th>40</th>\n",
       "      <td>40</td>\n",
       "      <td>0</td>\n",
       "      <td>0</td>\n",
       "      <td>171.569228</td>\n",
       "      <td>3.605551</td>\n",
       "      <td>166.297925</td>\n",
       "      <td>6.244998</td>\n",
       "      <td>15.868974</td>\n",
       "      <td>538.078061</td>\n",
       "      <td>72.097157</td>\n",
       "      <td>6.050414</td>\n",
       "      <td>437.951982</td>\n",
       "      <td>1.587401</td>\n",
       "      <td>49.768523</td>\n",
       "      <td>4.202220</td>\n",
       "    </tr>\n",
       "    <tr>\n",
       "      <th>41</th>\n",
       "      <td>41</td>\n",
       "      <td>0</td>\n",
       "      <td>0</td>\n",
       "      <td>74.377416</td>\n",
       "      <td>65.314623</td>\n",
       "      <td>31.096624</td>\n",
       "      <td>6.324555</td>\n",
       "      <td>11.823870</td>\n",
       "      <td>379.961840</td>\n",
       "      <td>30.083218</td>\n",
       "      <td>5.404917</td>\n",
       "      <td>437.951984</td>\n",
       "      <td>1.587401</td>\n",
       "      <td>60.403006</td>\n",
       "      <td>4.044671</td>\n",
       "    </tr>\n",
       "    <tr>\n",
       "      <th>42</th>\n",
       "      <td>42</td>\n",
       "      <td>0</td>\n",
       "      <td>0</td>\n",
       "      <td>61.652251</td>\n",
       "      <td>37.496667</td>\n",
       "      <td>47.444705</td>\n",
       "      <td>6.403124</td>\n",
       "      <td>9.493125</td>\n",
       "      <td>319.607572</td>\n",
       "      <td>26.888659</td>\n",
       "      <td>3.788477</td>\n",
       "      <td>437.951985</td>\n",
       "      <td>1.587401</td>\n",
       "      <td>49.212714</td>\n",
       "      <td>4.361343</td>\n",
       "    </tr>\n",
       "    <tr>\n",
       "      <th>43</th>\n",
       "      <td>43</td>\n",
       "      <td>0</td>\n",
       "      <td>0</td>\n",
       "      <td>261.009578</td>\n",
       "      <td>37.496667</td>\n",
       "      <td>251.706178</td>\n",
       "      <td>6.480741</td>\n",
       "      <td>23.068413</td>\n",
       "      <td>591.354378</td>\n",
       "      <td>26.888659</td>\n",
       "      <td>7.001732</td>\n",
       "      <td>437.951987</td>\n",
       "      <td>1.587401</td>\n",
       "      <td>52.264776</td>\n",
       "      <td>4.361343</td>\n",
       "    </tr>\n",
       "    <tr>\n",
       "      <th>44</th>\n",
       "      <td>44</td>\n",
       "      <td>0</td>\n",
       "      <td>0</td>\n",
       "      <td>53.535035</td>\n",
       "      <td>37.496667</td>\n",
       "      <td>52.354560</td>\n",
       "      <td>8.485281</td>\n",
       "      <td>9.884435</td>\n",
       "      <td>53.535035</td>\n",
       "      <td>26.888659</td>\n",
       "      <td>4.361479</td>\n",
       "      <td>8.572619</td>\n",
       "      <td>1.442250</td>\n",
       "      <td>9.884435</td>\n",
       "      <td>4.361343</td>\n",
       "    </tr>\n",
       "    <tr>\n",
       "      <th>45</th>\n",
       "      <td>45</td>\n",
       "      <td>0</td>\n",
       "      <td>0</td>\n",
       "      <td>115.568162</td>\n",
       "      <td>32.093613</td>\n",
       "      <td>108.572556</td>\n",
       "      <td>6.633250</td>\n",
       "      <td>35.507183</td>\n",
       "      <td>347.171427</td>\n",
       "      <td>38.548671</td>\n",
       "      <td>4.028152</td>\n",
       "      <td>437.951990</td>\n",
       "      <td>1.587401</td>\n",
       "      <td>106.665012</td>\n",
       "      <td>3.335579</td>\n",
       "    </tr>\n",
       "    <tr>\n",
       "      <th>46</th>\n",
       "      <td>46</td>\n",
       "      <td>0</td>\n",
       "      <td>0</td>\n",
       "      <td>95.786220</td>\n",
       "      <td>73.830888</td>\n",
       "      <td>57.593402</td>\n",
       "      <td>6.708204</td>\n",
       "      <td>13.349151</td>\n",
       "      <td>367.509184</td>\n",
       "      <td>38.000000</td>\n",
       "      <td>4.435967</td>\n",
       "      <td>437.951992</td>\n",
       "      <td>1.587401</td>\n",
       "      <td>51.217551</td>\n",
       "      <td>3.967168</td>\n",
       "    </tr>\n",
       "    <tr>\n",
       "      <th>47</th>\n",
       "      <td>47</td>\n",
       "      <td>0</td>\n",
       "      <td>0</td>\n",
       "      <td>64.629715</td>\n",
       "      <td>54.981815</td>\n",
       "      <td>33.286634</td>\n",
       "      <td>6.782330</td>\n",
       "      <td>21.729228</td>\n",
       "      <td>174.324410</td>\n",
       "      <td>18.248288</td>\n",
       "      <td>1.101269</td>\n",
       "      <td>437.951994</td>\n",
       "      <td>1.587401</td>\n",
       "      <td>58.609802</td>\n",
       "      <td>2.823514</td>\n",
       "    </tr>\n",
       "    <tr>\n",
       "      <th>48</th>\n",
       "      <td>48</td>\n",
       "      <td>0</td>\n",
       "      <td>0</td>\n",
       "      <td>135.690825</td>\n",
       "      <td>108.549528</td>\n",
       "      <td>79.523581</td>\n",
       "      <td>6.855655</td>\n",
       "      <td>16.419744</td>\n",
       "      <td>594.989916</td>\n",
       "      <td>38.923001</td>\n",
       "      <td>1.656528</td>\n",
       "      <td>437.951996</td>\n",
       "      <td>1.587401</td>\n",
       "      <td>71.998843</td>\n",
       "      <td>2.868506</td>\n",
       "    </tr>\n",
       "    <tr>\n",
       "      <th>49</th>\n",
       "      <td>49</td>\n",
       "      <td>0</td>\n",
       "      <td>0</td>\n",
       "      <td>227.316959</td>\n",
       "      <td>174.186681</td>\n",
       "      <td>141.088625</td>\n",
       "      <td>6.928203</td>\n",
       "      <td>13.349460</td>\n",
       "      <td>877.633750</td>\n",
       "      <td>38.923001</td>\n",
       "      <td>2.759662</td>\n",
       "      <td>437.951997</td>\n",
       "      <td>1.587401</td>\n",
       "      <td>51.540089</td>\n",
       "      <td>2.868506</td>\n",
       "    </tr>\n",
       "    <tr>\n",
       "      <th>50</th>\n",
       "      <td>50</td>\n",
       "      <td>0</td>\n",
       "      <td>0</td>\n",
       "      <td>87.806606</td>\n",
       "      <td>66.505639</td>\n",
       "      <td>56.542020</td>\n",
       "      <td>7.000000</td>\n",
       "      <td>15.507732</td>\n",
       "      <td>423.867904</td>\n",
       "      <td>25.119713</td>\n",
       "      <td>1.167315</td>\n",
       "      <td>437.951999</td>\n",
       "      <td>1.587401</td>\n",
       "      <td>74.860309</td>\n",
       "      <td>2.860800</td>\n",
       "    </tr>\n",
       "    <tr>\n",
       "      <th>51</th>\n",
       "      <td>51</td>\n",
       "      <td>0</td>\n",
       "      <td>0</td>\n",
       "      <td>30.724583</td>\n",
       "      <td>28.705400</td>\n",
       "      <td>8.124038</td>\n",
       "      <td>7.071068</td>\n",
       "      <td>12.299785</td>\n",
       "      <td>158.297189</td>\n",
       "      <td>25.119713</td>\n",
       "      <td>5.720339</td>\n",
       "      <td>437.952001</td>\n",
       "      <td>1.587401</td>\n",
       "      <td>63.370150</td>\n",
       "      <td>2.860800</td>\n",
       "    </tr>\n",
       "    <tr>\n",
       "      <th>52</th>\n",
       "      <td>52</td>\n",
       "      <td>0</td>\n",
       "      <td>0</td>\n",
       "      <td>8.306624</td>\n",
       "      <td>7.810250</td>\n",
       "      <td>1.414214</td>\n",
       "      <td>8.831761</td>\n",
       "      <td>8.020279</td>\n",
       "      <td>37.188708</td>\n",
       "      <td>25.119713</td>\n",
       "      <td>8.695652</td>\n",
       "      <td>9.472682</td>\n",
       "      <td>1.709976</td>\n",
       "      <td>35.906742</td>\n",
       "      <td>2.860800</td>\n",
       "    </tr>\n",
       "    <tr>\n",
       "      <th>53</th>\n",
       "      <td>53</td>\n",
       "      <td>0</td>\n",
       "      <td>0</td>\n",
       "      <td>181.405623</td>\n",
       "      <td>67.253253</td>\n",
       "      <td>165.257375</td>\n",
       "      <td>7.141428</td>\n",
       "      <td>19.635220</td>\n",
       "      <td>461.113869</td>\n",
       "      <td>77.839579</td>\n",
       "      <td>3.266683</td>\n",
       "      <td>437.952003</td>\n",
       "      <td>1.587401</td>\n",
       "      <td>49.910649</td>\n",
       "      <td>4.290913</td>\n",
       "    </tr>\n",
       "    <tr>\n",
       "      <th>54</th>\n",
       "      <td>54</td>\n",
       "      <td>0</td>\n",
       "      <td>0</td>\n",
       "      <td>137.735253</td>\n",
       "      <td>67.253253</td>\n",
       "      <td>133.917885</td>\n",
       "      <td>7.280110</td>\n",
       "      <td>15.783860</td>\n",
       "      <td>541.405578</td>\n",
       "      <td>77.839579</td>\n",
       "      <td>5.466238</td>\n",
       "      <td>437.952006</td>\n",
       "      <td>1.587401</td>\n",
       "      <td>62.042719</td>\n",
       "      <td>4.290913</td>\n",
       "    </tr>\n",
       "    <tr>\n",
       "      <th>55</th>\n",
       "      <td>55</td>\n",
       "      <td>0</td>\n",
       "      <td>0</td>\n",
       "      <td>39.585351</td>\n",
       "      <td>30.822070</td>\n",
       "      <td>23.409400</td>\n",
       "      <td>7.348469</td>\n",
       "      <td>9.350777</td>\n",
       "      <td>283.973590</td>\n",
       "      <td>77.839579</td>\n",
       "      <td>4.403318</td>\n",
       "      <td>437.952008</td>\n",
       "      <td>1.587401</td>\n",
       "      <td>67.079704</td>\n",
       "      <td>4.290913</td>\n",
       "    </tr>\n",
       "    <tr>\n",
       "      <th>56</th>\n",
       "      <td>56</td>\n",
       "      <td>0</td>\n",
       "      <td>0</td>\n",
       "      <td>115.814507</td>\n",
       "      <td>87.909044</td>\n",
       "      <td>72.138755</td>\n",
       "      <td>7.416198</td>\n",
       "      <td>15.177865</td>\n",
       "      <td>409.527777</td>\n",
       "      <td>46.486557</td>\n",
       "      <td>3.586073</td>\n",
       "      <td>437.952010</td>\n",
       "      <td>1.587401</td>\n",
       "      <td>53.669936</td>\n",
       "      <td>4.013880</td>\n",
       "    </tr>\n",
       "    <tr>\n",
       "      <th>57</th>\n",
       "      <td>57</td>\n",
       "      <td>0</td>\n",
       "      <td>0</td>\n",
       "      <td>28.053520</td>\n",
       "      <td>22.978251</td>\n",
       "      <td>15.748016</td>\n",
       "      <td>7.483315</td>\n",
       "      <td>11.661072</td>\n",
       "      <td>137.258879</td>\n",
       "      <td>8.602325</td>\n",
       "      <td>1.397713</td>\n",
       "      <td>437.952011</td>\n",
       "      <td>1.587401</td>\n",
       "      <td>57.054719</td>\n",
       "      <td>3.066398</td>\n",
       "    </tr>\n",
       "  </tbody>\n",
       "</table>\n",
       "</div>"
      ],
      "text/plain": [
       "    Province_State  Country_Region  Last_Update   Confirmed   Recovered  \\\n",
       "0                0               0            0  114.245350   75.794737   \n",
       "1                1               0            0   20.024984   18.761663   \n",
       "2                2               0            0    0.000000   18.761663   \n",
       "3                3               0            0  122.090131   61.424751   \n",
       "4                4               0            0   70.731888   62.064483   \n",
       "5                5               0            0  293.252451   62.064483   \n",
       "6                6               0            0  150.986754   58.974571   \n",
       "7                7               0            0  197.527213   79.145436   \n",
       "8                8               0            0   90.520716   62.968246   \n",
       "9                9               0            0    7.000000   62.968246   \n",
       "10              10               0            0   86.896490   32.542280   \n",
       "11              11               0            0  217.878406   32.542280   \n",
       "12              12               0            0  199.501880   32.542280   \n",
       "13              13               0            0   10.148892   32.542280   \n",
       "14              14               0            0   12.409674   11.180340   \n",
       "15              15               0            0   25.357445   24.041631   \n",
       "16              16               0            0   50.059964   40.841156   \n",
       "17              17               0            0  316.887993   40.841156   \n",
       "18              18               0            0  171.096464   40.841156   \n",
       "19              19               0            0  124.979998   91.443972   \n",
       "20              20               0            0   92.233400   21.748563   \n",
       "21              21               0            0   90.371456   53.160135   \n",
       "22              22               0            0  187.925517  162.015431   \n",
       "23              23               0            0   42.649736   33.166248   \n",
       "24              24               0            0  205.725545   54.708317   \n",
       "25              25               0            0  298.278393   54.708317   \n",
       "26              26               0            0  230.236835  168.029759   \n",
       "27              27               0            0  132.928552  110.575766   \n",
       "28              28               0            0  109.393784   87.641314   \n",
       "29              29               0            0  107.368524   87.641314   \n",
       "30              30               0            0   21.863211   20.976177   \n",
       "31              31               0            0  105.460893   20.976177   \n",
       "32              32               0            0   85.953476   18.330303   \n",
       "33              33               0            0   62.193247   35.707142   \n",
       "34              34               0            0  388.298854  154.741720   \n",
       "35              35               0            0   79.479557   43.382024   \n",
       "36              36               0            0  595.289845  248.768969   \n",
       "37              37               0            0  142.344652  107.874928   \n",
       "38              38               0            0   45.771170   36.083237   \n",
       "39              39               0            0    4.582576    3.605551   \n",
       "40              40               0            0  171.569228    3.605551   \n",
       "41              41               0            0   74.377416   65.314623   \n",
       "42              42               0            0   61.652251   37.496667   \n",
       "43              43               0            0  261.009578   37.496667   \n",
       "44              44               0            0   53.535035   37.496667   \n",
       "45              45               0            0  115.568162   32.093613   \n",
       "46              46               0            0   95.786220   73.830888   \n",
       "47              47               0            0   64.629715   54.981815   \n",
       "48              48               0            0  135.690825  108.549528   \n",
       "49              49               0            0  227.316959  174.186681   \n",
       "50              50               0            0   87.806606   66.505639   \n",
       "51              51               0            0   30.724583   28.705400   \n",
       "52              52               0            0    8.306624    7.810250   \n",
       "53              53               0            0  181.405623   67.253253   \n",
       "54              54               0            0  137.735253   67.253253   \n",
       "55              55               0            0   39.585351   30.822070   \n",
       "56              56               0            0  115.814507   87.909044   \n",
       "57              57               0            0   28.053520   22.978251   \n",
       "\n",
       "        Active        FIPS  Incident_Rate  People_Tested  People_Hospitalized  \\\n",
       "0   111.937483    1.000000      16.315463     405.524352            38.639358   \n",
       "1     6.244998    1.414214       7.403749     192.470777            38.639358   \n",
       "2     0.000000    7.745967       0.000000      11.135529            38.639358   \n",
       "3   101.911727    2.000000      14.310445     406.737016            42.332021   \n",
       "4    32.310989    2.236068      12.875667     310.254734            23.130067   \n",
       "5   287.228132    2.449490      14.752850    1174.785087            23.130067   \n",
       "6   134.238594    2.828427      19.896435     363.093652            62.888791   \n",
       "7   170.950285    3.000000      33.081081     436.712720           104.623133   \n",
       "8    62.601917    3.162278      29.008223     213.100915           104.623133   \n",
       "9     7.000000  298.140906      29.008223     213.100915           104.623133   \n",
       "10   78.006410    3.316625      32.709741     201.044771           104.623133   \n",
       "11  213.014084    3.464102      14.866883     878.264197            94.519839   \n",
       "12  195.202459    3.605551      19.361430     634.775551            84.303025   \n",
       "13   10.000000  316.226185      19.361430     634.775551            84.303025   \n",
       "14    4.898979    8.124038       9.683569      70.512410            84.303025   \n",
       "15    6.928203    3.872983       6.738969     215.183643             9.055385   \n",
       "16   27.586228    4.000000      11.841872     196.384826            14.662878   \n",
       "17  309.665949    4.123106      28.150510     801.693832            14.662878   \n",
       "18  165.559657    4.242641      20.852682     442.422875            66.249528   \n",
       "19   82.855296    4.358899      22.250307     332.788221            66.249528   \n",
       "20   88.498588    4.472136      17.088131     266.838903            27.568098   \n",
       "21   70.462756    4.582576      13.520433     392.410499            44.833024   \n",
       "22   80.367904    4.690416      27.562309     534.761629            44.833024   \n",
       "23   25.416530    4.795832      11.632752     193.051807            15.198684   \n",
       "24  192.891161    4.898979      26.458526     464.036636            85.982556   \n",
       "25  287.930547    5.000000      35.928022     699.966428            94.323910   \n",
       "26  140.410114    5.099020      23.038828     661.114211            94.323910   \n",
       "27   68.242216    5.196152      17.700800     409.069676            48.041649   \n",
       "28   60.959003    5.291503      20.052352     347.390270            43.600459   \n",
       "29  104.345580    5.385165      13.705150     402.472359            43.600459   \n",
       "30    4.690416    5.477226       6.687599     172.412297             8.062258   \n",
       "31  104.804580    5.567764      23.978246     268.579597             8.062258   \n",
       "32   81.700673    5.656854      15.487349     301.945359             8.062258   \n",
       "33   49.020404    5.744563      16.866304     225.583687            19.570386   \n",
       "34  340.708086    5.830952      41.200841     728.932782            19.570386   \n",
       "35   64.436015    5.916080      17.356971     377.155140            33.749074   \n",
       "36  513.661367    6.000000      42.680443    1227.125095           276.423588   \n",
       "37   88.876319    6.082763      13.899305     526.880442           276.423588   \n",
       "38   27.276363    6.164414      16.580471     243.310501            11.916375   \n",
       "39    2.449490    8.306624       6.171071      61.781874            11.916375   \n",
       "40  166.297925    6.244998      15.868974     538.078061            72.097157   \n",
       "41   31.096624    6.324555      11.823870     379.961840            30.083218   \n",
       "42   47.444705    6.403124       9.493125     319.607572            26.888659   \n",
       "43  251.706178    6.480741      23.068413     591.354378            26.888659   \n",
       "44   52.354560    8.485281       9.884435      53.535035            26.888659   \n",
       "45  108.572556    6.633250      35.507183     347.171427            38.548671   \n",
       "46   57.593402    6.708204      13.349151     367.509184            38.000000   \n",
       "47   33.286634    6.782330      21.729228     174.324410            18.248288   \n",
       "48   79.523581    6.855655      16.419744     594.989916            38.923001   \n",
       "49  141.088625    6.928203      13.349460     877.633750            38.923001   \n",
       "50   56.542020    7.000000      15.507732     423.867904            25.119713   \n",
       "51    8.124038    7.071068      12.299785     158.297189            25.119713   \n",
       "52    1.414214    8.831761       8.020279      37.188708            25.119713   \n",
       "53  165.257375    7.141428      19.635220     461.113869            77.839579   \n",
       "54  133.917885    7.280110      15.783860     541.405578            77.839579   \n",
       "55   23.409400    7.348469       9.350777     283.973590            77.839579   \n",
       "56   72.138755    7.416198      15.177865     409.527777            46.486557   \n",
       "57   15.748016    7.483315      11.661072     137.258879             8.602325   \n",
       "\n",
       "    Mortality_Rate         UID      ISO3  Testing_Rate  Hospitalization_Rate  \n",
       "0         3.999387  437.951916  1.587401     57.913232              3.382138  \n",
       "1         2.493766  437.951917  1.587401     71.161366              3.382138  \n",
       "2         2.493766    2.519842  0.000000     14.928404              3.382138  \n",
       "3         5.011405  437.951921  1.587401     47.674515              3.467276  \n",
       "4         2.138717  437.951923  1.587401     56.477167              3.270105  \n",
       "5         4.066421  437.951924  1.587401     59.100709              3.270105  \n",
       "6         5.698118  437.951928  1.587401     47.847039              4.165186  \n",
       "7         9.044775  437.951930  1.587401     73.138929              5.296644  \n",
       "8         3.783256  437.951931  1.587401     68.290211              5.296644  \n",
       "9         0.000000  438.106338  1.587401     68.290211              5.296644  \n",
       "10        5.390015  437.951933  1.587401     75.677652              5.296644  \n",
       "11        4.415327  437.951935  1.587401     59.928157              4.338192  \n",
       "12        4.263712  437.951937  1.587401     61.604244              4.225676  \n",
       "13        2.912621  438.125634  1.587401     61.604244              4.225676  \n",
       "14        3.246753    6.811285  1.000000     55.022540              4.225676  \n",
       "15        2.643857  437.951940  1.587401     57.186993              3.571095  \n",
       "16        3.072626  437.951942  1.587401     46.455566              2.929063  \n",
       "17        4.506164  437.951944  1.587401     71.217878              2.929063  \n",
       "18        6.367425  437.951945  1.587401     53.921064              3.872057  \n",
       "19        2.516005  437.951947  1.587401     59.246602              3.872057  \n",
       "20        2.374515  437.951949  1.587401     49.437386              2.988950  \n",
       "21        4.603894  437.951950  1.587401     58.708357              4.960972  \n",
       "22        7.384755  437.951952  1.587401     78.431422              4.960972  \n",
       "23        4.013194  437.951954  1.587401     52.655045              3.563606  \n",
       "24        5.016185  437.951956  1.587401     59.680121              4.179479  \n",
       "25        6.818029  437.951957  1.587401     84.311871              3.162278  \n",
       "26        9.545549  437.951959  1.587401     66.154909              3.162278  \n",
       "27        4.448217  437.951961  1.587401     54.471822              3.614096  \n",
       "28        4.763099  437.951963  1.587401     63.678132              3.985643  \n",
       "29        5.551700  437.951964  1.587401     51.373938              3.985643  \n",
       "30        3.347280  437.951966  1.587401     52.738101              3.687591  \n",
       "31        1.240784  437.951968  1.587401     61.065930              3.687591  \n",
       "32        5.102870  437.951970  1.587401     54.405399              3.687591  \n",
       "33        4.912099  437.951971  1.587401     61.176466              3.146706  \n",
       "34        7.129119  437.951973  1.587401     77.344147              3.146706  \n",
       "35        4.479975  437.951975  1.587401     82.364208              4.246258  \n",
       "36        8.080819  437.951977  1.587401     87.981079              4.643513  \n",
       "37        3.583062  437.951978  1.587401     51.447467              4.643513  \n",
       "38        2.338902  437.951980  1.587401     88.138509              2.603467  \n",
       "39        9.523810    8.339551  1.259921     83.197820              2.603467  \n",
       "40        6.050414  437.951982  1.587401     49.768523              4.202220  \n",
       "41        5.404917  437.951984  1.587401     60.403006              4.044671  \n",
       "42        3.788477  437.951985  1.587401     49.212714              4.361343  \n",
       "43        7.001732  437.951987  1.587401     52.264776              4.361343  \n",
       "44        4.361479    8.572619  1.442250      9.884435              4.361343  \n",
       "45        4.028152  437.951990  1.587401    106.665012              3.335579  \n",
       "46        4.435967  437.951992  1.587401     51.217551              3.967168  \n",
       "47        1.101269  437.951994  1.587401     58.609802              2.823514  \n",
       "48        1.656528  437.951996  1.587401     71.998843              2.868506  \n",
       "49        2.759662  437.951997  1.587401     51.540089              2.868506  \n",
       "50        1.167315  437.951999  1.587401     74.860309              2.860800  \n",
       "51        5.720339  437.952001  1.587401     63.370150              2.860800  \n",
       "52        8.695652    9.472682  1.709976     35.906742              2.860800  \n",
       "53        3.266683  437.952003  1.587401     49.910649              4.290913  \n",
       "54        5.466238  437.952006  1.587401     62.042719              4.290913  \n",
       "55        4.403318  437.952008  1.587401     67.079704              4.290913  \n",
       "56        3.586073  437.952010  1.587401     53.669936              4.013880  \n",
       "57        1.397713  437.952011  1.587401     57.054719              3.066398  "
      ]
     },
     "execution_count": 154,
     "metadata": {},
     "output_type": "execute_result"
    }
   ],
   "source": [
    "x"
   ]
  },
  {
   "cell_type": "code",
   "execution_count": 155,
   "metadata": {},
   "outputs": [
    {
     "data": {
      "text/plain": [
       "0      22.847319\n",
       "1       3.162278\n",
       "2       0.000000\n",
       "3      27.331301\n",
       "4      10.344080\n",
       "5      59.135438\n",
       "6      36.041643\n",
       "7      59.405387\n",
       "8      17.606817\n",
       "9       0.000000\n",
       "10     20.174241\n",
       "11     45.782093\n",
       "12     41.194660\n",
       "13      1.732051\n",
       "14      2.236068\n",
       "15      4.123106\n",
       "16      8.774964\n",
       "17     67.268120\n",
       "18     43.174066\n",
       "19     19.824228\n",
       "20     14.212670\n",
       "21     19.390719\n",
       "22     51.068581\n",
       "23      8.544004\n",
       "24     46.076024\n",
       "25     77.884530\n",
       "26     71.133677\n",
       "27     28.035692\n",
       "28     23.874673\n",
       "29     25.298221\n",
       "30      4.000000\n",
       "31     11.747340\n",
       "32     19.416488\n",
       "33     13.784049\n",
       "34    103.677384\n",
       "35     16.822604\n",
       "36    169.221748\n",
       "37     26.944387\n",
       "38      7.000000\n",
       "39      1.414214\n",
       "40     42.201896\n",
       "41     17.291616\n",
       "42     12.000000\n",
       "43     69.065187\n",
       "44     11.180340\n",
       "45     23.194827\n",
       "46     20.174241\n",
       "47      6.782330\n",
       "48     17.464249\n",
       "49     37.762415\n",
       "50      9.486833\n",
       "51      7.348469\n",
       "52      2.449490\n",
       "53     32.787193\n",
       "54     32.202484\n",
       "55      8.306624\n",
       "56     21.931712\n",
       "57      3.316625\n",
       "Name: Deaths, dtype: float64"
      ]
     },
     "execution_count": 155,
     "metadata": {},
     "output_type": "execute_result"
    }
   ],
   "source": [
    "y"
   ]
  },
  {
   "cell_type": "code",
   "execution_count": 156,
   "metadata": {},
   "outputs": [
    {
     "data": {
      "text/plain": [
       "(58, 15)"
      ]
     },
     "execution_count": 156,
     "metadata": {},
     "output_type": "execute_result"
    }
   ],
   "source": [
    "#checking the shape of independent and target varaible\n",
    "x.shape"
   ]
  },
  {
   "cell_type": "code",
   "execution_count": 157,
   "metadata": {},
   "outputs": [
    {
     "data": {
      "text/plain": [
       "(58,)"
      ]
     },
     "execution_count": 157,
     "metadata": {},
     "output_type": "execute_result"
    }
   ],
   "source": [
    "y.shape"
   ]
  },
  {
   "cell_type": "markdown",
   "metadata": {},
   "source": [
    "# splitting the data "
   ]
  },
  {
   "cell_type": "code",
   "execution_count": 158,
   "metadata": {},
   "outputs": [],
   "source": [
    "from sklearn.preprocessing import StandardScaler\n",
    "sc= StandardScaler()\n",
    "scaled=sc.fit_transform(x)"
   ]
  },
  {
   "cell_type": "code",
   "execution_count": 159,
   "metadata": {},
   "outputs": [
    {
     "name": "stdout",
     "output_type": "stream",
     "text": [
      "best accuracy 99.57716408245129found on random_state 197\n"
     ]
    }
   ],
   "source": [
    "#finding the best random state\n",
    "from sklearn.model_selection import train_test_split\n",
    "from sklearn.linear_model import LinearRegression\n",
    "from sklearn.model_selection import cross_val_score\n",
    "from sklearn.metrics import r2_score\n",
    "from sklearn.metrics import mean_absolute_error, mean_squared_error\n",
    "\n",
    "\n",
    "best_rstate=0\n",
    "accu=0\n",
    "for i in range(30,200):\n",
    "    x_train,x_test,y_train,y_test = train_test_split(x,y,test_size=.25,random_state=i)\n",
    "    mod=LinearRegression()\n",
    "    mod.fit(x_train,y_train)\n",
    "    y_pred=mod.predict(x_test)\n",
    "    tempaccu=r2_score(y_test,y_pred)\n",
    "    if tempaccu>accu:\n",
    "        accu=tempaccu\n",
    "        best_rstate=i\n",
    "        \n",
    "print(f\"best accuracy {accu*100}found on random_state {best_rstate}\")"
   ]
  },
  {
   "cell_type": "code",
   "execution_count": 161,
   "metadata": {},
   "outputs": [],
   "source": [
    "#splitting the data into training and testing data\n",
    "\n",
    "from sklearn.model_selection import train_test_split\n",
    "x_train,x_test,y_train,y_test = train_test_split(x,y,test_size=0.25,random_state=197)"
   ]
  },
  {
   "cell_type": "code",
   "execution_count": 162,
   "metadata": {},
   "outputs": [
    {
     "data": {
      "text/plain": [
       "(43, 15)"
      ]
     },
     "execution_count": 162,
     "metadata": {},
     "output_type": "execute_result"
    }
   ],
   "source": [
    "x_train.shape"
   ]
  },
  {
   "cell_type": "code",
   "execution_count": 163,
   "metadata": {},
   "outputs": [
    {
     "data": {
      "text/plain": [
       "(43,)"
      ]
     },
     "execution_count": 163,
     "metadata": {},
     "output_type": "execute_result"
    }
   ],
   "source": [
    "y_train.shape"
   ]
  },
  {
   "cell_type": "code",
   "execution_count": 164,
   "metadata": {},
   "outputs": [
    {
     "data": {
      "text/plain": [
       "(15, 15)"
      ]
     },
     "execution_count": 164,
     "metadata": {},
     "output_type": "execute_result"
    }
   ],
   "source": [
    "x_test.shape"
   ]
  },
  {
   "cell_type": "code",
   "execution_count": 165,
   "metadata": {},
   "outputs": [
    {
     "data": {
      "text/plain": [
       "(15,)"
      ]
     },
     "execution_count": 165,
     "metadata": {},
     "output_type": "execute_result"
    }
   ],
   "source": [
    "y_test.shape"
   ]
  },
  {
   "cell_type": "markdown",
   "metadata": {},
   "source": [
    "# finding the best model"
   ]
  },
  {
   "cell_type": "code",
   "execution_count": 166,
   "metadata": {},
   "outputs": [],
   "source": [
    "from sklearn.linear_model import Lasso,Ridge"
   ]
  },
  {
   "cell_type": "code",
   "execution_count": 167,
   "metadata": {},
   "outputs": [
    {
     "data": {
      "text/plain": [
       "0.9864327382344192"
      ]
     },
     "execution_count": 167,
     "metadata": {},
     "output_type": "execute_result"
    }
   ],
   "source": [
    "ls=Lasso(alpha=0.0001)\n",
    "ls.fit(x_train,y_train)\n",
    "ls.score(x_train,y_train)"
   ]
  },
  {
   "cell_type": "code",
   "execution_count": 168,
   "metadata": {},
   "outputs": [
    {
     "data": {
      "text/plain": [
       "array([-1.95683507e-02,  0.00000000e+00,  0.00000000e+00,  3.27384412e-01,\n",
       "        2.72633018e-02,  8.08280098e-03,  6.91433606e-02, -5.04643359e-01,\n",
       "       -3.47828140e-02,  6.37898567e-03,  2.28716630e+00,  1.80398159e-02,\n",
       "       -6.53198694e+00,  1.30984830e-01,  1.07922225e+00])"
      ]
     },
     "execution_count": 168,
     "metadata": {},
     "output_type": "execute_result"
    }
   ],
   "source": [
    "ls.coef_"
   ]
  },
  {
   "cell_type": "code",
   "execution_count": 169,
   "metadata": {},
   "outputs": [
    {
     "data": {
      "text/plain": [
       "0.9861421980049347"
      ]
     },
     "execution_count": 169,
     "metadata": {},
     "output_type": "execute_result"
    }
   ],
   "source": [
    "rs=Ridge(alpha=0.0001)\n",
    "rd=Ridge()\n",
    "rd.fit(x_train,y_train)\n",
    "rd.score(x_train,y_train)"
   ]
  },
  {
   "cell_type": "code",
   "execution_count": 170,
   "metadata": {},
   "outputs": [
    {
     "data": {
      "text/plain": [
       "array([-0.03319159,  0.        ,  0.        ,  0.320705  ,  0.03251338,\n",
       "        0.0157578 ,  0.06785809, -0.52264618, -0.03533285,  0.00898508,\n",
       "        2.16221392,  0.0145938 , -3.53169184,  0.13189908,  0.87780058])"
      ]
     },
     "execution_count": 170,
     "metadata": {},
     "output_type": "execute_result"
    }
   ],
   "source": [
    "rd.coef_\n"
   ]
  },
  {
   "cell_type": "code",
   "execution_count": 171,
   "metadata": {},
   "outputs": [
    {
     "name": "stdout",
     "output_type": "stream",
     "text": [
      "accuracy=99.57716408245129, Cross_val_score = 78.71331216525957 $ difference = 20.863851917191724\n"
     ]
    }
   ],
   "source": [
    "from sklearn.linear_model import LinearRegression\n",
    "LR=LinearRegression()\n",
    "LR.fit(x_train,y_train)\n",
    "y_pred=LR.predict(x_test)\n",
    "r2score=r2_score(y_test,y_pred)\n",
    "cvscore=cross_val_score(LinearRegression(),x_train,y_train,cv=5).mean()\n",
    "print(f\"accuracy={r2score*100}, Cross_val_score = {cvscore*100} $ difference = {(r2score*100)-(cvscore*100)}\")"
   ]
  },
  {
   "cell_type": "markdown",
   "metadata": {},
   "source": [
    "Random forest"
   ]
  },
  {
   "cell_type": "code",
   "execution_count": 172,
   "metadata": {},
   "outputs": [
    {
     "name": "stdout",
     "output_type": "stream",
     "text": [
      "accuracy=86.45436993020046, Cross_val_score = 75.99011648386985 $ difference = 10.464253446330602\n"
     ]
    }
   ],
   "source": [
    "#randomo forestregressor\n",
    "from sklearn.ensemble import RandomForestRegressor\n",
    "RF=RandomForestRegressor()\n",
    "RF.fit(x_train,y_train)\n",
    "y_pred=RF.predict(x_test)\n",
    "r2score=r2_score(y_test,y_pred)\n",
    "cvscore=cross_val_score(RandomForestRegressor(),x_train,y_train,cv=5).mean()\n",
    "print(f\"accuracy={r2score*100}, Cross_val_score = {cvscore*100} $ difference = {(r2score*100)-(cvscore*100)}\")"
   ]
  },
  {
   "cell_type": "markdown",
   "metadata": {},
   "source": [
    "SGDregressor"
   ]
  },
  {
   "cell_type": "code",
   "execution_count": 174,
   "metadata": {},
   "outputs": [
    {
     "name": "stdout",
     "output_type": "stream",
     "text": [
      "accuracy=-3.393291384102774e+28, Cross_val_score = -2.1274113399505253e+29 $ difference = 1.7880822015402478e+29\n"
     ]
    }
   ],
   "source": [
    "#SGDRegressor\n",
    "from sklearn.linear_model import SGDRegressor\n",
    "SGD=SGDRegressor()\n",
    "SGD.fit(x_train,y_train)\n",
    "y_pred=SGD.predict(x_test)\n",
    "r2score=r2_score(y_test,y_pred)\n",
    "cvscore=cross_val_score(SGDRegressor(),x_train,y_train,cv=5).mean()\n",
    "print(f\"accuracy={r2score*100}, Cross_val_score = {cvscore*100} $ difference = {(r2score*100)-(cvscore*100)}\")"
   ]
  },
  {
   "cell_type": "markdown",
   "metadata": {},
   "source": [
    "Adaboost Regressor"
   ]
  },
  {
   "cell_type": "code",
   "execution_count": 175,
   "metadata": {},
   "outputs": [
    {
     "name": "stdout",
     "output_type": "stream",
     "text": [
      "accuracy=80.38111811453707, Cross_val_score = 76.26112908281226 $ difference = 4.119989031724813\n"
     ]
    }
   ],
   "source": [
    "#adaBoostRegessor\n",
    "from sklearn.ensemble import AdaBoostRegressor\n",
    "ADB=AdaBoostRegressor()\n",
    "ADB.fit(x_train,y_train)\n",
    "y_pred=ADB.predict(x_test)\n",
    "r2score=r2_score(y_test,y_pred)\n",
    "cvscore=cross_val_score(AdaBoostRegressor(),x_train,y_train,cv=5).mean()\n",
    "print(f\"accuracy={r2score*100}, Cross_val_score = {cvscore*100} $ difference = {(r2score*100)-(cvscore*100)}\")"
   ]
  },
  {
   "cell_type": "markdown",
   "metadata": {},
   "source": [
    ", ridge model, linear regression and random forest is performinig the best with 99.,99.5 and 89.5 % accuracy"
   ]
  },
  {
   "cell_type": "markdown",
   "metadata": {},
   "source": [
    "# cross valitidating the models"
   ]
  },
  {
   "cell_type": "code",
   "execution_count": 176,
   "metadata": {
    "scrolled": false
   },
   "outputs": [
    {
     "name": "stdout",
     "output_type": "stream",
     "text": [
      "score of LinearRegression() is:\n",
      "score: [0.93422859 0.96150464 0.98692622 0.96601539 0.85888774]\n",
      "mean score: 0.9415125170694145\n",
      "Standard deviation 0.04459235207426708\n",
      "********************************************\n",
      "\n",
      "\n",
      "score of RandomForestRegressor() is:\n",
      "score: [0.85842873 0.91837576 0.82850536 0.66791595 0.3064799 ]\n",
      "mean score: 0.7159411389175856\n",
      "Standard deviation 0.2208701493887765\n",
      "********************************************\n",
      "\n",
      "\n",
      "score of SGDRegressor() is:\n",
      "score: [-1.11813305e+27 -2.23900326e+27 -1.50380977e+26 -7.34101421e+25\n",
      " -1.25294725e+27]\n",
      "mean score: -9.66774936535094e+26\n",
      "Standard deviation 7.984946510640608e+26\n",
      "********************************************\n",
      "\n",
      "\n",
      "score of AdaBoostRegressor() is:\n",
      "score: [0.91121508 0.87736862 0.75574941 0.80631532 0.13346483]\n",
      "mean score: 0.6968226511271649\n",
      "Standard deviation 0.28684281637291875\n",
      "********************************************\n",
      "\n",
      "\n",
      "score of Lasso() is:\n",
      "score: [0.94174082 0.94934172 0.98470597 0.9769221  0.78896844]\n",
      "mean score: 0.9283358117690697\n",
      "Standard deviation 0.07152961307390121\n",
      "********************************************\n",
      "\n",
      "\n",
      "score of Ridge() is:\n",
      "score: [0.92273121 0.95881611 0.98589883 0.97100634 0.8605947 ]\n",
      "mean score: 0.9398094379637596\n",
      "Standard deviation 0.04477806041794296\n",
      "********************************************\n",
      "\n",
      "\n",
      "score of ElasticNet() is:\n",
      "score: [0.93849969 0.94597964 0.98361691 0.97945054 0.78485408]\n",
      "mean score: 0.9264801730156902\n",
      "Standard deviation 0.07301111315643931\n",
      "********************************************\n",
      "\n",
      "\n"
     ]
    }
   ],
   "source": [
    "from sklearn.model_selection import cross_val_score\n",
    "model=[LinearRegression(),RandomForestRegressor(),SGDRegressor(),AdaBoostRegressor(),Lasso(),Ridge(),ElasticNet()]\n",
    "for m in model:\n",
    "    score=cross_val_score(m,x,y,cv=5,scoring='r2')\n",
    "    print('score of',m,'is:')\n",
    "    print('score:',score)\n",
    "    print('mean score:', score.mean())\n",
    "    print('Standard deviation',score.std())\n",
    "    print('********************************************')\n",
    "    print('\\n')"
   ]
  },
  {
   "cell_type": "code",
   "execution_count": 178,
   "metadata": {},
   "outputs": [
    {
     "data": {
      "text/plain": [
       "{'alpha': 0.001, 'random_state': 42}"
      ]
     },
     "execution_count": 178,
     "metadata": {},
     "output_type": "execute_result"
    }
   ],
   "source": [
    "#ridge model is giving best results so finding the best parameters using Gridsearchcv\n",
    "from sklearn.model_selection import GridSearchCV\n",
    "ridge=Ridge()\n",
    "parameters={'alpha':[0.001,0.01,0.1,1],'random_state':range(42,100)}\n",
    "clf=GridSearchCV(ridge,parameters)\n",
    "clf.fit(x,y)\n",
    "clf.best_params_"
   ]
  },
  {
   "cell_type": "code",
   "execution_count": 179,
   "metadata": {},
   "outputs": [
    {
     "name": "stdout",
     "output_type": "stream",
     "text": [
      "score: 0.9861421980049347\n",
      "\n",
      "\n",
      "Mean absolute error: 1.524795902667765\n",
      "Mean squared error: 3.066371654290008\n",
      "Root mean squared error: 1.7511058375466653\n",
      "\n",
      "\n",
      "r2_score: 0.9955762647918472\n"
     ]
    }
   ],
   "source": [
    "#using Ridge model with best results\n",
    "\n",
    "ridge=Ridge(alpha=1,random_state=42)\n",
    "ridge.fit(x_train,y_train)\n",
    "print('score:', ridge.score(x_train,y_train))\n",
    "predrd=ridge.predict(x_test)\n",
    "print('\\n')\n",
    "print('Mean absolute error:',mean_absolute_error(y_test,predrd))\n",
    "print('Mean squared error:', mean_squared_error(y_test,predrd))\n",
    "print('Root mean squared error:',np.sqrt(mean_squared_error(y_test,predrd)))\n",
    "print('\\n')\n",
    "print('r2_score:', r2_score(y_test,predrd))"
   ]
  },
  {
   "cell_type": "code",
   "execution_count": 181,
   "metadata": {},
   "outputs": [
    {
     "data": {
      "image/png": "[encoded data removed]",
      "text/plain": [
       "<Figure size 432x288 with 1 Axes>"
      ]
     },
     "metadata": {
      "needs_background": "light"
     },
     "output_type": "display_data"
    }
   ],
   "source": [
    "#plotting Scatterplot between test data and predicted data for ridge\n",
    "plt.scatter(y_test,predrd)\n",
    "plt.xlabel('y_test')\n",
    "plt.ylabel('predicted Y')\n",
    "plt.title('scatter plot between test data and predicted data')\n",
    "plt.show()"
   ]
  },
  {
   "cell_type": "code",
   "execution_count": 184,
   "metadata": {},
   "outputs": [
    {
     "data": {
      "text/plain": [
       "['covid.pkl']"
      ]
     },
     "execution_count": 184,
     "metadata": {},
     "output_type": "execute_result"
    }
   ],
   "source": [
    "#saving the Ridgeregressor\n",
    "import joblib\n",
    "joblib.dump(rd,'covid.pkl')"
   ]
  },
  {
   "cell_type": "code",
   "execution_count": null,
   "metadata": {},
   "outputs": [],
   "source": []
  }
 ],
 "metadata": {
  "kernelspec": {
   "display_name": "Python 3",
   "language": "python",
   "name": "python3"
  },
  "language_info": {
   "codemirror_mode": {
    "name": "ipython",
    "version": 3
   },
   "file_extension": ".py",
   "mimetype": "text/x-python",
   "name": "python",
   "nbconvert_exporter": "python",
   "pygments_lexer": "ipython3",
   "version": "3.8.3"
  }
 },
 "nbformat": 4,
 "nbformat_minor": 4
}
